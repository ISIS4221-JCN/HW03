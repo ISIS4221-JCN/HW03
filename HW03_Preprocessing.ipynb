{
 "cells": [
  {
   "cell_type": "markdown",
   "metadata": {},
   "source": [
    "# HW03: Preprocessing"
   ]
  },
  {
   "cell_type": "code",
   "execution_count": 1,
   "metadata": {},
   "outputs": [
    {
     "name": "stderr",
     "output_type": "stream",
     "text": [
      "[nltk_data] Downloading package wordnet to /root/nltk_data...\n",
      "[nltk_data]   Unzipping corpora/wordnet.zip.\n"
     ]
    }
   ],
   "source": [
    "# Import Libraries\n",
    "import os\n",
    "import nltk\n",
    "nltk.download('wordnet')\n",
    "\n",
    "import csv\n",
    "import string\n",
    "import glob\n",
    "import numpy as np\n",
    "import pandas as pd\n",
    "import matplotlib.pyplot as plt\n",
    "\n",
    "from gensim.parsing.porter import PorterStemmer\n",
    "from gensim.parsing.preprocessing import remove_stopwords\n",
    "from gensim.utils import simple_preprocess\n",
    "from gensim import corpora\n",
    "from gensim import models\n",
    "from gensim import similarities\n",
    "\n",
    "from sklearn.model_selection import train_test_split\n",
    "from sklearn.preprocessing import OneHotEncoder"
   ]
  },
  {
   "cell_type": "markdown",
   "metadata": {},
   "source": [
    "## Simpsons Dataset"
   ]
  },
  {
   "cell_type": "markdown",
   "metadata": {},
   "source": [
    "### Import data"
   ]
  },
  {
   "cell_type": "code",
   "execution_count": 2,
   "metadata": {},
   "outputs": [
    {
     "data": {
      "text/html": [
       "<div>\n",
       "<style scoped>\n",
       "    .dataframe tbody tr th:only-of-type {\n",
       "        vertical-align: middle;\n",
       "    }\n",
       "\n",
       "    .dataframe tbody tr th {\n",
       "        vertical-align: top;\n",
       "    }\n",
       "\n",
       "    .dataframe thead th {\n",
       "        text-align: right;\n",
       "    }\n",
       "</style>\n",
       "<table border=\"1\" class=\"dataframe\">\n",
       "  <thead>\n",
       "    <tr style=\"text-align: right;\">\n",
       "      <th></th>\n",
       "      <th>raw_character_text</th>\n",
       "      <th>spoken_words</th>\n",
       "    </tr>\n",
       "  </thead>\n",
       "  <tbody>\n",
       "    <tr>\n",
       "      <th>0</th>\n",
       "      <td>Miss Hoover</td>\n",
       "      <td>No, actually, it was a little of both. Sometimes when a disease is in all the magazines and all the news shows, it's only natural that you think you have it.</td>\n",
       "    </tr>\n",
       "    <tr>\n",
       "      <th>1</th>\n",
       "      <td>Lisa Simpson</td>\n",
       "      <td>Where's Mr. Bergstrom?</td>\n",
       "    </tr>\n",
       "    <tr>\n",
       "      <th>2</th>\n",
       "      <td>Miss Hoover</td>\n",
       "      <td>I don't know. Although I'd sure like to talk to him. He didn't touch my lesson plan. What did he teach you?</td>\n",
       "    </tr>\n",
       "    <tr>\n",
       "      <th>3</th>\n",
       "      <td>Lisa Simpson</td>\n",
       "      <td>That life is worth living.</td>\n",
       "    </tr>\n",
       "    <tr>\n",
       "      <th>4</th>\n",
       "      <td>Edna Krabappel-Flanders</td>\n",
       "      <td>The polls will be open from now until the end of recess. Now, just in case any of you have decided to put any thought into this, we'll have our final statements. Martin?</td>\n",
       "    </tr>\n",
       "    <tr>\n",
       "      <th>5</th>\n",
       "      <td>Martin Prince</td>\n",
       "      <td>I don't think there's anything left to say.</td>\n",
       "    </tr>\n",
       "    <tr>\n",
       "      <th>6</th>\n",
       "      <td>Edna Krabappel-Flanders</td>\n",
       "      <td>Bart?</td>\n",
       "    </tr>\n",
       "    <tr>\n",
       "      <th>7</th>\n",
       "      <td>Bart Simpson</td>\n",
       "      <td>Victory party under the slide!</td>\n",
       "    </tr>\n",
       "    <tr>\n",
       "      <th>8</th>\n",
       "      <td>NaN</td>\n",
       "      <td>NaN</td>\n",
       "    </tr>\n",
       "    <tr>\n",
       "      <th>9</th>\n",
       "      <td>Lisa Simpson</td>\n",
       "      <td>Mr. Bergstrom! Mr. Bergstrom!</td>\n",
       "    </tr>\n",
       "  </tbody>\n",
       "</table>\n",
       "</div>"
      ],
      "text/plain": [
       "        raw_character_text  \\\n",
       "0              Miss Hoover   \n",
       "1             Lisa Simpson   \n",
       "2              Miss Hoover   \n",
       "3             Lisa Simpson   \n",
       "4  Edna Krabappel-Flanders   \n",
       "5            Martin Prince   \n",
       "6  Edna Krabappel-Flanders   \n",
       "7             Bart Simpson   \n",
       "8                      NaN   \n",
       "9             Lisa Simpson   \n",
       "\n",
       "                                                                                                                                                                spoken_words  \n",
       "0              No, actually, it was a little of both. Sometimes when a disease is in all the magazines and all the news shows, it's only natural that you think you have it.  \n",
       "1                                                                                                                                                     Where's Mr. Bergstrom?  \n",
       "2                                                                I don't know. Although I'd sure like to talk to him. He didn't touch my lesson plan. What did he teach you?  \n",
       "3                                                                                                                                                 That life is worth living.  \n",
       "4  The polls will be open from now until the end of recess. Now, just in case any of you have decided to put any thought into this, we'll have our final statements. Martin?  \n",
       "5                                                                                                                                I don't think there's anything left to say.  \n",
       "6                                                                                                                                                                      Bart?  \n",
       "7                                                                                                                                             Victory party under the slide!  \n",
       "8                                                                                                                                                                        NaN  \n",
       "9                                                                                                                                              Mr. Bergstrom! Mr. Bergstrom!  "
      ]
     },
     "execution_count": 2,
     "metadata": {},
     "output_type": "execute_result"
    }
   ],
   "source": [
    "# Set pandas columns option\n",
    "pd.set_option('display.max_colwidth', 1000)\n",
    "pd.set_option(\"max_rows\", 30)\n",
    "\n",
    "# Import Simpsons data\n",
    "raw_df = pd.read_csv('./data/raw/simpsons_dataset.csv', sep = ',')\n",
    "\n",
    "# Glimpse at the dataset\n",
    "raw_df.head(10)"
   ]
  },
  {
   "cell_type": "code",
   "execution_count": 3,
   "metadata": {},
   "outputs": [
    {
     "data": {
      "text/html": [
       "<div>\n",
       "<style scoped>\n",
       "    .dataframe tbody tr th:only-of-type {\n",
       "        vertical-align: middle;\n",
       "    }\n",
       "\n",
       "    .dataframe tbody tr th {\n",
       "        vertical-align: top;\n",
       "    }\n",
       "\n",
       "    .dataframe thead th {\n",
       "        text-align: right;\n",
       "    }\n",
       "</style>\n",
       "<table border=\"1\" class=\"dataframe\">\n",
       "  <thead>\n",
       "    <tr style=\"text-align: right;\">\n",
       "      <th></th>\n",
       "      <th>spoken_words</th>\n",
       "    </tr>\n",
       "    <tr>\n",
       "      <th>raw_character_text</th>\n",
       "      <th></th>\n",
       "    </tr>\n",
       "  </thead>\n",
       "  <tbody>\n",
       "    <tr>\n",
       "      <th>Homer Simpson</th>\n",
       "      <td>27850</td>\n",
       "    </tr>\n",
       "    <tr>\n",
       "      <th>Marge Simpson</th>\n",
       "      <td>13172</td>\n",
       "    </tr>\n",
       "    <tr>\n",
       "      <th>Bart Simpson</th>\n",
       "      <td>12995</td>\n",
       "    </tr>\n",
       "    <tr>\n",
       "      <th>Lisa Simpson</th>\n",
       "      <td>10756</td>\n",
       "    </tr>\n",
       "    <tr>\n",
       "      <th>C. Montgomery Burns</th>\n",
       "      <td>3077</td>\n",
       "    </tr>\n",
       "    <tr>\n",
       "      <th>Moe Szyslak</th>\n",
       "      <td>2808</td>\n",
       "    </tr>\n",
       "    <tr>\n",
       "      <th>Seymour Skinner</th>\n",
       "      <td>2385</td>\n",
       "    </tr>\n",
       "    <tr>\n",
       "      <th>Ned Flanders</th>\n",
       "      <td>2056</td>\n",
       "    </tr>\n",
       "    <tr>\n",
       "      <th>Grampa Simpson</th>\n",
       "      <td>1802</td>\n",
       "    </tr>\n",
       "    <tr>\n",
       "      <th>Chief Wiggum</th>\n",
       "      <td>1790</td>\n",
       "    </tr>\n",
       "  </tbody>\n",
       "</table>\n",
       "</div>"
      ],
      "text/plain": [
       "                     spoken_words\n",
       "raw_character_text               \n",
       "Homer Simpson               27850\n",
       "Marge Simpson               13172\n",
       "Bart Simpson                12995\n",
       "Lisa Simpson                10756\n",
       "C. Montgomery Burns          3077\n",
       "Moe Szyslak                  2808\n",
       "Seymour Skinner              2385\n",
       "Ned Flanders                 2056\n",
       "Grampa Simpson               1802\n",
       "Chief Wiggum                 1790"
      ]
     },
     "execution_count": 3,
     "metadata": {},
     "output_type": "execute_result"
    }
   ],
   "source": [
    "# Top 10 characters by spoken words\n",
    "raw_df.groupby(['raw_character_text']).count().sort_values(by=['spoken_words'], ascending=False).head(10)"
   ]
  },
  {
   "cell_type": "code",
   "execution_count": 4,
   "metadata": {},
   "outputs": [
    {
     "data": {
      "text/html": [
       "<div>\n",
       "<style scoped>\n",
       "    .dataframe tbody tr th:only-of-type {\n",
       "        vertical-align: middle;\n",
       "    }\n",
       "\n",
       "    .dataframe tbody tr th {\n",
       "        vertical-align: top;\n",
       "    }\n",
       "\n",
       "    .dataframe thead th {\n",
       "        text-align: right;\n",
       "    }\n",
       "</style>\n",
       "<table border=\"1\" class=\"dataframe\">\n",
       "  <thead>\n",
       "    <tr style=\"text-align: right;\">\n",
       "      <th></th>\n",
       "      <th>raw_character_text</th>\n",
       "      <th>spoken_words</th>\n",
       "    </tr>\n",
       "  </thead>\n",
       "  <tbody>\n",
       "    <tr>\n",
       "      <th>1</th>\n",
       "      <td>Lisa Simpson</td>\n",
       "      <td>Where's Mr. Bergstrom?</td>\n",
       "    </tr>\n",
       "    <tr>\n",
       "      <th>3</th>\n",
       "      <td>Lisa Simpson</td>\n",
       "      <td>That life is worth living.</td>\n",
       "    </tr>\n",
       "    <tr>\n",
       "      <th>7</th>\n",
       "      <td>Bart Simpson</td>\n",
       "      <td>Victory party under the slide!</td>\n",
       "    </tr>\n",
       "    <tr>\n",
       "      <th>9</th>\n",
       "      <td>Lisa Simpson</td>\n",
       "      <td>Mr. Bergstrom! Mr. Bergstrom!</td>\n",
       "    </tr>\n",
       "    <tr>\n",
       "      <th>11</th>\n",
       "      <td>Lisa Simpson</td>\n",
       "      <td>Do you know where I could find him?</td>\n",
       "    </tr>\n",
       "    <tr>\n",
       "      <th>13</th>\n",
       "      <td>Lisa Simpson</td>\n",
       "      <td>The train, how like him... traditional, yet environmentally sound.</td>\n",
       "    </tr>\n",
       "    <tr>\n",
       "      <th>15</th>\n",
       "      <td>Lisa Simpson</td>\n",
       "      <td>I see he touched you, too.</td>\n",
       "    </tr>\n",
       "    <tr>\n",
       "      <th>17</th>\n",
       "      <td>Bart Simpson</td>\n",
       "      <td>Hey, thanks for your vote, man.</td>\n",
       "    </tr>\n",
       "    <tr>\n",
       "      <th>19</th>\n",
       "      <td>Bart Simpson</td>\n",
       "      <td>Well, you got that right. Thanks for your vote, girls.</td>\n",
       "    </tr>\n",
       "    <tr>\n",
       "      <th>21</th>\n",
       "      <td>Bart Simpson</td>\n",
       "      <td>Well, don't sweat it. Just so long as a couple of people did... right, Milhouse?</td>\n",
       "    </tr>\n",
       "  </tbody>\n",
       "</table>\n",
       "</div>"
      ],
      "text/plain": [
       "   raw_character_text  \\\n",
       "1        Lisa Simpson   \n",
       "3        Lisa Simpson   \n",
       "7        Bart Simpson   \n",
       "9        Lisa Simpson   \n",
       "11       Lisa Simpson   \n",
       "13       Lisa Simpson   \n",
       "15       Lisa Simpson   \n",
       "17       Bart Simpson   \n",
       "19       Bart Simpson   \n",
       "21       Bart Simpson   \n",
       "\n",
       "                                                                        spoken_words  \n",
       "1                                                             Where's Mr. Bergstrom?  \n",
       "3                                                         That life is worth living.  \n",
       "7                                                     Victory party under the slide!  \n",
       "9                                                      Mr. Bergstrom! Mr. Bergstrom!  \n",
       "11                                               Do you know where I could find him?  \n",
       "13                The train, how like him... traditional, yet environmentally sound.  \n",
       "15                                                        I see he touched you, too.  \n",
       "17                                                   Hey, thanks for your vote, man.  \n",
       "19                            Well, you got that right. Thanks for your vote, girls.  \n",
       "21  Well, don't sweat it. Just so long as a couple of people did... right, Milhouse?  "
      ]
     },
     "execution_count": 4,
     "metadata": {},
     "output_type": "execute_result"
    }
   ],
   "source": [
    "# Filter by main characters\n",
    "simpsons_df= raw_df.loc[(raw_df['raw_character_text']=='Homer Simpson') \n",
    "                        | (raw_df['raw_character_text']=='Marge Simpson') \n",
    "                        | (raw_df['raw_character_text']=='Bart Simpson') \n",
    "                        | (raw_df['raw_character_text']=='Lisa Simpson') ].dropna()\n",
    "\n",
    "\n",
    "simpsons_df.head(10)"
   ]
  },
  {
   "cell_type": "markdown",
   "metadata": {},
   "source": [
    "### Process Data"
   ]
  },
  {
   "cell_type": "code",
   "execution_count": 5,
   "metadata": {},
   "outputs": [],
   "source": [
    "# Colloquial dict contractions\n",
    "contraction_colloq_dict = {\"btw\": \"by the way\", \"ain't\": \"is not\", \"aren't\": \"are not\",\"can't\": \"cannot\", \"'cause\": \"because\", \"could've\": \"could have\", \"couldn't\": \"could not\", \"didn't\": \"did not\",  \"doesn't\": \"does not\", \"don't\": \"do not\", \"hadn't\": \"had not\", \"hasn't\": \"has not\", \"haven't\": \"have not\", \"he'd\": \"he would\",\"he'll\": \"he will\", \"he's\": \"he is\", \"how'd\": \"how did\", \"how'd'y\": \"how do you\", \"how'll\": \"how will\", \"how's\": \"how is\",  \"I'd\": \"I would\", \"I'd've\": \"I would have\", \"I'll\": \"I will\", \"I'll've\": \"I will have\",\"I'm\": \"I am\", \"I've\": \"I have\", \"i'd\": \"i would\", \"i'd've\": \"i would have\", \"i'll\": \"i will\",  \"i'll've\": \"i will have\",\"i'm\": \"i am\", \"i've\": \"i have\", \"isn't\": \"is not\", \"it'd\": \"it would\", \"it'd've\": \"it would have\", \"it'll\": \"it will\", \"it'll've\": \"it will have\",\"it's\": \"it is\", \"let's\": \"let us\", \"ma'am\": \"madam\", \"mayn't\": \"may not\", \"might've\": \"might have\",\"mightn't\": \"might not\",\"mightn't've\": \"might not have\", \"must've\": \"must have\", \"mustn't\": \"must not\", \"mustn't've\": \"must not have\", \"needn't\": \"need not\", \"needn't've\": \"need not have\",\"o'clock\": \"of the clock\", \"oughtn't\": \"ought not\", \"oughtn't've\": \"ought not have\", \"shan't\": \"shall not\", \"sha'n't\": \"shall not\", \"shan't've\": \"shall not have\", \"she'd\": \"she would\", \"she'd've\": \"she would have\", \"she'll\": \"she will\", \"she'll've\": \"she will have\", \"she's\": \"she is\", \"should've\": \"should have\", \"shouldn't\": \"should not\", \"shouldn't've\": \"should not have\", \"so've\": \"so have\",\"so's\": \"so as\", \"this's\": \"this is\",\"that'd\": \"that would\", \"that'd've\": \"that would have\", \"that's\": \"that is\", \"there'd\": \"there would\", \"there'd've\": \"there would have\", \"there's\": \"there is\", \"here's\": \"here is\",\"they'd\": \"they would\", \"they'd've\": \"they would have\", \"they'll\": \"they will\", \"they'll've\": \"they will have\", \"they're\": \"they are\", \"they've\": \"they have\", \"to've\": \"to have\", \"wasn't\": \"was not\", \"we'd\": \"we would\", \"we'd've\": \"we would have\", \"we'll\": \"we will\", \"we'll've\": \"we will have\", \"we're\": \"we are\", \"we've\": \"we have\", \"weren't\": \"were not\", \"what'll\": \"what will\", \"what'll've\": \"what will have\", \"what're\": \"what are\",  \"what's\": \"what is\", \"what've\": \"what have\", \"when's\": \"when is\", \"when've\": \"when have\", \"where'd\": \"where did\", \"where's\": \"where is\", \"where've\": \"where have\", \"who'll\": \"who will\", \"who'll've\": \"who will have\", \"who's\": \"who is\", \"who've\": \"who have\", \"why's\": \"why is\", \"why've\": \"why have\", \"will've\": \"will have\", \"won't\": \"will not\", \"won't've\": \"will not have\", \"would've\": \"would have\", \"wouldn't\": \"would not\", \"wouldn't've\": \"would not have\", \"y'all\": \"you all\", \"y'all'd\": \"you all would\",\"y'all'd've\": \"you all would have\",\"y'all're\": \"you all are\",\"y'all've\": \"you all have\",\"you'd\": \"you would\", \"you'd've\": \"you would have\", \"where's\":\"where is\"}"
   ]
  },
  {
   "cell_type": "code",
   "execution_count": 6,
   "metadata": {},
   "outputs": [],
   "source": [
    "def process_text(text, p, tokenizer, lemmatizer):\n",
    "    \"\"\" Applies standard pre-processing to given text.\n",
    "    \n",
    "    Args:\n",
    "        p (gensim.parsing.porter.PorterStemmer): stemmer object.\n",
    "        tokenizer (nltk.tokenize.regexp.RegexpTokenizer): tokenizr object.\n",
    "        text (str): text to preprocess.\n",
    "    \n",
    "    Returns:\n",
    "        list: preprocessed text.\n",
    "    \n",
    "    \"\"\"\n",
    "    # Converts to lowercase\n",
    "    text_lc = text.lower()\n",
    "    \n",
    "    # Replace colloquial terms\n",
    "    for word in text_lc.split():\n",
    "        if word in list(contraction_colloq_dict.keys()):\n",
    "            text_lc = text_lc.replace(word, contraction_colloq_dict[word])\n",
    "    \n",
    "    # Removes stopwords\n",
    "    #text_sw = remove_stopwords(text_lc)\n",
    "    \n",
    "    # Stems text\n",
    "    #text_stem = p.stem_sentence(text_sw)\n",
    "    \n",
    "    # Tokenizes text and removes punctuation\n",
    "    text_tk = tokenizer.tokenize(text_lc)\n",
    "    \n",
    "    # Lemmatizes text\n",
    "    text_lm = []\n",
    "    for word in text_tk:\n",
    "        text_lm.append(lemmatizer.lemmatize(word))\n",
    "        \n",
    "    \n",
    "    # Returns preprocessed text\n",
    "    return text_lm\n"
   ]
  },
  {
   "cell_type": "code",
   "execution_count": 7,
   "metadata": {},
   "outputs": [],
   "source": [
    "def process_dataset(words, tags):\n",
    "    \"\"\" Applies standard pre-processing to given dataset\n",
    "    \n",
    "    Args:\n",
    "        words (str): List of strings to be processed.\n",
    "        tags (str): List of tags to be encoded.\n",
    "    \n",
    "    Returns:\n",
    "        X_train (str): List of tokenized text.\n",
    "        y_train (int): List of encoded tags.\n",
    "        X_test (str):List of tokenized text.\n",
    "        y_test (int): List of encoded tags.\n",
    "    \n",
    "    \"\"\"\n",
    "    # Simple preprocess to words\n",
    "    \n",
    "    # Creates PorterStemmer instance.\n",
    "    p = PorterStemmer()\n",
    "    # Creates lemmatizer instance\n",
    "    lemmatizer = nltk.stem.WordNetLemmatizer()\n",
    "    # Creates RegexpTokenizer (removes punctuation signs)\n",
    "    tokenizer = nltk.RegexpTokenizer(r'\\w+')\n",
    "    \n",
    "    # Apply preprocess to the whole dataset\n",
    "    X = []\n",
    "    for line in words:\n",
    "        # Simple preprocess using gensim\n",
    "        #X.append(simple_preprocess(line, deacc=False, min_len=1, max_len=15))\n",
    "        \n",
    "        # Full preprocess\n",
    "        X.append(process_text(line, p, tokenizer, lemmatizer))\n",
    "        \n",
    "    # Glipse at preprocess\n",
    "    print('Example of a tokenized line:')\n",
    "    print(words[0]) \n",
    "    print(X[0])\n",
    "    \n",
    "    # Encode tags\n",
    "    \n",
    "    # Create label encoder\n",
    "    oe = OneHotEncoder()\n",
    "    oe.fit(np.array(list(set(tags))).reshape(-1, 1))\n",
    "\n",
    "    # Apply encoder to the whole dataset\n",
    "    y = oe.transform(np.array(tags).reshape(-1, 1)).toarray()\n",
    "        \n",
    "    # Split dataset into training, validation and test\n",
    "    X_aux, X_test, y_aux, y_test = train_test_split(X, y, test_size=0.15, random_state=42)\n",
    "    X_train, X_val, y_train, y_val = train_test_split(X_aux, y_aux, test_size=0.1765, random_state=42)\n",
    "    \n",
    "    # Returns preprocessed dataset\n",
    "    return X_train, X_val, X_test, y_train, y_val, y_test"
   ]
  },
  {
   "cell_type": "code",
   "execution_count": 8,
   "metadata": {},
   "outputs": [
    {
     "name": "stdout",
     "output_type": "stream",
     "text": [
      "Example of a tokenized line:\n",
      "Where's Mr. Bergstrom?\n",
      "['where', 'is', 'mr', 'bergstrom']\n"
     ]
    }
   ],
   "source": [
    "# Extract text from df\n",
    "simpsons_words = simpsons_df['spoken_words'].values\n",
    "# Extract tags from df\n",
    "simpsons_tags = simpsons_df['raw_character_text'].values\n",
    "\n",
    "# Apply preprocess\n",
    "Xs_train, Xs_val, Xs_test, ys_train, ys_val, ys_test = process_dataset(simpsons_words, simpsons_tags)"
   ]
  },
  {
   "cell_type": "code",
   "execution_count": 9,
   "metadata": {},
   "outputs": [],
   "source": [
    "def plot_sentences_length(tokenized_sentences, title='Sentence Length Histogram'):\n",
    "    \"\"\" Plot histogram with sentences length\n",
    "    \n",
    "    Args:\n",
    "        tokenized_sentences (str): List of tokenized sentences\n",
    "    \n",
    "    \"\"\"\n",
    "    sentences_length = []\n",
    "    for x in tokenized_sentences:\n",
    "        sentences_length.append(len(x))\n",
    "        \n",
    "    bins= np.max(np.array(sentences_length))\n",
    "    \n",
    "    fig = plt.figure(figsize=(12,8))\n",
    "    plt.hist(np.array(sentences_length), bins=bins)\n",
    "    plt.xlim([1, 50])\n",
    "    plt.xlabel('Sentence Length')\n",
    "    plt.ylabel('Count')\n",
    "    plt.title(title)\n",
    "    plt.grid(True)\n",
    "    \n",
    "    plt.show()\n",
    "    \n",
    "    print('Tamaño promedio (mean) de la sentencias:')\n",
    "    print(np.mean(np.array(sentences_length)))\n",
    "    \n",
    "    print('Tamaño medio (median) de la sentencias:')\n",
    "    print(np.median(np.array(sentences_length)))"
   ]
  },
  {
   "cell_type": "code",
   "execution_count": 10,
   "metadata": {},
   "outputs": [
    {
     "data": {
      "image/png": "[encoded data removed]",
      "text/plain": [
       "<Figure size 864x576 with 1 Axes>"
      ]
     },
     "metadata": {
      "needs_background": "light"
     },
     "output_type": "display_data"
    },
    {
     "name": "stdout",
     "output_type": "stream",
     "text": [
      "Tamaño promedio (mean) de la sentencias:\n",
      "9.937978340942676\n",
      "Tamaño medio (median) de la sentencias:\n",
      "8.0\n"
     ]
    }
   ],
   "source": [
    "plot_sentences_length(Xs_train, 'Simpsons Sentence Length Histogram')"
   ]
  },
  {
   "cell_type": "code",
   "execution_count": 11,
   "metadata": {},
   "outputs": [],
   "source": [
    "# Save preprocess texts\n",
    "with open('./data/simpsons/X_train.csv',\"w\", newline='') as f:\n",
    "    csv.writer(f).writerows(Xs_train)\n",
    "    \n",
    "with open('./data/simpsons/X_val.csv',\"w\", newline='') as f:\n",
    "    csv.writer(f).writerows(Xs_val)\n",
    "    \n",
    "with open('./data/simpsons/X_test.csv',\"w\", newline='') as f:\n",
    "    csv.writer(f).writerows(Xs_test)"
   ]
  },
  {
   "cell_type": "code",
   "execution_count": 12,
   "metadata": {},
   "outputs": [],
   "source": [
    "# Save preprocess dataset\n",
    "np.savetxt('./data/simpsons/y_train.csv', ys_train)\n",
    "np.savetxt('./data/simpsons/y_val.csv', ys_val)\n",
    "np.savetxt('./data/simpsons/y_test.csv', ys_test)"
   ]
  },
  {
   "cell_type": "markdown",
   "metadata": {},
   "source": [
    "## Friends Dataset"
   ]
  },
  {
   "cell_type": "markdown",
   "metadata": {},
   "source": [
    "### Import Data"
   ]
  },
  {
   "cell_type": "code",
   "execution_count": 13,
   "metadata": {},
   "outputs": [],
   "source": [
    "nltk.download('wordnet')# Import Friends data\n",
    "\n",
    "# Text\n",
    "friends_words = []\n",
    "# Tag\n",
    "friends_tags = []\n",
    "\n",
    "# Dataset dir\n",
    "for dirname, _, filenames in os.walk('./data/raw/friends_dataset'):\n",
    "    # Files in dir\n",
    "    for filename in filenames:\n",
    "        # Open file\n",
    "        with open(os.path.join(dirname, filename), encoding=\"utf8\") as fp:\n",
    "            # Lines in file\n",
    "            line = fp.readline()\n",
    "            while line:\n",
    "                data  = line.strip().split(\": \")\n",
    "                # Verify not a blank line\n",
    "                if len(data) > 1:\n",
    "                    # Append tags and words\n",
    "                    if data[0] == 'Monica' or data[0] == 'Joey' or data[0] == 'Chandler' or data[0] == 'Phoebe' or data[0] == 'Ross' or data[0] == 'Rachel':\n",
    "                        friends_words.append(data[1])\n",
    "                        friends_tags.append(data[0])\n",
    "                line = fp.readline()\n",
    "                "
   ]
  },
  {
   "cell_type": "code",
   "execution_count": 14,
   "metadata": {},
   "outputs": [
    {
     "data": {
      "text/html": [
       "<div>\n",
       "<style scoped>\n",
       "    .dataframe tbody tr th:only-of-type {\n",
       "        vertical-align: middle;\n",
       "    }\n",
       "\n",
       "    .dataframe tbody tr th {\n",
       "        vertical-align: top;\n",
       "    }\n",
       "\n",
       "    .dataframe thead th {\n",
       "        text-align: right;\n",
       "    }\n",
       "</style>\n",
       "<table border=\"1\" class=\"dataframe\">\n",
       "  <thead>\n",
       "    <tr style=\"text-align: right;\">\n",
       "      <th></th>\n",
       "      <th>character</th>\n",
       "      <th>spoken_words</th>\n",
       "    </tr>\n",
       "  </thead>\n",
       "  <tbody>\n",
       "    <tr>\n",
       "      <th>0</th>\n",
       "      <td>Monica</td>\n",
       "      <td>(In a sexy voice) Come in. I've been waiting for you.</td>\n",
       "    </tr>\n",
       "    <tr>\n",
       "      <th>1</th>\n",
       "      <td>Rachel</td>\n",
       "      <td>Hi! I just wanna-(sees Monica)-Ahhh!!! Oh my God! (She runs out in horror.) Oh my God!</td>\n",
       "    </tr>\n",
       "    <tr>\n",
       "      <th>2</th>\n",
       "      <td>Monica</td>\n",
       "      <td>(pulling on a robe) Okay, I'm sorry! I'm sorry! I-I-I was um, I was taking a nap.</td>\n",
       "    </tr>\n",
       "    <tr>\n",
       "      <th>3</th>\n",
       "      <td>Rachel</td>\n",
       "      <td>Since when do take naps in that position. Oh God Monica, tell me you were waiting for a guy! Please tell me you were waiting for a guy!</td>\n",
       "    </tr>\n",
       "    <tr>\n",
       "      <th>4</th>\n",
       "      <td>Monica</td>\n",
       "      <td>Yes. Yes, I was. A guy. From work. (Thinks) I'm seeing a guy from work! Ha!</td>\n",
       "    </tr>\n",
       "    <tr>\n",
       "      <th>5</th>\n",
       "      <td>Rachel</td>\n",
       "      <td>(Gasps) That cute waiter guy from your restaurant, the one that looks like a non-threatening Ray Liotta?</td>\n",
       "    </tr>\n",
       "    <tr>\n",
       "      <th>6</th>\n",
       "      <td>Monica</td>\n",
       "      <td>Uh-huh, that one!</td>\n",
       "    </tr>\n",
       "    <tr>\n",
       "      <th>7</th>\n",
       "      <td>Rachel</td>\n",
       "      <td>Y'know what, just give me a second and I'll be out of your hair. I'm just gonna grab a jacket. When I get back, I want every little detail. (There's a knock on the door.) Maybe that's him. (Goes to answer the door.)</td>\n",
       "    </tr>\n",
       "    <tr>\n",
       "      <th>8</th>\n",
       "      <td>Monica</td>\n",
       "      <td>(Panicking) Okay, umm, okay, umm… (Rachel opens the door.) It's just Joey and Ross.</td>\n",
       "    </tr>\n",
       "    <tr>\n",
       "      <th>9</th>\n",
       "      <td>Rachel</td>\n",
       "      <td>Why aren't you guys at the movie?</td>\n",
       "    </tr>\n",
       "  </tbody>\n",
       "</table>\n",
       "</div>"
      ],
      "text/plain": [
       "  character  \\\n",
       "0    Monica   \n",
       "1    Rachel   \n",
       "2    Monica   \n",
       "3    Rachel   \n",
       "4    Monica   \n",
       "5    Rachel   \n",
       "6    Monica   \n",
       "7    Rachel   \n",
       "8    Monica   \n",
       "9    Rachel   \n",
       "\n",
       "                                                                                                                                                                                                              spoken_words  \n",
       "0                                                                                                                                                                    (In a sexy voice) Come in. I've been waiting for you.  \n",
       "1                                                                                                                                   Hi! I just wanna-(sees Monica)-Ahhh!!! Oh my God! (She runs out in horror.) Oh my God!  \n",
       "2                                                                                                                                        (pulling on a robe) Okay, I'm sorry! I'm sorry! I-I-I was um, I was taking a nap.  \n",
       "3                                                                                  Since when do take naps in that position. Oh God Monica, tell me you were waiting for a guy! Please tell me you were waiting for a guy!  \n",
       "4                                                                                                                                              Yes. Yes, I was. A guy. From work. (Thinks) I'm seeing a guy from work! Ha!  \n",
       "5                                                                                                                 (Gasps) That cute waiter guy from your restaurant, the one that looks like a non-threatening Ray Liotta?  \n",
       "6                                                                                                                                                                                                        Uh-huh, that one!  \n",
       "7  Y'know what, just give me a second and I'll be out of your hair. I'm just gonna grab a jacket. When I get back, I want every little detail. (There's a knock on the door.) Maybe that's him. (Goes to answer the door.)  \n",
       "8                                                                                                                                      (Panicking) Okay, umm, okay, umm… (Rachel opens the door.) It's just Joey and Ross.  \n",
       "9                                                                                                                                                                                        Why aren't you guys at the movie?  "
      ]
     },
     "execution_count": 14,
     "metadata": {},
     "output_type": "execute_result"
    }
   ],
   "source": [
    "# Glimpse at the dataset\n",
    "friends_df = pd.DataFrame()\n",
    "friends_df['character'] = friends_tags\n",
    "friends_df['spoken_words'] = friends_words\n",
    "friends_df.head(10)"
   ]
  },
  {
   "cell_type": "code",
   "execution_count": 15,
   "metadata": {},
   "outputs": [
    {
     "data": {
      "text/html": [
       "<div>\n",
       "<style scoped>\n",
       "    .dataframe tbody tr th:only-of-type {\n",
       "        vertical-align: middle;\n",
       "    }\n",
       "\n",
       "    .dataframe tbody tr th {\n",
       "        vertical-align: top;\n",
       "    }\n",
       "\n",
       "    .dataframe thead th {\n",
       "        text-align: right;\n",
       "    }\n",
       "</style>\n",
       "<table border=\"1\" class=\"dataframe\">\n",
       "  <thead>\n",
       "    <tr style=\"text-align: right;\">\n",
       "      <th></th>\n",
       "      <th>spoken_words</th>\n",
       "    </tr>\n",
       "    <tr>\n",
       "      <th>character</th>\n",
       "      <th></th>\n",
       "    </tr>\n",
       "  </thead>\n",
       "  <tbody>\n",
       "    <tr>\n",
       "      <th>Rachel</th>\n",
       "      <td>8506</td>\n",
       "    </tr>\n",
       "    <tr>\n",
       "      <th>Ross</th>\n",
       "      <td>8262</td>\n",
       "    </tr>\n",
       "    <tr>\n",
       "      <th>Chandler</th>\n",
       "      <td>7686</td>\n",
       "    </tr>\n",
       "    <tr>\n",
       "      <th>Monica</th>\n",
       "      <td>7620</td>\n",
       "    </tr>\n",
       "    <tr>\n",
       "      <th>Joey</th>\n",
       "      <td>7572</td>\n",
       "    </tr>\n",
       "    <tr>\n",
       "      <th>Phoebe</th>\n",
       "      <td>6831</td>\n",
       "    </tr>\n",
       "  </tbody>\n",
       "</table>\n",
       "</div>"
      ],
      "text/plain": [
       "           spoken_words\n",
       "character              \n",
       "Rachel             8506\n",
       "Ross               8262\n",
       "Chandler           7686\n",
       "Monica             7620\n",
       "Joey               7572\n",
       "Phoebe             6831"
      ]
     },
     "execution_count": 15,
     "metadata": {},
     "output_type": "execute_result"
    }
   ],
   "source": [
    "# Top 10 characters by spoken words\n",
    "friends_df.groupby(['character']).count().sort_values(by=['spoken_words'], ascending=False).head(10)"
   ]
  },
  {
   "cell_type": "markdown",
   "metadata": {},
   "source": [
    "### Process data"
   ]
  },
  {
   "cell_type": "code",
   "execution_count": 16,
   "metadata": {},
   "outputs": [
    {
     "name": "stdout",
     "output_type": "stream",
     "text": [
      "Example of a tokenized line:\n",
      "(In a sexy voice) Come in. I've been waiting for you.\n",
      "['in', 'a', 'sexy', 'voice', 'come', 'in', 'i', 'have', 'been', 'waiting', 'for', 'you']\n"
     ]
    }
   ],
   "source": [
    "# Apply preprocess\n",
    "Xf_train, Xf_val, Xf_test, yf_train, yf_val, yf_test = process_dataset(friends_words, friends_tags)"
   ]
  },
  {
   "cell_type": "code",
   "execution_count": 17,
   "metadata": {},
   "outputs": [
    {
     "data": {
      "image/png": "[encoded data removed]",
      "text/plain": [
       "<Figure size 864x576 with 1 Axes>"
      ]
     },
     "metadata": {
      "needs_background": "light"
     },
     "output_type": "display_data"
    },
    {
     "name": "stdout",
     "output_type": "stream",
     "text": [
      "Tamaño promedio (mean) de la sentencias:\n",
      "12.517244559203245\n",
      "Tamaño medio (median) de la sentencias:\n",
      "9.0\n"
     ]
    }
   ],
   "source": [
    "plot_sentences_length(Xf_train, 'Friends Sentence Length Histogram')"
   ]
  },
  {
   "cell_type": "code",
   "execution_count": 18,
   "metadata": {},
   "outputs": [],
   "source": [
    "# Save preprocess texts\n",
    "with open('./data/friends/X_train.csv',\"w\", newline='') as f:\n",
    "    csv.writer(f).writerows(Xf_train)\n",
    "    \n",
    "with open('./data/friends/X_val.csv',\"w\", newline='') as f:\n",
    "    csv.writer(f).writerows(Xf_val)\n",
    "    \n",
    "with open('./data/friends/X_test.csv',\"w\", newline='') as f:\n",
    "    csv.writer(f).writerows(Xf_test)"
   ]
  },
  {
   "cell_type": "code",
   "execution_count": 19,
   "metadata": {},
   "outputs": [],
   "source": [
    "# Save preprocess tags\n",
    "np.savetxt('./data/friends/y_train.csv', yf_train)\n",
    "np.savetxt('./data/friends/y_val.csv', yf_val)\n",
    "np.savetxt('./data/friends/y_test.csv', yf_test)"
   ]
  }
 ],
 "metadata": {
  "kernelspec": {
   "display_name": "Python 3",
   "language": "python",
   "name": "python3"
  },
  "language_info": {
   "codemirror_mode": {
    "name": "ipython",
    "version": 3
   },
   "file_extension": ".py",
   "mimetype": "text/x-python",
   "name": "python",
   "nbconvert_exporter": "python",
   "pygments_lexer": "ipython3",
   "version": "3.6.9"
  }
 },
 "nbformat": 4,
 "nbformat_minor": 4
}
