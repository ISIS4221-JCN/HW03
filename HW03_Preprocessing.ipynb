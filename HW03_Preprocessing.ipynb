{
 "cells": [
  {
   "cell_type": "markdown",
   "metadata": {},
   "source": [
    "# HW03: Preprocessing"
   ]
  },
  {
   "cell_type": "code",
   "execution_count": 1,
   "metadata": {},
   "outputs": [],
   "source": [
    "# Import Libraries\n",
    "import os\n",
    "import nltk\n",
    "import csv\n",
    "import string\n",
    "import glob\n",
    "import numpy as np\n",
    "import pandas as pd\n",
    "import matplotlib.pyplot as plt\n",
    "\n",
    "#from gensim.parsing.porter import PorterStemmer\n",
    "#from gensim.parsing.preprocessing import remove_stopwords\n",
    "from gensim.utils import simple_preprocess\n",
    "from gensim import corpora\n",
    "from gensim import models\n",
    "from gensim import similarities\n",
    "\n",
    "from sklearn.model_selection import train_test_split\n",
    "from sklearn.preprocessing import OneHotEncoder"
   ]
  },
  {
   "cell_type": "markdown",
   "metadata": {},
   "source": [
    "## Simpsons Dataset"
   ]
  },
  {
   "cell_type": "markdown",
   "metadata": {},
   "source": [
    "### Import data"
   ]
  },
  {
   "cell_type": "code",
   "execution_count": 2,
   "metadata": {},
   "outputs": [
    {
     "data": {
      "text/html": [
       "<div>\n",
       "<style scoped>\n",
       "    .dataframe tbody tr th:only-of-type {\n",
       "        vertical-align: middle;\n",
       "    }\n",
       "\n",
       "    .dataframe tbody tr th {\n",
       "        vertical-align: top;\n",
       "    }\n",
       "\n",
       "    .dataframe thead th {\n",
       "        text-align: right;\n",
       "    }\n",
       "</style>\n",
       "<table border=\"1\" class=\"dataframe\">\n",
       "  <thead>\n",
       "    <tr style=\"text-align: right;\">\n",
       "      <th></th>\n",
       "      <th>raw_character_text</th>\n",
       "      <th>spoken_words</th>\n",
       "    </tr>\n",
       "  </thead>\n",
       "  <tbody>\n",
       "    <tr>\n",
       "      <th>0</th>\n",
       "      <td>Miss Hoover</td>\n",
       "      <td>No, actually, it was a little of both. Sometim...</td>\n",
       "    </tr>\n",
       "    <tr>\n",
       "      <th>1</th>\n",
       "      <td>Lisa Simpson</td>\n",
       "      <td>Where's Mr. Bergstrom?</td>\n",
       "    </tr>\n",
       "    <tr>\n",
       "      <th>2</th>\n",
       "      <td>Miss Hoover</td>\n",
       "      <td>I don't know. Although I'd sure like to talk t...</td>\n",
       "    </tr>\n",
       "    <tr>\n",
       "      <th>3</th>\n",
       "      <td>Lisa Simpson</td>\n",
       "      <td>That life is worth living.</td>\n",
       "    </tr>\n",
       "    <tr>\n",
       "      <th>4</th>\n",
       "      <td>Edna Krabappel-Flanders</td>\n",
       "      <td>The polls will be open from now until the end ...</td>\n",
       "    </tr>\n",
       "    <tr>\n",
       "      <th>5</th>\n",
       "      <td>Martin Prince</td>\n",
       "      <td>I don't think there's anything left to say.</td>\n",
       "    </tr>\n",
       "    <tr>\n",
       "      <th>6</th>\n",
       "      <td>Edna Krabappel-Flanders</td>\n",
       "      <td>Bart?</td>\n",
       "    </tr>\n",
       "    <tr>\n",
       "      <th>7</th>\n",
       "      <td>Bart Simpson</td>\n",
       "      <td>Victory party under the slide!</td>\n",
       "    </tr>\n",
       "    <tr>\n",
       "      <th>8</th>\n",
       "      <td>NaN</td>\n",
       "      <td>NaN</td>\n",
       "    </tr>\n",
       "    <tr>\n",
       "      <th>9</th>\n",
       "      <td>Lisa Simpson</td>\n",
       "      <td>Mr. Bergstrom! Mr. Bergstrom!</td>\n",
       "    </tr>\n",
       "  </tbody>\n",
       "</table>\n",
       "</div>"
      ],
      "text/plain": [
       "        raw_character_text                                       spoken_words\n",
       "0              Miss Hoover  No, actually, it was a little of both. Sometim...\n",
       "1             Lisa Simpson                             Where's Mr. Bergstrom?\n",
       "2              Miss Hoover  I don't know. Although I'd sure like to talk t...\n",
       "3             Lisa Simpson                         That life is worth living.\n",
       "4  Edna Krabappel-Flanders  The polls will be open from now until the end ...\n",
       "5            Martin Prince        I don't think there's anything left to say.\n",
       "6  Edna Krabappel-Flanders                                              Bart?\n",
       "7             Bart Simpson                     Victory party under the slide!\n",
       "8                      NaN                                                NaN\n",
       "9             Lisa Simpson                      Mr. Bergstrom! Mr. Bergstrom!"
      ]
     },
     "execution_count": 2,
     "metadata": {},
     "output_type": "execute_result"
    }
   ],
   "source": [
    "# Import Simpsons data\n",
    "raw_df = pd.read_csv('./data/raw/simpsons_dataset.csv', sep = ',')\n",
    "\n",
    "# Glimpse at the dataset\n",
    "raw_df.head(10)"
   ]
  },
  {
   "cell_type": "code",
   "execution_count": 3,
   "metadata": {},
   "outputs": [
    {
     "data": {
      "text/html": [
       "<div>\n",
       "<style scoped>\n",
       "    .dataframe tbody tr th:only-of-type {\n",
       "        vertical-align: middle;\n",
       "    }\n",
       "\n",
       "    .dataframe tbody tr th {\n",
       "        vertical-align: top;\n",
       "    }\n",
       "\n",
       "    .dataframe thead th {\n",
       "        text-align: right;\n",
       "    }\n",
       "</style>\n",
       "<table border=\"1\" class=\"dataframe\">\n",
       "  <thead>\n",
       "    <tr style=\"text-align: right;\">\n",
       "      <th></th>\n",
       "      <th>spoken_words</th>\n",
       "    </tr>\n",
       "    <tr>\n",
       "      <th>raw_character_text</th>\n",
       "      <th></th>\n",
       "    </tr>\n",
       "  </thead>\n",
       "  <tbody>\n",
       "    <tr>\n",
       "      <th>Homer Simpson</th>\n",
       "      <td>27850</td>\n",
       "    </tr>\n",
       "    <tr>\n",
       "      <th>Marge Simpson</th>\n",
       "      <td>13172</td>\n",
       "    </tr>\n",
       "    <tr>\n",
       "      <th>Bart Simpson</th>\n",
       "      <td>12995</td>\n",
       "    </tr>\n",
       "    <tr>\n",
       "      <th>Lisa Simpson</th>\n",
       "      <td>10756</td>\n",
       "    </tr>\n",
       "    <tr>\n",
       "      <th>C. Montgomery Burns</th>\n",
       "      <td>3077</td>\n",
       "    </tr>\n",
       "    <tr>\n",
       "      <th>Moe Szyslak</th>\n",
       "      <td>2808</td>\n",
       "    </tr>\n",
       "    <tr>\n",
       "      <th>Seymour Skinner</th>\n",
       "      <td>2385</td>\n",
       "    </tr>\n",
       "    <tr>\n",
       "      <th>Ned Flanders</th>\n",
       "      <td>2056</td>\n",
       "    </tr>\n",
       "    <tr>\n",
       "      <th>Grampa Simpson</th>\n",
       "      <td>1802</td>\n",
       "    </tr>\n",
       "    <tr>\n",
       "      <th>Chief Wiggum</th>\n",
       "      <td>1790</td>\n",
       "    </tr>\n",
       "  </tbody>\n",
       "</table>\n",
       "</div>"
      ],
      "text/plain": [
       "                     spoken_words\n",
       "raw_character_text               \n",
       "Homer Simpson               27850\n",
       "Marge Simpson               13172\n",
       "Bart Simpson                12995\n",
       "Lisa Simpson                10756\n",
       "C. Montgomery Burns          3077\n",
       "Moe Szyslak                  2808\n",
       "Seymour Skinner              2385\n",
       "Ned Flanders                 2056\n",
       "Grampa Simpson               1802\n",
       "Chief Wiggum                 1790"
      ]
     },
     "execution_count": 3,
     "metadata": {},
     "output_type": "execute_result"
    }
   ],
   "source": [
    "# Top 10 characters by spoken words\n",
    "raw_df.groupby(['raw_character_text']).count().sort_values(by=['spoken_words'], ascending=False).head(10)"
   ]
  },
  {
   "cell_type": "code",
   "execution_count": 4,
   "metadata": {},
   "outputs": [
    {
     "data": {
      "text/html": [
       "<div>\n",
       "<style scoped>\n",
       "    .dataframe tbody tr th:only-of-type {\n",
       "        vertical-align: middle;\n",
       "    }\n",
       "\n",
       "    .dataframe tbody tr th {\n",
       "        vertical-align: top;\n",
       "    }\n",
       "\n",
       "    .dataframe thead th {\n",
       "        text-align: right;\n",
       "    }\n",
       "</style>\n",
       "<table border=\"1\" class=\"dataframe\">\n",
       "  <thead>\n",
       "    <tr style=\"text-align: right;\">\n",
       "      <th></th>\n",
       "      <th>raw_character_text</th>\n",
       "      <th>spoken_words</th>\n",
       "    </tr>\n",
       "  </thead>\n",
       "  <tbody>\n",
       "    <tr>\n",
       "      <th>1</th>\n",
       "      <td>Lisa Simpson</td>\n",
       "      <td>Where's Mr. Bergstrom?</td>\n",
       "    </tr>\n",
       "    <tr>\n",
       "      <th>3</th>\n",
       "      <td>Lisa Simpson</td>\n",
       "      <td>That life is worth living.</td>\n",
       "    </tr>\n",
       "    <tr>\n",
       "      <th>7</th>\n",
       "      <td>Bart Simpson</td>\n",
       "      <td>Victory party under the slide!</td>\n",
       "    </tr>\n",
       "    <tr>\n",
       "      <th>9</th>\n",
       "      <td>Lisa Simpson</td>\n",
       "      <td>Mr. Bergstrom! Mr. Bergstrom!</td>\n",
       "    </tr>\n",
       "    <tr>\n",
       "      <th>11</th>\n",
       "      <td>Lisa Simpson</td>\n",
       "      <td>Do you know where I could find him?</td>\n",
       "    </tr>\n",
       "    <tr>\n",
       "      <th>13</th>\n",
       "      <td>Lisa Simpson</td>\n",
       "      <td>The train, how like him... traditional, yet en...</td>\n",
       "    </tr>\n",
       "    <tr>\n",
       "      <th>15</th>\n",
       "      <td>Lisa Simpson</td>\n",
       "      <td>I see he touched you, too.</td>\n",
       "    </tr>\n",
       "    <tr>\n",
       "      <th>17</th>\n",
       "      <td>Bart Simpson</td>\n",
       "      <td>Hey, thanks for your vote, man.</td>\n",
       "    </tr>\n",
       "    <tr>\n",
       "      <th>19</th>\n",
       "      <td>Bart Simpson</td>\n",
       "      <td>Well, you got that right. Thanks for your vote...</td>\n",
       "    </tr>\n",
       "    <tr>\n",
       "      <th>21</th>\n",
       "      <td>Bart Simpson</td>\n",
       "      <td>Well, don't sweat it. Just so long as a couple...</td>\n",
       "    </tr>\n",
       "  </tbody>\n",
       "</table>\n",
       "</div>"
      ],
      "text/plain": [
       "   raw_character_text                                       spoken_words\n",
       "1        Lisa Simpson                             Where's Mr. Bergstrom?\n",
       "3        Lisa Simpson                         That life is worth living.\n",
       "7        Bart Simpson                     Victory party under the slide!\n",
       "9        Lisa Simpson                      Mr. Bergstrom! Mr. Bergstrom!\n",
       "11       Lisa Simpson                Do you know where I could find him?\n",
       "13       Lisa Simpson  The train, how like him... traditional, yet en...\n",
       "15       Lisa Simpson                         I see he touched you, too.\n",
       "17       Bart Simpson                    Hey, thanks for your vote, man.\n",
       "19       Bart Simpson  Well, you got that right. Thanks for your vote...\n",
       "21       Bart Simpson  Well, don't sweat it. Just so long as a couple..."
      ]
     },
     "execution_count": 4,
     "metadata": {},
     "output_type": "execute_result"
    }
   ],
   "source": [
    "# Filter by main characters\n",
    "simpsons_df= raw_df.loc[(raw_df['raw_character_text']=='Homer Simpson') \n",
    "                        | (raw_df['raw_character_text']=='Marge Simpson') \n",
    "                        | (raw_df['raw_character_text']=='Bart Simpson') \n",
    "                        | (raw_df['raw_character_text']=='Lisa Simpson') ].dropna()\n",
    "\n",
    "\n",
    "simpsons_df.head(10)"
   ]
  },
  {
   "cell_type": "markdown",
   "metadata": {},
   "source": [
    "### Process Data"
   ]
  },
  {
   "cell_type": "code",
   "execution_count": 12,
   "metadata": {},
   "outputs": [],
   "source": [
    "def process_dataset(words, tags):\n",
    "    \"\"\" Applies standard pre-processing to given dataset\n",
    "    \n",
    "    Args:\n",
    "        words (str): List of strings to be processed.\n",
    "        tags (str): List of tags to be encoded.\n",
    "    \n",
    "    Returns:\n",
    "        X_train (str): List of tokenized text.\n",
    "        y_train (int): List of encoded tags.\n",
    "        X_test (str):List of tokenized text.\n",
    "        y_test (int): List of encoded tags.\n",
    "    \n",
    "    \"\"\"\n",
    "    # Simple preprocess to words\n",
    "\n",
    "    # Glipse at preprocess\n",
    "    print('Example of a tokenized line:')\n",
    "    print(simple_preprocess(words[0], deacc=False, min_len=2, max_len=15))\n",
    "\n",
    "    # Apply preprocess to the whole dataset\n",
    "    X = []\n",
    "    for line in words:\n",
    "        #print(line)\n",
    "        X.append(simple_preprocess(line, deacc=False, min_len=2, max_len=15))\n",
    "        \n",
    "    # Encode tags\n",
    "    \n",
    "    # Create label encoder\n",
    "    oe = OneHotEncoder()\n",
    "    oe.fit(np.array(list(set(tags))).reshape(-1, 1))\n",
    "\n",
    "    # Apply encoder to the whole dataset\n",
    "    y = oe.transform(np.array(tags).reshape(-1, 1)).toarray()\n",
    "        \n",
    "    # Split dataset into training, validation and test\n",
    "    X_aux, X_test, y_aux, y_test = train_test_split(X, y, test_size=0.15, random_state=42)\n",
    "    X_train, X_val, y_train, y_val = train_test_split(X_aux, y_aux, test_size=0.1765, random_state=42)\n",
    "    \n",
    "    # Returns preprocessed dataset\n",
    "    return X_train, X_val, X_test, y_train, y_val, y_test"
   ]
  },
  {
   "cell_type": "code",
   "execution_count": 6,
   "metadata": {},
   "outputs": [
    {
     "name": "stdout",
     "output_type": "stream",
     "text": [
      "Example of a tokenized line:\n",
      "['where', 'mr', 'bergstrom']\n"
     ]
    }
   ],
   "source": [
    "# Extract text from df\n",
    "simpsons_words = simpsons_df['spoken_words'].values\n",
    "# Extract tags from df\n",
    "simpsons_tags = simpsons_df['raw_character_text'].values\n",
    "\n",
    "# Apply preprocess\n",
    "Xs_train, Xs_val, Xs_test, ys_train, ys_val, ys_test = process_dataset(simpsons_words, simpsons_tags)"
   ]
  },
  {
   "cell_type": "code",
   "execution_count": 7,
   "metadata": {},
   "outputs": [],
   "source": [
    "# Save preprocess texts\n",
    "with open('./data/simpsons/X_train.csv',\"w\", newline='') as f:\n",
    "    csv.writer(f).writerows(Xs_train)\n",
    "    \n",
    "with open('./data/simpsons/X_val.csv',\"w\", newline='') as f:\n",
    "    csv.writer(f).writerows(Xs_val)\n",
    "    \n",
    "with open('./data/simpsons/X_test.csv',\"w\", newline='') as f:\n",
    "    csv.writer(f).writerows(Xs_test)"
   ]
  },
  {
   "cell_type": "code",
   "execution_count": 8,
   "metadata": {},
   "outputs": [],
   "source": [
    "# Save preprocess dataset\n",
    "np.savetxt('./data/simpsons/y_train.csv', ys_train)\n",
    "np.savetxt('./data/simpsons/y_val.csv', ys_val)\n",
    "np.savetxt('./data/simpsons/y_test.csv', ys_test)"
   ]
  },
  {
   "cell_type": "markdown",
   "metadata": {},
   "source": [
    "## Friends Dataset"
   ]
  },
  {
   "cell_type": "markdown",
   "metadata": {},
   "source": [
    "### Import Data"
   ]
  },
  {
   "cell_type": "code",
   "execution_count": 9,
   "metadata": {},
   "outputs": [],
   "source": [
    "# Import Friends data\n",
    "\n",
    "# Text\n",
    "friends_words = []\n",
    "# Tag\n",
    "friends_tags = []\n",
    "\n",
    "# Dataset dir\n",
    "for dirname, _, filenames in os.walk('./data/raw/friends_dataset'):\n",
    "    # Files in dir\n",
    "    for filename in filenames:\n",
    "        # Open file\n",
    "        with open(os.path.join(dirname, filename), encoding=\"utf8\") as fp:\n",
    "            # Lines in file\n",
    "            line = fp.readline()\n",
    "            while line:\n",
    "                data  = line.strip().split(\": \")\n",
    "                # Verify not a blank line\n",
    "                if len(data) > 1:\n",
    "                    # Append tags and words\n",
    "                    if data[0] == 'Monica' or data[0] == 'Joey' or data[0] == 'Chandler' or data[0] == 'Phoebe' or data[0] == 'Ross' or data[0] == 'Rachel':\n",
    "                        friends_words.append(data[1])\n",
    "                        friends_tags.append(data[0])\n",
    "                line = fp.readline()\n",
    "                "
   ]
  },
  {
   "cell_type": "code",
   "execution_count": 10,
   "metadata": {},
   "outputs": [
    {
     "data": {
      "text/html": [
       "<div>\n",
       "<style scoped>\n",
       "    .dataframe tbody tr th:only-of-type {\n",
       "        vertical-align: middle;\n",
       "    }\n",
       "\n",
       "    .dataframe tbody tr th {\n",
       "        vertical-align: top;\n",
       "    }\n",
       "\n",
       "    .dataframe thead th {\n",
       "        text-align: right;\n",
       "    }\n",
       "</style>\n",
       "<table border=\"1\" class=\"dataframe\">\n",
       "  <thead>\n",
       "    <tr style=\"text-align: right;\">\n",
       "      <th></th>\n",
       "      <th>character</th>\n",
       "      <th>spoken_words</th>\n",
       "    </tr>\n",
       "  </thead>\n",
       "  <tbody>\n",
       "    <tr>\n",
       "      <th>0</th>\n",
       "      <td>Monica</td>\n",
       "      <td>There's nothing to tell! He's just some guy I ...</td>\n",
       "    </tr>\n",
       "    <tr>\n",
       "      <th>1</th>\n",
       "      <td>Joey</td>\n",
       "      <td>C'mon, you're going out with the guy! There's ...</td>\n",
       "    </tr>\n",
       "    <tr>\n",
       "      <th>2</th>\n",
       "      <td>Chandler</td>\n",
       "      <td>All right Joey, be nice.  So does he have a hu...</td>\n",
       "    </tr>\n",
       "    <tr>\n",
       "      <th>3</th>\n",
       "      <td>Phoebe</td>\n",
       "      <td>Wait, does he eat chalk?</td>\n",
       "    </tr>\n",
       "    <tr>\n",
       "      <th>4</th>\n",
       "      <td>Phoebe</td>\n",
       "      <td>Just, 'cause, I don't want her to go through w...</td>\n",
       "    </tr>\n",
       "    <tr>\n",
       "      <th>5</th>\n",
       "      <td>Monica</td>\n",
       "      <td>Okay, everybody relax. This is not even a date...</td>\n",
       "    </tr>\n",
       "    <tr>\n",
       "      <th>6</th>\n",
       "      <td>Chandler</td>\n",
       "      <td>Sounds like a date to me.</td>\n",
       "    </tr>\n",
       "    <tr>\n",
       "      <th>7</th>\n",
       "      <td>Chandler</td>\n",
       "      <td>Alright, so I'm back in high school, I'm stand...</td>\n",
       "    </tr>\n",
       "    <tr>\n",
       "      <th>8</th>\n",
       "      <td>Chandler</td>\n",
       "      <td>Then I look down, and I realize there's a phon...</td>\n",
       "    </tr>\n",
       "    <tr>\n",
       "      <th>9</th>\n",
       "      <td>Joey</td>\n",
       "      <td>Instead of...?</td>\n",
       "    </tr>\n",
       "  </tbody>\n",
       "</table>\n",
       "</div>"
      ],
      "text/plain": [
       "  character                                       spoken_words\n",
       "0    Monica  There's nothing to tell! He's just some guy I ...\n",
       "1      Joey  C'mon, you're going out with the guy! There's ...\n",
       "2  Chandler  All right Joey, be nice.  So does he have a hu...\n",
       "3    Phoebe                           Wait, does he eat chalk?\n",
       "4    Phoebe  Just, 'cause, I don't want her to go through w...\n",
       "5    Monica  Okay, everybody relax. This is not even a date...\n",
       "6  Chandler                          Sounds like a date to me.\n",
       "7  Chandler  Alright, so I'm back in high school, I'm stand...\n",
       "8  Chandler  Then I look down, and I realize there's a phon...\n",
       "9      Joey                                     Instead of...?"
      ]
     },
     "execution_count": 10,
     "metadata": {},
     "output_type": "execute_result"
    }
   ],
   "source": [
    "# Glimpse at the dataset\n",
    "friends_df = pd.DataFrame()\n",
    "friends_df['character'] = friends_tags\n",
    "friends_df['spoken_words'] = friends_words\n",
    "friends_df.head(10)"
   ]
  },
  {
   "cell_type": "markdown",
   "metadata": {},
   "source": [
    "### Process data"
   ]
  },
  {
   "cell_type": "code",
   "execution_count": 13,
   "metadata": {},
   "outputs": [
    {
     "name": "stdout",
     "output_type": "stream",
     "text": [
      "Example of a tokenized line:\n",
      "['there', 'nothing', 'to', 'tell', 'he', 'just', 'some', 'guy', 'work', 'with']\n"
     ]
    }
   ],
   "source": [
    "# Apply preprocess\n",
    "Xf_train, Xf_val, Xf_test, yf_train, yf_val, yf_test = process_dataset(friends_words, friends_tags)"
   ]
  },
  {
   "cell_type": "code",
   "execution_count": 14,
   "metadata": {},
   "outputs": [
    {
     "name": "stdout",
     "output_type": "stream",
     "text": [
      "11.159289315135867\n"
     ]
    },
    {
     "data": {
      "image/png": "[encoded data removed]",
      "text/plain": [
       "<Figure size 432x288 with 1 Axes>"
      ]
     },
     "metadata": {
      "needs_background": "light"
     },
     "output_type": "display_data"
    }
   ],
   "source": [
    "sentences_length = []\n",
    "for x in Xf_train:\n",
    "    sentences_length.append(len(x))\n",
    "    \n",
    "print(np.mean(np.array(sentences_length)))\n",
    "plt.hist(np.array(sentences_length), bins=200)\n",
    "plt.xlim([0, 50])\n",
    "plt.show()"
   ]
  },
  {
   "cell_type": "code",
   "execution_count": 15,
   "metadata": {},
   "outputs": [
    {
     "name": "stdout",
     "output_type": "stream",
     "text": [
      "8.8495555702596\n"
     ]
    },
    {
     "data": {
      "image/png": "[encoded data removed]",
      "text/plain": [
       "<Figure size 432x288 with 1 Axes>"
      ]
     },
     "metadata": {
      "needs_background": "light"
     },
     "output_type": "display_data"
    }
   ],
   "source": [
    "sentences_length = []\n",
    "for x in Xs_train:\n",
    "    sentences_length.append(len(x))\n",
    "    \n",
    "print(np.mean(np.array(sentences_length)))\n",
    "plt.hist(np.array(sentences_length), bins=100)\n",
    "plt.xlim([0, 50])\n",
    "plt.show()"
   ]
  },
  {
   "cell_type": "code",
   "execution_count": 16,
   "metadata": {},
   "outputs": [],
   "source": [
    "# Save preprocess texts\n",
    "with open('./data/friends/X_train.csv',\"w\", newline='') as f:\n",
    "    csv.writer(f).writerows(Xf_train)\n",
    "    \n",
    "with open('./data/friends/X_val.csv',\"w\", newline='') as f:\n",
    "    csv.writer(f).writerows(Xf_val)\n",
    "    \n",
    "with open('./data/friends/X_test.csv',\"w\", newline='') as f:\n",
    "    csv.writer(f).writerows(Xf_test)"
   ]
  },
  {
   "cell_type": "code",
   "execution_count": 17,
   "metadata": {},
   "outputs": [],
   "source": [
    "# Save preprocess tags\n",
    "np.savetxt('./data/friends/y_train.csv', yf_train)\n",
    "np.savetxt('./data/friends/y_val.csv', yf_val)\n",
    "np.savetxt('./data/friends/y_test.csv', yf_test)"
   ]
  }
 ],
 "metadata": {
  "kernelspec": {
   "display_name": "Python 3",
   "language": "python",
   "name": "python3"
  },
  "language_info": {
   "codemirror_mode": {
    "name": "ipython",
    "version": 3
   },
   "file_extension": ".py",
   "mimetype": "text/x-python",
   "name": "python",
   "nbconvert_exporter": "python",
   "pygments_lexer": "ipython3",
   "version": "3.7.8"
  }
 },
 "nbformat": 4,
 "nbformat_minor": 4
}
