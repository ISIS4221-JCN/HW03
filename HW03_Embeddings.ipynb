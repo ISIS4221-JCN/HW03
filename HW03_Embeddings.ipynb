{
 "cells": [
  {
   "cell_type": "markdown",
   "metadata": {},
   "source": [
    "# HW03: Embeddings"
   ]
  },
  {
   "cell_type": "code",
   "execution_count": 1,
   "metadata": {},
   "outputs": [],
   "source": [
    "# Import Libraries\n",
    "import os\n",
    "import nltk\n",
    "import csv\n",
    "import string\n",
    "import glob\n",
    "import numpy as np\n",
    "import pandas as pd\n",
    "import matplotlib.pyplot as plt\n",
    "\n",
    "#from gensim.parsing.porter import PorterStemmer\n",
    "#from gensim.parsing.preprocessing import remove_stopwords\n",
    "#from gensim.utils import simple_preprocess\n",
    "from gensim import corpora\n",
    "from gensim import models\n",
    "from gensim import similarities\n",
    "\n",
    "\n",
    "from sklearn.decomposition import PCA"
   ]
  },
  {
   "cell_type": "markdown",
   "metadata": {},
   "source": [
    "## Simpsons Dataset"
   ]
  },
  {
   "cell_type": "markdown",
   "metadata": {},
   "source": [
    "### Import training data"
   ]
  },
  {
   "cell_type": "code",
   "execution_count": 2,
   "metadata": {},
   "outputs": [
    {
     "name": "stdout",
     "output_type": "stream",
     "text": [
      "['lisa', 'll', 'do', 'the', 'dishes', 'when', 'pick', 'it', 'out', 'of', 'the', 'chore', 'hat', 'and', 'it', 'not', 'practice', 'see', 'there', 'it', 'is', 'but', 'that', 'was', 'practice', 'the', 'system', 'works']\n",
      "['don', 'worry', 've', 'got', 'man', 'on', 'the', 'perimeter']\n",
      "['snowball']\n",
      "['oh', 'yeah', 'you', 'were', 'way', 'off']\n",
      "['oh', 'it', 'beautiful', 'oh', 'oh', 'let', 'put', 'bart', 'beautiful', 'drawing', 'up', 'on', 'the', 'fridge']\n"
     ]
    }
   ],
   "source": [
    "# Import data\n",
    "simpsons_docs = []\n",
    "\n",
    "# Open and read file\n",
    "with open('./data/simpsons/X_train.csv', 'r') as read_obj:\n",
    "    for row in csv.reader(read_obj):\n",
    "        simpsons_docs.append(row)\n",
    "        \n",
    "# Glimpse at training docs\n",
    "for i in range(0,5):\n",
    "    print(simpsons_docs[i])"
   ]
  },
  {
   "cell_type": "markdown",
   "metadata": {},
   "source": [
    "### Word2Vec Embeddings"
   ]
  },
  {
   "cell_type": "code",
   "execution_count": 3,
   "metadata": {},
   "outputs": [
    {
     "data": {
      "text/plain": [
       "(3106243, 4012300)"
      ]
     },
     "execution_count": 3,
     "metadata": {},
     "output_type": "execute_result"
    }
   ],
   "source": [
    "# Define Word2Vec Embeddings\n",
    "simpsons_w2v_model_125 = models.Word2Vec(simpsons_docs, size=125, window=5, min_count=1, workers=10)\n",
    "simpsons_w2v_model_25 = models.Word2Vec(simpsons_docs, size=25, window=5, min_count=1, workers=10)\n",
    "simpsons_w2v_model_5 = models.Word2Vec(simpsons_docs, size=5, window=5, min_count=1, workers=10)\n",
    "\n",
    "# Train Word2Vec Embeddings\n",
    "simpsons_w2v_model_125.train(simpsons_docs, total_examples=len(simpsons_docs), epochs=10)\n",
    "simpsons_w2v_model_25.train(simpsons_docs, total_examples=len(simpsons_docs), epochs=10)\n",
    "simpsons_w2v_model_5.train(simpsons_docs, total_examples=len(simpsons_docs), epochs=10)"
   ]
  },
  {
   "cell_type": "code",
   "execution_count": 4,
   "metadata": {},
   "outputs": [],
   "source": [
    "# Save W2V Embeddings\n",
    "simpsons_w2v_model_125.save(\"./resources/embeddings/Simpsons_125_7.model\")\n",
    "simpsons_w2v_model_25.save(\"./resources/embeddings/Simpsons_25_7.model\")\n",
    "simpsons_w2v_model_5.save(\"./resources/embeddings/Simpsons_5_7.model\")"
   ]
  },
  {
   "cell_type": "code",
   "execution_count": 5,
   "metadata": {},
   "outputs": [
    {
     "data": {
      "text/plain": [
       "19775"
      ]
     },
     "execution_count": 5,
     "metadata": {},
     "output_type": "execute_result"
    }
   ],
   "source": [
    "len(simpsons_w2v_model_5.wv.vocab)"
   ]
  },
  {
   "cell_type": "markdown",
   "metadata": {},
   "source": [
    "### 2D Plots"
   ]
  },
  {
   "cell_type": "code",
   "execution_count": 22,
   "metadata": {},
   "outputs": [],
   "source": [
    "def plot_similar_words(word, model):\n",
    "    \n",
    "    # Retrieve similar words\n",
    "    most_similar = model.wv.most_similar(word)\n",
    "    \n",
    "    similar_words = [word]\n",
    "    for w in most_similar:\n",
    "        similar_words.append(w[0])\n",
    "    \n",
    "    # Create PCA object with 2 components\n",
    "    pca = PCA(n_components=2)\n",
    "    \n",
    "    # Extract embeddings from model\n",
    "    vocab = list(model.wv.vocab)\n",
    "    X = model[vocab]\n",
    "    \n",
    "    # Fit PCA with all embeddings vocab\n",
    "    pca.fit(X)\n",
    "    \n",
    "    # Transform similar words\n",
    "    X_pca = pca.transform(model[similar_words])\n",
    "    \n",
    "    # Plot\n",
    "    df = pd.DataFrame(X_pca, index=similar_words, columns=['x', 'y'])\n",
    "    \n",
    "    fig = plt.figure(figsize=(15,10))\n",
    "    ax = fig.add_subplot(1, 1, 1)\n",
    "    plt.xlabel('$x_1$', fontsize=15)\n",
    "    plt.ylabel('$x_2$', fontsize=15)\n",
    "    plt.title('Most similar words to {}'.format(word), fontsize=20)\n",
    "    plt.grid(True)\n",
    "    plt.xlim([-5,5])\n",
    "    plt.ylim([-4,4])\n",
    "\n",
    "    ax.scatter(df['x'], df['y'], s=200, c='b', alpha=0.25)\n",
    "    ax.scatter(df['x'][0], df['y'][0], s=200, c='r', alpha=0.25)\n",
    "    for word, pos in df.iterrows():\n",
    "        ax.annotate(word, pos, fontsize=12)\n",
    "    "
   ]
  },
  {
   "cell_type": "code",
   "execution_count": 23,
   "metadata": {
    "scrolled": false
   },
   "outputs": [
    {
     "name": "stderr",
     "output_type": "stream",
     "text": [
      "C:\\Users\\CESAR\\Anaconda3\\lib\\site-packages\\ipykernel_launcher.py:15: DeprecationWarning: Call to deprecated `__getitem__` (Method will be removed in 4.0.0, use self.wv.__getitem__() instead).\n",
      "  from ipykernel import kernelapp as app\n",
      "C:\\Users\\CESAR\\Anaconda3\\lib\\site-packages\\ipykernel_launcher.py:21: DeprecationWarning: Call to deprecated `__getitem__` (Method will be removed in 4.0.0, use self.wv.__getitem__() instead).\n"
     ]
    },
    {
     "data": {
      "image/png": "[encoded data removed]",
      "text/plain": [
       "<Figure size 1080x720 with 1 Axes>"
      ]
     },
     "metadata": {
      "needs_background": "light"
     },
     "output_type": "display_data"
    }
   ],
   "source": [
    "plot_similar_words('lisa', simpsons_w2v_model_125)"
   ]
  },
  {
   "cell_type": "markdown",
   "metadata": {},
   "source": [
    "### Relations"
   ]
  },
  {
   "cell_type": "code",
   "execution_count": null,
   "metadata": {},
   "outputs": [],
   "source": []
  },
  {
   "cell_type": "markdown",
   "metadata": {},
   "source": [
    "## Friends Dataset"
   ]
  },
  {
   "cell_type": "markdown",
   "metadata": {},
   "source": [
    "### Import Data"
   ]
  },
  {
   "cell_type": "code",
   "execution_count": 8,
   "metadata": {},
   "outputs": [
    {
     "name": "stdout",
     "output_type": "stream",
     "text": [
      "['okay', 'okay', 'll', 'tell', 'em', 'it', 'wasn', 'chandler', 'who', 'got', 'high', 'now', 'who', 'should', 'say', 'it', 'was']\n",
      "['no']\n",
      "['oh', 'you', 'don', 'want', 'me', 'on', 'the', 'trip']\n",
      "['my', 'oh', 'my', 'god']\n",
      "['nooo', 'but', 'it', 'but', 'it', 'great']\n"
     ]
    }
   ],
   "source": [
    "# Import data\n",
    "friends_docs = []\n",
    "\n",
    "# Open and read file\n",
    "with open('./data/friends/X_train.csv', 'r') as read_obj:\n",
    "    for row in csv.reader(read_obj):\n",
    "        friends_docs.append(row)\n",
    "        \n",
    "# Glimpse at training docs\n",
    "for i in range(0,5):\n",
    "    print(friends_docs[i])"
   ]
  },
  {
   "cell_type": "markdown",
   "metadata": {},
   "source": [
    "### Word2Vec Embeddings"
   ]
  },
  {
   "cell_type": "code",
   "execution_count": 9,
   "metadata": {},
   "outputs": [
    {
     "data": {
      "text/plain": [
       "(2612732, 3630340)"
      ]
     },
     "execution_count": 9,
     "metadata": {},
     "output_type": "execute_result"
    }
   ],
   "source": [
    "# Define Word2Vec Embeddings\n",
    "friends_w2v_model_125 = models.Word2Vec(friends_docs, size=125, window=5, min_count=1, workers=10)\n",
    "friends_w2v_model_25 = models.Word2Vec(friends_docs, size=25, window=5, min_count=1, workers=10)\n",
    "friends_w2v_model_5 = models.Word2Vec(friends_docs, size=5, window=5, min_count=1, workers=10)\n",
    "\n",
    "# Train Word2Vec Embeddings\n",
    "friends_w2v_model_125.train(friends_docs, total_examples=len(friends_docs), epochs=10)\n",
    "friends_w2v_model_25.train(friends_docs, total_examples=len(friends_docs), epochs=10)\n",
    "friends_w2v_model_5.train(friends_docs, total_examples=len(friends_docs), epochs=10)"
   ]
  },
  {
   "cell_type": "code",
   "execution_count": 10,
   "metadata": {},
   "outputs": [],
   "source": [
    "# Save W2V Embeddings\n",
    "friends_w2v_model_125.save(\"./resources/embeddings/Friends_125_7.model\")\n",
    "friends_w2v_model_25.save(\"./resources/embeddings/Friends_25_7.model\")\n",
    "friends_w2v_model_5.save(\"./resources/embeddings/Friends_5_7.model\")"
   ]
  },
  {
   "cell_type": "code",
   "execution_count": 11,
   "metadata": {},
   "outputs": [
    {
     "data": {
      "text/plain": [
       "11859"
      ]
     },
     "execution_count": 11,
     "metadata": {},
     "output_type": "execute_result"
    }
   ],
   "source": [
    "len(friends_w2v_model_5.wv.vocab)"
   ]
  },
  {
   "cell_type": "markdown",
   "metadata": {},
   "source": [
    "### 2D Plots"
   ]
  },
  {
   "cell_type": "code",
   "execution_count": 19,
   "metadata": {},
   "outputs": [
    {
     "name": "stderr",
     "output_type": "stream",
     "text": [
      "C:\\Users\\CESAR\\Anaconda3\\lib\\site-packages\\ipykernel_launcher.py:15: DeprecationWarning: Call to deprecated `__getitem__` (Method will be removed in 4.0.0, use self.wv.__getitem__() instead).\n",
      "  from ipykernel import kernelapp as app\n",
      "C:\\Users\\CESAR\\Anaconda3\\lib\\site-packages\\ipykernel_launcher.py:21: DeprecationWarning: Call to deprecated `__getitem__` (Method will be removed in 4.0.0, use self.wv.__getitem__() instead).\n"
     ]
    },
    {
     "data": {
      "image/png": "[encoded data removed]",
      "text/plain": [
       "<Figure size 1080x720 with 1 Axes>"
      ]
     },
     "metadata": {
      "needs_background": "light"
     },
     "output_type": "display_data"
    }
   ],
   "source": [
    "plot_similar_words('phoebe', friends_w2v_model_25)"
   ]
  }
 ],
 "metadata": {
  "kernelspec": {
   "display_name": "Python 3",
   "language": "python",
   "name": "python3"
  },
  "language_info": {
   "codemirror_mode": {
    "name": "ipython",
    "version": 3
   },
   "file_extension": ".py",
   "mimetype": "text/x-python",
   "name": "python",
   "nbconvert_exporter": "python",
   "pygments_lexer": "ipython3",
   "version": "3.7.8"
  }
 },
 "nbformat": 4,
 "nbformat_minor": 4
}
