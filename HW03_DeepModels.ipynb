{
 "cells": [
  {
   "cell_type": "markdown",
   "metadata": {},
   "source": [
    "# Deep models"
   ]
  },
  {
   "cell_type": "code",
   "execution_count": 28,
   "metadata": {},
   "outputs": [],
   "source": [
    "import csv\n",
    "\n",
    "import numpy as np\n",
    "\n",
    "try:\n",
    "    from gensim import models\n",
    "except ModuleNotFoundError as e:\n",
    "    !pip install gensim==3.8.0\n",
    "    from gensim import models\n",
    "try:\n",
    "    import pandas as pd\n",
    "except ModuleNotFoundError as e:\n",
    "    !pip install pandas\n",
    "    import pandas as pd\n",
    "    \n",
    "try:\n",
    "    import matplotlib.pyplot as plt\n",
    "except ModuleNotFoundError as e:\n",
    "    !pip install matplitlib\n",
    "    import matplotlib.pyplot as plt\n",
    "import tensorflow as tf\n",
    "from tensorflow import keras\n",
    "from tensorflow.keras import layers\n",
    "from tensorflow.keras.preprocessing.sequence import pad_sequences"
   ]
  },
  {
   "cell_type": "code",
   "execution_count": 29,
   "metadata": {},
   "outputs": [],
   "source": [
    "# This line prevents TF crashing when using convolutional networks\n",
    "gpus = tf.config.list_physical_devices('GPU')\n",
    "for gpu in gpus:\n",
    "    tf.config.experimental.set_memory_growth(gpu, True)"
   ]
  },
  {
   "cell_type": "markdown",
   "metadata": {},
   "source": [
    "## Necessary functions"
   ]
  },
  {
   "cell_type": "code",
   "execution_count": 30,
   "metadata": {},
   "outputs": [],
   "source": [
    "def prepare_data(model_path, data_prefix, seq_len, embedding_size):\n",
    "    \"\"\"Function to read specified data and organize it in the desired way\n",
    "    \n",
    "    Args:\n",
    "        model_path (str): path to embedding model\n",
    "        data_prefix (str): path to data prefix\n",
    "        seq_len (int): length of each training observation\n",
    "        embedding_size (int): size of the embedding\n",
    "    \n",
    "    \"\"\"\n",
    "    \n",
    "    def load_data(path):\n",
    "        output = []\n",
    "        \n",
    "        with open(path, 'r', encoding='latin-1') as data:\n",
    "        #with open(path, 'r', encoding='utf-8') as data:\n",
    "            for row in csv.reader(data):\n",
    "                output.append(row)\n",
    "                \n",
    "        return output\n",
    "    \n",
    "    # Opens embedding model\n",
    "    model_ = models.Word2Vec.load(model_path)\n",
    "    \n",
    "    # Open dataset\n",
    "    data_train = load_data(data_prefix + \"X_train.csv\")\n",
    "    data_val = load_data(data_prefix + \"X_val.csv\")\n",
    "    label_train = np.loadtxt(data_prefix + \"y_train.csv\")\n",
    "    label_val = np.loadtxt(data_prefix + \"y_val.csv\")\n",
    "    \n",
    "    # Gets embeddings from model\n",
    "    dt = []\n",
    "    lt = []\n",
    "    omissions_ = 0\n",
    "    \n",
    "    for i, seq in enumerate(data_train):\n",
    "        \n",
    "        try:        \n",
    "            embedding = model_.wv[seq]\n",
    "            dt.append(embedding)\n",
    "            lt.append(label_train[i])\n",
    "        \n",
    "        except KeyError as ke:\n",
    "            for word in seq:\n",
    "                if word not in model_.wv.vocab.keys():\n",
    "                    seq.remove(word)\n",
    "            \n",
    "        except ValueError as ve:\n",
    "            omissions_ += 1\n",
    "            \n",
    "#     print(omissions_)\n",
    "    \n",
    "    # Gets embeddings from model\n",
    "    dv = []\n",
    "    lv = []\n",
    "    omissions_ = 0\n",
    "    \n",
    "    for i, seq in enumerate(data_val):\n",
    "        \n",
    "        try:\n",
    "            embedding = model_.wv[seq]\n",
    "            dv.append(embedding)\n",
    "            lv.append(label_val[i])\n",
    "        \n",
    "        except KeyError as ke:\n",
    "            for word in seq:\n",
    "                if word not in model_.wv.vocab.keys():\n",
    "                    seq.remove(word)\n",
    "            \n",
    "        except ValueError as ve:\n",
    "            omissions_ += 1\n",
    "    \n",
    "#     print(omissions_)\n",
    "    \n",
    "    # Pads sequences\n",
    "    dt = pad_sequences(dt, padding='post', dtype='float64', maxlen=seq_len)\n",
    "    dv = pad_sequences(dv, padding='post', dtype='float64', maxlen=seq_len)\n",
    "    \n",
    "    # Converts lists to numpy arrays\n",
    "#     dt = np.asarray(dt).reshape((len(dt), seq_len * embedding_size))\n",
    "#     dv = np.asarray(dv).reshape((len(dv), seq_len * embedding_size))\n",
    "    \n",
    "    lt = np.asarray(lt)\n",
    "    lv = np.asarray(lv)\n",
    "    \n",
    "    return dt, dv, lt, lv"
   ]
  },
  {
   "cell_type": "markdown",
   "metadata": {},
   "source": [
    "## Setting variables and creating functions"
   ]
  },
  {
   "cell_type": "code",
   "execution_count": 31,
   "metadata": {},
   "outputs": [],
   "source": [
    "simpson_dict = {15: \"./resources/embeddings/Simpsons_15_7.model\",\n",
    "                75: \"./resources/embeddings/Simpsons_75_7.model\",\n",
    "                150: \"./resources/embeddings/Simpsons_150_7.model\",\n",
    "                'prefix': \"./data/simpsons/\",\n",
    "                'classes': 4}\n",
    "\n",
    "friends_dict = {5: \"./resources/embeddings/Friends_5_7.model\",\n",
    "                25: \"./resources/embeddings/Friends_25_7.model\",\n",
    "                125: \"./resources/embeddings/Friends_125_7.model\",\n",
    "                'prefix': \"./data/friends/\",\n",
    "                'classes': 6}"
   ]
  },
  {
   "cell_type": "code",
   "execution_count": 32,
   "metadata": {},
   "outputs": [],
   "source": [
    "def create_checkpoint_callback(filepath):\n",
    "    \"\"\"\n",
    "    Function to create instance of keras early stop callback\n",
    "    \n",
    "    Args:\n",
    "        filepath (str): path to save the model\n",
    "    \"\"\"\n",
    "    model_checkpoint_callback = tf.keras.callbacks.ModelCheckpoint(\n",
    "        filepath = filepath,\n",
    "        save_weights_only = False,\n",
    "        monitor = 'val_loss',\n",
    "        mode = 'min',\n",
    "        save_best_only = True)\n",
    "    return model_checkpoint_callback"
   ]
  },
  {
   "cell_type": "code",
   "execution_count": 33,
   "metadata": {},
   "outputs": [],
   "source": [
    "def create_early_stop_callback():\n",
    "    \"\"\"\n",
    "    Function to create instance of keras early stop callback\n",
    "    \"\"\"\n",
    "    callback = tf.keras.callbacks.EarlyStopping(\n",
    "    monitor = 'val_loss', min_delta = 0, patience = 30, verbose = 0,\n",
    "    mode = 'min', baseline = None, restore_best_weights = False)\n",
    "    return callback"
   ]
  },
  {
   "cell_type": "markdown",
   "metadata": {},
   "source": [
    "## Model creators"
   ]
  },
  {
   "cell_type": "code",
   "execution_count": 34,
   "metadata": {},
   "outputs": [],
   "source": [
    "def create_base_model(embedding_size, seq_len, classes, input_shape):\n",
    "    \"\"\"\n",
    "    Function to create baseline model\n",
    "    \n",
    "    Args:\n",
    "        embedding_size (int): Size of the embedding to be used\n",
    "        seq_len (int): length of each training observation\n",
    "        classes (int): number of possible classes\n",
    "        input_shape (int): Shape in which the input will be provided\n",
    "    \n",
    "    Returns:\n",
    "        tensorflow.python.keras.engine.sequential.Sequential: base model \n",
    "    \"\"\"\n",
    "    \n",
    "    model = keras.Sequential([\n",
    "        layers.Dense((embedding_size * seq_len)/2, activation=\"relu\", input_shape = input_shape),\n",
    "        layers.Dense(classes, activation='softmax')\n",
    "    ])\n",
    "    model.compile(\n",
    "        optimizer=\"adam\",\n",
    "        loss=\"categorical_crossentropy\",\n",
    "        metrics=[\"accuracy\", keras.metrics.Precision(), keras.metrics.Recall()]\n",
    "    )\n",
    "    model.summary()\n",
    "    return model"
   ]
  },
  {
   "cell_type": "code",
   "execution_count": 35,
   "metadata": {},
   "outputs": [],
   "source": [
    "def create_deepFC_model(embedding_size, seq_len, classes, input_shape):\n",
    "    \"\"\"\n",
    "    Function to create deepFC model\n",
    "    \n",
    "    Args:\n",
    "        embedding_size (int): Size of the embedding to be used\n",
    "        seq_len (int): length of each training observation\n",
    "        classes (int): number of possible classes\n",
    "        input_shape (int): Shape in which the input will be provided\n",
    "    \n",
    "    Returns:\n",
    "        tensorflow.python.keras.engine.sequential.Sequential: deep fully conected model \n",
    "    \"\"\"\n",
    "    \n",
    "    model = keras.Sequential([\n",
    "        layers.Dense((embedding_size * seq_len)/2, activation=\"relu\", input_shape = input_shape),\n",
    "        layers.Dropout(0.2),\n",
    "        layers.Dense((embedding_size * seq_len)/2, activation=\"relu\"),\n",
    "        layers.Dropout(0.2),\n",
    "        layers.Dense((embedding_size * seq_len)/2, activation=\"relu\"),\n",
    "        layers.Dropout(0.2),\n",
    "        layers.Dense((embedding_size * seq_len)/2, activation=\"relu\"),\n",
    "        layers.Dense(classes, activation='softmax')\n",
    "    ])\n",
    "    model.compile(\n",
    "        optimizer=\"adam\",\n",
    "        loss=\"categorical_crossentropy\",\n",
    "        metrics=[\"accuracy\", keras.metrics.Precision(), keras.metrics.Recall()]\n",
    "    )\n",
    "    model.summary()\n",
    "    return model"
   ]
  },
  {
   "cell_type": "code",
   "execution_count": 36,
   "metadata": {},
   "outputs": [],
   "source": [
    "def create_RNN_model(embedding_size, seq_len, classes, input_shape):\n",
    "    \"\"\"\n",
    "    Function to create RNN model\n",
    "    \n",
    "    Args:\n",
    "        embedding_size (int): Size of the embedding to be used\n",
    "        seq_len (int): length of each training observation\n",
    "        classes (int): number of possible classes\n",
    "        input_shape (int): Shape in which the input will be provided\n",
    "    \n",
    "    Returns:\n",
    "        tensorflow.python.keras.engine.sequential.Sequential: RNN model \n",
    "    \"\"\"\n",
    "    \n",
    "    model = keras.Sequential([\n",
    "        layers.SimpleRNN(units = 75, input_shape=input_shape),\n",
    "#         layers.SimpleRNN(units = 20, return_sequences=True),\n",
    "#         layers.SimpleRNN(units = 20, return_sequences=True),\n",
    "        layers.Flatten(),\n",
    "        layers.Dense((embedding_size * seq_len)/2, activation=\"relu\"),\n",
    "        layers.Dense(classes, activation='softmax')\n",
    "    ])\n",
    "    model.compile(\n",
    "        optimizer=\"adam\",\n",
    "        loss=\"categorical_crossentropy\",\n",
    "        metrics=[\"accuracy\", keras.metrics.Precision(), keras.metrics.Recall()]\n",
    "    )\n",
    "    model.summary()\n",
    "    return model"
   ]
  },
  {
   "cell_type": "code",
   "execution_count": 37,
   "metadata": {},
   "outputs": [],
   "source": [
    "def create_LSTM_model(embedding_size, seq_len, classes, input_shape):\n",
    "    \"\"\"\n",
    "    Function to create LSTM model\n",
    "    \n",
    "    Args:\n",
    "        embedding_size (int): Size of the embedding to be used\n",
    "        seq_len (int): length of each training observation\n",
    "        classes (int): number of possible classes\n",
    "        input_shape (int): Shape in which the input will be provided\n",
    "    \n",
    "    Returns:\n",
    "        tensorflow.python.keras.engine.sequential.Sequential: LSTM model \n",
    "    \"\"\"\n",
    "    \n",
    "    model = keras.Sequential([\n",
    "        layers.LSTM(units = 75, input_shape = input_shape),\n",
    "#         layers.LSTM(units = 20, return_sequences=True),\n",
    "#         layers.LSTM(units = 20, return_sequences=True),\n",
    "        layers.Flatten(),\n",
    "        layers.Dense((embedding_size * seq_len)/2, activation=\"relu\"),\n",
    "        layers.Dense(classes, activation='softmax')\n",
    "    ])\n",
    "    model.compile(\n",
    "        optimizer=\"adam\",\n",
    "        loss=\"categorical_crossentropy\",\n",
    "        metrics=[\"accuracy\", keras.metrics.Precision(), keras.metrics.Recall()]\n",
    "    )\n",
    "    model.summary()\n",
    "    return model"
   ]
  },
  {
   "cell_type": "code",
   "execution_count": 38,
   "metadata": {},
   "outputs": [],
   "source": [
    "# Dictionary to store model creators\n",
    "model_creators = {'baseline': create_base_model,\n",
    "                  'DeepFC': create_deepFC_model,\n",
    "                  'SimpleRNN': create_RNN_model,\n",
    "                  'LSTM': create_LSTM_model}"
   ]
  },
  {
   "cell_type": "markdown",
   "metadata": {},
   "source": [
    "## Training method"
   ]
  },
  {
   "cell_type": "code",
   "execution_count": 39,
   "metadata": {},
   "outputs": [],
   "source": [
    "def train_val_model(dataset, em_size, seq_len, model_type, epochs):\n",
    "    \"\"\"\n",
    "    Function to train the given model\n",
    "    \n",
    "    Args:\n",
    "        dataset (str): Name of the dataset to use\n",
    "        em_size (int): size of the embedding to load\n",
    "        seq_len (int): lenght of each observation\n",
    "        model_type (str): model to train\n",
    "        epochs (int): total epochs to train the model for\n",
    "    \n",
    "    Returns:\n",
    "        PENDING.\n",
    "    \"\"\"\n",
    "    \n",
    "    if dataset == 'simpson':\n",
    "        data_path = simpson_dict\n",
    "    elif dataset == 'friends':\n",
    "        data_path = friends_dict\n",
    "    else: \n",
    "        raise 'Not valid dataset'\n",
    "        \n",
    "    X_train, X_val, y_train, y_val = prepare_data(data_path[em_size], data_path['prefix'],\n",
    "                                                  seq_len, em_size)\n",
    "    \n",
    "    if model_type in  ['baseline', 'DeepFC']:\n",
    "        X_train = np.asarray(X_train).reshape((len(X_train), seq_len * em_size))\n",
    "        X_val = np.asarray(X_val).reshape((len(X_val), seq_len * em_size))\n",
    "    \n",
    "    checkpoint_callback = create_checkpoint_callback('./resources/checkpoints/' + model_type + '_' + \n",
    "                                          str(em_size) + '_' +str(seq_len))\n",
    "    \n",
    "    early_stop_callback = create_early_stop_callback()\n",
    "    \n",
    "    input_shape = (len(X_train), seq_len * em_size) if model_type in ['baseline','DeepFC'] else (seq_len, em_size)\n",
    "    \n",
    "    model = model_creators[model_type](em_size, seq_len, data_path['classes'], \n",
    "                                       input_shape=input_shape)\n",
    "    history = model.fit(X_train, y_train, validation_data=(X_val, y_val), \n",
    "              epochs = epochs, verbose = 0, \n",
    "              callbacks=[checkpoint_callback, early_stop_callback])\n",
    "    \n",
    "    model_metrics_train = model.evaluate(x = X_train, y = y_train)\n",
    "    model_metrics_val = model.evaluate(x = X_val, y = y_val)\n",
    "    data = {'model_name': [model_type], 'embedding_size': [em_size], 'seq_len': [seq_len],\n",
    "            'train_accuracy': [model_metrics_train[1]], 'train_precision': [model_metrics_train[2]], 'train_recall': [model_metrics_train[3]],\n",
    "           'val_accuracy': [model_metrics_val[1]], 'val_precision': [model_metrics_val[2]], 'val_recall': [model_metrics_val[3]]}\n",
    "    \n",
    "    return pd.DataFrame(data=data), history"
   ]
  },
  {
   "cell_type": "markdown",
   "metadata": {},
   "source": [
    "## Model Training"
   ]
  },
  {
   "cell_type": "code",
   "execution_count": 44,
   "metadata": {
    "scrolled": true
   },
   "outputs": [
    {
     "name": "stdout",
     "output_type": "stream",
     "text": [
      "Model: \"sequential_47\"\n",
      "_________________________________________________________________\n",
      "Layer (type)                 Output Shape              Param #   \n",
      "=================================================================\n",
      "dense_130 (Dense)            (None, 21178, 75)         11325     \n",
      "_________________________________________________________________\n",
      "dense_131 (Dense)            (None, 21178, 4)          304       \n",
      "=================================================================\n",
      "Total params: 11,629\n",
      "Trainable params: 11,629\n",
      "Non-trainable params: 0\n",
      "_________________________________________________________________\n",
      "WARNING:tensorflow:Model was constructed with shape (None, 21178, 150) for input KerasTensor(type_spec=TensorSpec(shape=(None, 21178, 150), dtype=tf.float32, name='dense_130_input'), name='dense_130_input', description=\"created by layer 'dense_130_input'\"), but it was called on an input with incompatible shape (None, 150).\n"
     ]
    },
    {
     "name": "stderr",
     "output_type": "stream",
     "text": [
      "WARNING:tensorflow:Model was constructed with shape (None, 21178, 150) for input KerasTensor(type_spec=TensorSpec(shape=(None, 21178, 150), dtype=tf.float32, name='dense_130_input'), name='dense_130_input', description=\"created by layer 'dense_130_input'\"), but it was called on an input with incompatible shape (None, 150).\n"
     ]
    },
    {
     "name": "stdout",
     "output_type": "stream",
     "text": [
      "WARNING:tensorflow:Model was constructed with shape (None, 21178, 150) for input KerasTensor(type_spec=TensorSpec(shape=(None, 21178, 150), dtype=tf.float32, name='dense_130_input'), name='dense_130_input', description=\"created by layer 'dense_130_input'\"), but it was called on an input with incompatible shape (None, 150).\n"
     ]
    },
    {
     "name": "stderr",
     "output_type": "stream",
     "text": [
      "WARNING:tensorflow:Model was constructed with shape (None, 21178, 150) for input KerasTensor(type_spec=TensorSpec(shape=(None, 21178, 150), dtype=tf.float32, name='dense_130_input'), name='dense_130_input', description=\"created by layer 'dense_130_input'\"), but it was called on an input with incompatible shape (None, 150).\n"
     ]
    },
    {
     "name": "stdout",
     "output_type": "stream",
     "text": [
      "WARNING:tensorflow:Model was constructed with shape (None, 21178, 150) for input KerasTensor(type_spec=TensorSpec(shape=(None, 21178, 150), dtype=tf.float32, name='dense_130_input'), name='dense_130_input', description=\"created by layer 'dense_130_input'\"), but it was called on an input with incompatible shape (None, 150).\n"
     ]
    },
    {
     "name": "stderr",
     "output_type": "stream",
     "text": [
      "WARNING:tensorflow:Model was constructed with shape (None, 21178, 150) for input KerasTensor(type_spec=TensorSpec(shape=(None, 21178, 150), dtype=tf.float32, name='dense_130_input'), name='dense_130_input', description=\"created by layer 'dense_130_input'\"), but it was called on an input with incompatible shape (None, 150).\n"
     ]
    },
    {
     "name": "stdout",
     "output_type": "stream",
     "text": [
      "INFO:tensorflow:Assets written to: ./resources/checkpoints/baseline_15_10/assets\n"
     ]
    },
    {
     "name": "stderr",
     "output_type": "stream",
     "text": [
      "INFO:tensorflow:Assets written to: ./resources/checkpoints/baseline_15_10/assets\n"
     ]
    },
    {
     "name": "stdout",
     "output_type": "stream",
     "text": [
      "INFO:tensorflow:Assets written to: ./resources/checkpoints/baseline_15_10/assets\n"
     ]
    },
    {
     "name": "stderr",
     "output_type": "stream",
     "text": [
      "INFO:tensorflow:Assets written to: ./resources/checkpoints/baseline_15_10/assets\n"
     ]
    },
    {
     "name": "stdout",
     "output_type": "stream",
     "text": [
      "INFO:tensorflow:Assets written to: ./resources/checkpoints/baseline_15_10/assets\n"
     ]
    },
    {
     "name": "stderr",
     "output_type": "stream",
     "text": [
      "INFO:tensorflow:Assets written to: ./resources/checkpoints/baseline_15_10/assets\n"
     ]
    },
    {
     "name": "stdout",
     "output_type": "stream",
     "text": [
      "INFO:tensorflow:Assets written to: ./resources/checkpoints/baseline_15_10/assets\n"
     ]
    },
    {
     "name": "stderr",
     "output_type": "stream",
     "text": [
      "INFO:tensorflow:Assets written to: ./resources/checkpoints/baseline_15_10/assets\n"
     ]
    },
    {
     "name": "stdout",
     "output_type": "stream",
     "text": [
      "662/662 [==============================] - 1s 2ms/step - loss: 1.0038 - accuracy: 0.5804 - precision_47: 0.7525 - recall_47: 0.3562\n",
      "138/138 [==============================] - 0s 2ms/step - loss: 1.3302 - accuracy: 0.4405 - precision_47: 0.5108 - recall_47: 0.2314\n",
      "Model: \"sequential_48\"\n",
      "_________________________________________________________________\n",
      "Layer (type)                 Output Shape              Param #   \n",
      "=================================================================\n",
      "dense_132 (Dense)            (None, 21178, 75)         11325     \n",
      "_________________________________________________________________\n",
      "dropout_36 (Dropout)         (None, 21178, 75)         0         \n",
      "_________________________________________________________________\n",
      "dense_133 (Dense)            (None, 21178, 75)         5700      \n",
      "_________________________________________________________________\n",
      "dropout_37 (Dropout)         (None, 21178, 75)         0         \n",
      "_________________________________________________________________\n",
      "dense_134 (Dense)            (None, 21178, 75)         5700      \n",
      "_________________________________________________________________\n",
      "dropout_38 (Dropout)         (None, 21178, 75)         0         \n",
      "_________________________________________________________________\n",
      "dense_135 (Dense)            (None, 21178, 75)         5700      \n",
      "_________________________________________________________________\n",
      "dense_136 (Dense)            (None, 21178, 4)          304       \n",
      "=================================================================\n",
      "Total params: 28,729\n",
      "Trainable params: 28,729\n",
      "Non-trainable params: 0\n",
      "_________________________________________________________________\n",
      "WARNING:tensorflow:Model was constructed with shape (None, 21178, 150) for input KerasTensor(type_spec=TensorSpec(shape=(None, 21178, 150), dtype=tf.float32, name='dense_132_input'), name='dense_132_input', description=\"created by layer 'dense_132_input'\"), but it was called on an input with incompatible shape (None, 150).\n"
     ]
    },
    {
     "name": "stderr",
     "output_type": "stream",
     "text": [
      "WARNING:tensorflow:Model was constructed with shape (None, 21178, 150) for input KerasTensor(type_spec=TensorSpec(shape=(None, 21178, 150), dtype=tf.float32, name='dense_132_input'), name='dense_132_input', description=\"created by layer 'dense_132_input'\"), but it was called on an input with incompatible shape (None, 150).\n"
     ]
    },
    {
     "name": "stdout",
     "output_type": "stream",
     "text": [
      "WARNING:tensorflow:Model was constructed with shape (None, 21178, 150) for input KerasTensor(type_spec=TensorSpec(shape=(None, 21178, 150), dtype=tf.float32, name='dense_132_input'), name='dense_132_input', description=\"created by layer 'dense_132_input'\"), but it was called on an input with incompatible shape (None, 150).\n"
     ]
    },
    {
     "name": "stderr",
     "output_type": "stream",
     "text": [
      "WARNING:tensorflow:Model was constructed with shape (None, 21178, 150) for input KerasTensor(type_spec=TensorSpec(shape=(None, 21178, 150), dtype=tf.float32, name='dense_132_input'), name='dense_132_input', description=\"created by layer 'dense_132_input'\"), but it was called on an input with incompatible shape (None, 150).\n"
     ]
    },
    {
     "name": "stdout",
     "output_type": "stream",
     "text": [
      "WARNING:tensorflow:Model was constructed with shape (None, 21178, 150) for input KerasTensor(type_spec=TensorSpec(shape=(None, 21178, 150), dtype=tf.float32, name='dense_132_input'), name='dense_132_input', description=\"created by layer 'dense_132_input'\"), but it was called on an input with incompatible shape (None, 150).\n"
     ]
    },
    {
     "name": "stderr",
     "output_type": "stream",
     "text": [
      "WARNING:tensorflow:Model was constructed with shape (None, 21178, 150) for input KerasTensor(type_spec=TensorSpec(shape=(None, 21178, 150), dtype=tf.float32, name='dense_132_input'), name='dense_132_input', description=\"created by layer 'dense_132_input'\"), but it was called on an input with incompatible shape (None, 150).\n"
     ]
    },
    {
     "name": "stdout",
     "output_type": "stream",
     "text": [
      "INFO:tensorflow:Assets written to: ./resources/checkpoints/DeepFC_15_10/assets\n"
     ]
    },
    {
     "name": "stderr",
     "output_type": "stream",
     "text": [
      "INFO:tensorflow:Assets written to: ./resources/checkpoints/DeepFC_15_10/assets\n"
     ]
    },
    {
     "name": "stdout",
     "output_type": "stream",
     "text": [
      "INFO:tensorflow:Assets written to: ./resources/checkpoints/DeepFC_15_10/assets\n"
     ]
    },
    {
     "name": "stderr",
     "output_type": "stream",
     "text": [
      "INFO:tensorflow:Assets written to: ./resources/checkpoints/DeepFC_15_10/assets\n"
     ]
    },
    {
     "name": "stdout",
     "output_type": "stream",
     "text": [
      "INFO:tensorflow:Assets written to: ./resources/checkpoints/DeepFC_15_10/assets\n"
     ]
    },
    {
     "name": "stderr",
     "output_type": "stream",
     "text": [
      "INFO:tensorflow:Assets written to: ./resources/checkpoints/DeepFC_15_10/assets\n"
     ]
    },
    {
     "name": "stdout",
     "output_type": "stream",
     "text": [
      "INFO:tensorflow:Assets written to: ./resources/checkpoints/DeepFC_15_10/assets\n"
     ]
    },
    {
     "name": "stderr",
     "output_type": "stream",
     "text": [
      "INFO:tensorflow:Assets written to: ./resources/checkpoints/DeepFC_15_10/assets\n"
     ]
    },
    {
     "name": "stdout",
     "output_type": "stream",
     "text": [
      "INFO:tensorflow:Assets written to: ./resources/checkpoints/DeepFC_15_10/assets\n"
     ]
    },
    {
     "name": "stderr",
     "output_type": "stream",
     "text": [
      "INFO:tensorflow:Assets written to: ./resources/checkpoints/DeepFC_15_10/assets\n"
     ]
    },
    {
     "name": "stdout",
     "output_type": "stream",
     "text": [
      "662/662 [==============================] - 1s 2ms/step - loss: 1.0164 - accuracy: 0.5655 - precision_48: 0.7740 - recall_48: 0.3099\n",
      "138/138 [==============================] - 0s 2ms/step - loss: 1.2774 - accuracy: 0.4718 - precision_48: 0.5539 - recall_48: 0.2161\n",
      "Model: \"sequential_49\"\n",
      "_________________________________________________________________\n",
      "Layer (type)                 Output Shape              Param #   \n",
      "=================================================================\n",
      "simple_rnn_11 (SimpleRNN)    (None, 75)                6825      \n",
      "_________________________________________________________________\n",
      "flatten_22 (Flatten)         (None, 75)                0         \n",
      "_________________________________________________________________\n",
      "dense_137 (Dense)            (None, 75)                5700      \n",
      "_________________________________________________________________\n",
      "dense_138 (Dense)            (None, 4)                 304       \n",
      "=================================================================\n",
      "Total params: 12,829\n",
      "Trainable params: 12,829\n",
      "Non-trainable params: 0\n",
      "_________________________________________________________________\n",
      "INFO:tensorflow:Assets written to: ./resources/checkpoints/SimpleRNN_15_10/assets\n"
     ]
    },
    {
     "name": "stderr",
     "output_type": "stream",
     "text": [
      "INFO:tensorflow:Assets written to: ./resources/checkpoints/SimpleRNN_15_10/assets\n"
     ]
    },
    {
     "name": "stdout",
     "output_type": "stream",
     "text": [
      "INFO:tensorflow:Assets written to: ./resources/checkpoints/SimpleRNN_15_10/assets\n"
     ]
    },
    {
     "name": "stderr",
     "output_type": "stream",
     "text": [
      "INFO:tensorflow:Assets written to: ./resources/checkpoints/SimpleRNN_15_10/assets\n"
     ]
    },
    {
     "name": "stdout",
     "output_type": "stream",
     "text": [
      "INFO:tensorflow:Assets written to: ./resources/checkpoints/SimpleRNN_15_10/assets\n"
     ]
    },
    {
     "name": "stderr",
     "output_type": "stream",
     "text": [
      "INFO:tensorflow:Assets written to: ./resources/checkpoints/SimpleRNN_15_10/assets\n"
     ]
    },
    {
     "name": "stdout",
     "output_type": "stream",
     "text": [
      "INFO:tensorflow:Assets written to: ./resources/checkpoints/SimpleRNN_15_10/assets\n"
     ]
    },
    {
     "name": "stderr",
     "output_type": "stream",
     "text": [
      "INFO:tensorflow:Assets written to: ./resources/checkpoints/SimpleRNN_15_10/assets\n"
     ]
    },
    {
     "name": "stdout",
     "output_type": "stream",
     "text": [
      "INFO:tensorflow:Assets written to: ./resources/checkpoints/SimpleRNN_15_10/assets\n"
     ]
    },
    {
     "name": "stderr",
     "output_type": "stream",
     "text": [
      "INFO:tensorflow:Assets written to: ./resources/checkpoints/SimpleRNN_15_10/assets\n"
     ]
    },
    {
     "name": "stdout",
     "output_type": "stream",
     "text": [
      "INFO:tensorflow:Assets written to: ./resources/checkpoints/SimpleRNN_15_10/assets\n"
     ]
    },
    {
     "name": "stderr",
     "output_type": "stream",
     "text": [
      "INFO:tensorflow:Assets written to: ./resources/checkpoints/SimpleRNN_15_10/assets\n"
     ]
    },
    {
     "name": "stdout",
     "output_type": "stream",
     "text": [
      "662/662 [==============================] - 2s 2ms/step - loss: 1.0440 - accuracy: 0.5528 - precision_49: 0.7272 - recall_49: 0.3057\n",
      "138/138 [==============================] - 0s 2ms/step - loss: 1.2582 - accuracy: 0.4532 - precision_49: 0.5469 - recall_49: 0.2241\n",
      "Model: \"sequential_50\"\n",
      "_________________________________________________________________\n",
      "Layer (type)                 Output Shape              Param #   \n",
      "=================================================================\n",
      "lstm_11 (LSTM)               (None, 75)                27300     \n",
      "_________________________________________________________________\n",
      "flatten_23 (Flatten)         (None, 75)                0         \n",
      "_________________________________________________________________\n",
      "dense_139 (Dense)            (None, 75)                5700      \n",
      "_________________________________________________________________\n",
      "dense_140 (Dense)            (None, 4)                 304       \n",
      "=================================================================\n",
      "Total params: 33,304\n",
      "Trainable params: 33,304\n",
      "Non-trainable params: 0\n",
      "_________________________________________________________________\n"
     ]
    },
    {
     "name": "stderr",
     "output_type": "stream",
     "text": [
      "WARNING:absl:Found untraced functions such as lstm_cell_11_layer_call_and_return_conditional_losses, lstm_cell_11_layer_call_fn, lstm_cell_11_layer_call_fn, lstm_cell_11_layer_call_and_return_conditional_losses, lstm_cell_11_layer_call_and_return_conditional_losses while saving (showing 5 of 5). These functions will not be directly callable after loading.\n",
      "WARNING:absl:Found untraced functions such as lstm_cell_11_layer_call_and_return_conditional_losses, lstm_cell_11_layer_call_fn, lstm_cell_11_layer_call_fn, lstm_cell_11_layer_call_and_return_conditional_losses, lstm_cell_11_layer_call_and_return_conditional_losses while saving (showing 5 of 5). These functions will not be directly callable after loading.\n"
     ]
    },
    {
     "name": "stdout",
     "output_type": "stream",
     "text": [
      "INFO:tensorflow:Assets written to: ./resources/checkpoints/LSTM_15_10/assets\n"
     ]
    },
    {
     "name": "stderr",
     "output_type": "stream",
     "text": [
      "INFO:tensorflow:Assets written to: ./resources/checkpoints/LSTM_15_10/assets\n",
      "WARNING:absl:Found untraced functions such as lstm_cell_11_layer_call_and_return_conditional_losses, lstm_cell_11_layer_call_fn, lstm_cell_11_layer_call_fn, lstm_cell_11_layer_call_and_return_conditional_losses, lstm_cell_11_layer_call_and_return_conditional_losses while saving (showing 5 of 5). These functions will not be directly callable after loading.\n",
      "WARNING:absl:Found untraced functions such as lstm_cell_11_layer_call_and_return_conditional_losses, lstm_cell_11_layer_call_fn, lstm_cell_11_layer_call_fn, lstm_cell_11_layer_call_and_return_conditional_losses, lstm_cell_11_layer_call_and_return_conditional_losses while saving (showing 5 of 5). These functions will not be directly callable after loading.\n"
     ]
    },
    {
     "name": "stdout",
     "output_type": "stream",
     "text": [
      "INFO:tensorflow:Assets written to: ./resources/checkpoints/LSTM_15_10/assets\n"
     ]
    },
    {
     "name": "stderr",
     "output_type": "stream",
     "text": [
      "INFO:tensorflow:Assets written to: ./resources/checkpoints/LSTM_15_10/assets\n",
      "WARNING:absl:Found untraced functions such as lstm_cell_11_layer_call_and_return_conditional_losses, lstm_cell_11_layer_call_fn, lstm_cell_11_layer_call_fn, lstm_cell_11_layer_call_and_return_conditional_losses, lstm_cell_11_layer_call_and_return_conditional_losses while saving (showing 5 of 5). These functions will not be directly callable after loading.\n",
      "WARNING:absl:Found untraced functions such as lstm_cell_11_layer_call_and_return_conditional_losses, lstm_cell_11_layer_call_fn, lstm_cell_11_layer_call_fn, lstm_cell_11_layer_call_and_return_conditional_losses, lstm_cell_11_layer_call_and_return_conditional_losses while saving (showing 5 of 5). These functions will not be directly callable after loading.\n"
     ]
    },
    {
     "name": "stdout",
     "output_type": "stream",
     "text": [
      "INFO:tensorflow:Assets written to: ./resources/checkpoints/LSTM_15_10/assets\n"
     ]
    },
    {
     "name": "stderr",
     "output_type": "stream",
     "text": [
      "INFO:tensorflow:Assets written to: ./resources/checkpoints/LSTM_15_10/assets\n",
      "WARNING:absl:Found untraced functions such as lstm_cell_11_layer_call_and_return_conditional_losses, lstm_cell_11_layer_call_fn, lstm_cell_11_layer_call_fn, lstm_cell_11_layer_call_and_return_conditional_losses, lstm_cell_11_layer_call_and_return_conditional_losses while saving (showing 5 of 5). These functions will not be directly callable after loading.\n",
      "WARNING:absl:Found untraced functions such as lstm_cell_11_layer_call_and_return_conditional_losses, lstm_cell_11_layer_call_fn, lstm_cell_11_layer_call_fn, lstm_cell_11_layer_call_and_return_conditional_losses, lstm_cell_11_layer_call_and_return_conditional_losses while saving (showing 5 of 5). These functions will not be directly callable after loading.\n"
     ]
    },
    {
     "name": "stdout",
     "output_type": "stream",
     "text": [
      "INFO:tensorflow:Assets written to: ./resources/checkpoints/LSTM_15_10/assets\n"
     ]
    },
    {
     "name": "stderr",
     "output_type": "stream",
     "text": [
      "INFO:tensorflow:Assets written to: ./resources/checkpoints/LSTM_15_10/assets\n",
      "WARNING:absl:Found untraced functions such as lstm_cell_11_layer_call_and_return_conditional_losses, lstm_cell_11_layer_call_fn, lstm_cell_11_layer_call_fn, lstm_cell_11_layer_call_and_return_conditional_losses, lstm_cell_11_layer_call_and_return_conditional_losses while saving (showing 5 of 5). These functions will not be directly callable after loading.\n",
      "WARNING:absl:Found untraced functions such as lstm_cell_11_layer_call_and_return_conditional_losses, lstm_cell_11_layer_call_fn, lstm_cell_11_layer_call_fn, lstm_cell_11_layer_call_and_return_conditional_losses, lstm_cell_11_layer_call_and_return_conditional_losses while saving (showing 5 of 5). These functions will not be directly callable after loading.\n"
     ]
    },
    {
     "name": "stdout",
     "output_type": "stream",
     "text": [
      "INFO:tensorflow:Assets written to: ./resources/checkpoints/LSTM_15_10/assets\n"
     ]
    },
    {
     "name": "stderr",
     "output_type": "stream",
     "text": [
      "INFO:tensorflow:Assets written to: ./resources/checkpoints/LSTM_15_10/assets\n",
      "WARNING:absl:Found untraced functions such as lstm_cell_11_layer_call_and_return_conditional_losses, lstm_cell_11_layer_call_fn, lstm_cell_11_layer_call_fn, lstm_cell_11_layer_call_and_return_conditional_losses, lstm_cell_11_layer_call_and_return_conditional_losses while saving (showing 5 of 5). These functions will not be directly callable after loading.\n",
      "WARNING:absl:Found untraced functions such as lstm_cell_11_layer_call_and_return_conditional_losses, lstm_cell_11_layer_call_fn, lstm_cell_11_layer_call_fn, lstm_cell_11_layer_call_and_return_conditional_losses, lstm_cell_11_layer_call_and_return_conditional_losses while saving (showing 5 of 5). These functions will not be directly callable after loading.\n"
     ]
    },
    {
     "name": "stdout",
     "output_type": "stream",
     "text": [
      "INFO:tensorflow:Assets written to: ./resources/checkpoints/LSTM_15_10/assets\n"
     ]
    },
    {
     "name": "stderr",
     "output_type": "stream",
     "text": [
      "INFO:tensorflow:Assets written to: ./resources/checkpoints/LSTM_15_10/assets\n",
      "WARNING:absl:Found untraced functions such as lstm_cell_11_layer_call_and_return_conditional_losses, lstm_cell_11_layer_call_fn, lstm_cell_11_layer_call_fn, lstm_cell_11_layer_call_and_return_conditional_losses, lstm_cell_11_layer_call_and_return_conditional_losses while saving (showing 5 of 5). These functions will not be directly callable after loading.\n",
      "WARNING:absl:Found untraced functions such as lstm_cell_11_layer_call_and_return_conditional_losses, lstm_cell_11_layer_call_fn, lstm_cell_11_layer_call_fn, lstm_cell_11_layer_call_and_return_conditional_losses, lstm_cell_11_layer_call_and_return_conditional_losses while saving (showing 5 of 5). These functions will not be directly callable after loading.\n"
     ]
    },
    {
     "name": "stdout",
     "output_type": "stream",
     "text": [
      "INFO:tensorflow:Assets written to: ./resources/checkpoints/LSTM_15_10/assets\n"
     ]
    },
    {
     "name": "stderr",
     "output_type": "stream",
     "text": [
      "INFO:tensorflow:Assets written to: ./resources/checkpoints/LSTM_15_10/assets\n",
      "WARNING:absl:Found untraced functions such as lstm_cell_11_layer_call_and_return_conditional_losses, lstm_cell_11_layer_call_fn, lstm_cell_11_layer_call_fn, lstm_cell_11_layer_call_and_return_conditional_losses, lstm_cell_11_layer_call_and_return_conditional_losses while saving (showing 5 of 5). These functions will not be directly callable after loading.\n",
      "WARNING:absl:Found untraced functions such as lstm_cell_11_layer_call_and_return_conditional_losses, lstm_cell_11_layer_call_fn, lstm_cell_11_layer_call_fn, lstm_cell_11_layer_call_and_return_conditional_losses, lstm_cell_11_layer_call_and_return_conditional_losses while saving (showing 5 of 5). These functions will not be directly callable after loading.\n"
     ]
    },
    {
     "name": "stdout",
     "output_type": "stream",
     "text": [
      "INFO:tensorflow:Assets written to: ./resources/checkpoints/LSTM_15_10/assets\n"
     ]
    },
    {
     "name": "stderr",
     "output_type": "stream",
     "text": [
      "INFO:tensorflow:Assets written to: ./resources/checkpoints/LSTM_15_10/assets\n",
      "WARNING:absl:Found untraced functions such as lstm_cell_11_layer_call_and_return_conditional_losses, lstm_cell_11_layer_call_fn, lstm_cell_11_layer_call_fn, lstm_cell_11_layer_call_and_return_conditional_losses, lstm_cell_11_layer_call_and_return_conditional_losses while saving (showing 5 of 5). These functions will not be directly callable after loading.\n",
      "WARNING:absl:Found untraced functions such as lstm_cell_11_layer_call_and_return_conditional_losses, lstm_cell_11_layer_call_fn, lstm_cell_11_layer_call_fn, lstm_cell_11_layer_call_and_return_conditional_losses, lstm_cell_11_layer_call_and_return_conditional_losses while saving (showing 5 of 5). These functions will not be directly callable after loading.\n"
     ]
    },
    {
     "name": "stdout",
     "output_type": "stream",
     "text": [
      "INFO:tensorflow:Assets written to: ./resources/checkpoints/LSTM_15_10/assets\n"
     ]
    },
    {
     "name": "stderr",
     "output_type": "stream",
     "text": [
      "INFO:tensorflow:Assets written to: ./resources/checkpoints/LSTM_15_10/assets\n",
      "WARNING:absl:Found untraced functions such as lstm_cell_11_layer_call_and_return_conditional_losses, lstm_cell_11_layer_call_fn, lstm_cell_11_layer_call_fn, lstm_cell_11_layer_call_and_return_conditional_losses, lstm_cell_11_layer_call_and_return_conditional_losses while saving (showing 5 of 5). These functions will not be directly callable after loading.\n",
      "WARNING:absl:Found untraced functions such as lstm_cell_11_layer_call_and_return_conditional_losses, lstm_cell_11_layer_call_fn, lstm_cell_11_layer_call_fn, lstm_cell_11_layer_call_and_return_conditional_losses, lstm_cell_11_layer_call_and_return_conditional_losses while saving (showing 5 of 5). These functions will not be directly callable after loading.\n"
     ]
    },
    {
     "name": "stdout",
     "output_type": "stream",
     "text": [
      "INFO:tensorflow:Assets written to: ./resources/checkpoints/LSTM_15_10/assets\n"
     ]
    },
    {
     "name": "stderr",
     "output_type": "stream",
     "text": [
      "INFO:tensorflow:Assets written to: ./resources/checkpoints/LSTM_15_10/assets\n",
      "WARNING:absl:Found untraced functions such as lstm_cell_11_layer_call_and_return_conditional_losses, lstm_cell_11_layer_call_fn, lstm_cell_11_layer_call_fn, lstm_cell_11_layer_call_and_return_conditional_losses, lstm_cell_11_layer_call_and_return_conditional_losses while saving (showing 5 of 5). These functions will not be directly callable after loading.\n",
      "WARNING:absl:Found untraced functions such as lstm_cell_11_layer_call_and_return_conditional_losses, lstm_cell_11_layer_call_fn, lstm_cell_11_layer_call_fn, lstm_cell_11_layer_call_and_return_conditional_losses, lstm_cell_11_layer_call_and_return_conditional_losses while saving (showing 5 of 5). These functions will not be directly callable after loading.\n"
     ]
    },
    {
     "name": "stdout",
     "output_type": "stream",
     "text": [
      "INFO:tensorflow:Assets written to: ./resources/checkpoints/LSTM_15_10/assets\n"
     ]
    },
    {
     "name": "stderr",
     "output_type": "stream",
     "text": [
      "INFO:tensorflow:Assets written to: ./resources/checkpoints/LSTM_15_10/assets\n",
      "WARNING:absl:Found untraced functions such as lstm_cell_11_layer_call_and_return_conditional_losses, lstm_cell_11_layer_call_fn, lstm_cell_11_layer_call_fn, lstm_cell_11_layer_call_and_return_conditional_losses, lstm_cell_11_layer_call_and_return_conditional_losses while saving (showing 5 of 5). These functions will not be directly callable after loading.\n",
      "WARNING:absl:Found untraced functions such as lstm_cell_11_layer_call_and_return_conditional_losses, lstm_cell_11_layer_call_fn, lstm_cell_11_layer_call_fn, lstm_cell_11_layer_call_and_return_conditional_losses, lstm_cell_11_layer_call_and_return_conditional_losses while saving (showing 5 of 5). These functions will not be directly callable after loading.\n"
     ]
    },
    {
     "name": "stdout",
     "output_type": "stream",
     "text": [
      "INFO:tensorflow:Assets written to: ./resources/checkpoints/LSTM_15_10/assets\n"
     ]
    },
    {
     "name": "stderr",
     "output_type": "stream",
     "text": [
      "INFO:tensorflow:Assets written to: ./resources/checkpoints/LSTM_15_10/assets\n"
     ]
    },
    {
     "name": "stdout",
     "output_type": "stream",
     "text": [
      "662/662 [==============================] - 1s 2ms/step - loss: 1.0837 - accuracy: 0.5275 - precision_50: 0.6490 - recall_50: 0.3246\n",
      "138/138 [==============================] - 0s 2ms/step - loss: 1.1856 - accuracy: 0.4957 - precision_50: 0.5858 - recall_50: 0.2925\n",
      "Model: \"sequential_51\"\n",
      "_________________________________________________________________\n",
      "Layer (type)                 Output Shape              Param #   \n",
      "=================================================================\n",
      "dense_141 (Dense)            (None, 21178, 375)        281625    \n",
      "_________________________________________________________________\n",
      "dense_142 (Dense)            (None, 21178, 4)          1504      \n",
      "=================================================================\n",
      "Total params: 283,129\n",
      "Trainable params: 283,129\n",
      "Non-trainable params: 0\n",
      "_________________________________________________________________\n",
      "WARNING:tensorflow:Model was constructed with shape (None, 21178, 750) for input KerasTensor(type_spec=TensorSpec(shape=(None, 21178, 750), dtype=tf.float32, name='dense_141_input'), name='dense_141_input', description=\"created by layer 'dense_141_input'\"), but it was called on an input with incompatible shape (None, 750).\n"
     ]
    },
    {
     "name": "stderr",
     "output_type": "stream",
     "text": [
      "WARNING:tensorflow:Model was constructed with shape (None, 21178, 750) for input KerasTensor(type_spec=TensorSpec(shape=(None, 21178, 750), dtype=tf.float32, name='dense_141_input'), name='dense_141_input', description=\"created by layer 'dense_141_input'\"), but it was called on an input with incompatible shape (None, 750).\n"
     ]
    },
    {
     "name": "stdout",
     "output_type": "stream",
     "text": [
      "WARNING:tensorflow:Model was constructed with shape (None, 21178, 750) for input KerasTensor(type_spec=TensorSpec(shape=(None, 21178, 750), dtype=tf.float32, name='dense_141_input'), name='dense_141_input', description=\"created by layer 'dense_141_input'\"), but it was called on an input with incompatible shape (None, 750).\n"
     ]
    },
    {
     "name": "stderr",
     "output_type": "stream",
     "text": [
      "WARNING:tensorflow:Model was constructed with shape (None, 21178, 750) for input KerasTensor(type_spec=TensorSpec(shape=(None, 21178, 750), dtype=tf.float32, name='dense_141_input'), name='dense_141_input', description=\"created by layer 'dense_141_input'\"), but it was called on an input with incompatible shape (None, 750).\n"
     ]
    },
    {
     "name": "stdout",
     "output_type": "stream",
     "text": [
      "WARNING:tensorflow:Model was constructed with shape (None, 21178, 750) for input KerasTensor(type_spec=TensorSpec(shape=(None, 21178, 750), dtype=tf.float32, name='dense_141_input'), name='dense_141_input', description=\"created by layer 'dense_141_input'\"), but it was called on an input with incompatible shape (None, 750).\n"
     ]
    },
    {
     "name": "stderr",
     "output_type": "stream",
     "text": [
      "WARNING:tensorflow:Model was constructed with shape (None, 21178, 750) for input KerasTensor(type_spec=TensorSpec(shape=(None, 21178, 750), dtype=tf.float32, name='dense_141_input'), name='dense_141_input', description=\"created by layer 'dense_141_input'\"), but it was called on an input with incompatible shape (None, 750).\n"
     ]
    },
    {
     "name": "stdout",
     "output_type": "stream",
     "text": [
      "INFO:tensorflow:Assets written to: ./resources/checkpoints/baseline_75_10/assets\n"
     ]
    },
    {
     "name": "stderr",
     "output_type": "stream",
     "text": [
      "INFO:tensorflow:Assets written to: ./resources/checkpoints/baseline_75_10/assets\n"
     ]
    },
    {
     "name": "stdout",
     "output_type": "stream",
     "text": [
      "INFO:tensorflow:Assets written to: ./resources/checkpoints/baseline_75_10/assets\n"
     ]
    },
    {
     "name": "stderr",
     "output_type": "stream",
     "text": [
      "INFO:tensorflow:Assets written to: ./resources/checkpoints/baseline_75_10/assets\n"
     ]
    },
    {
     "name": "stdout",
     "output_type": "stream",
     "text": [
      "662/662 [==============================] - 1s 2ms/step - loss: 0.3341 - accuracy: 0.8625 - precision_51: 0.9280 - recall_51: 0.8154\n",
      "138/138 [==============================] - 0s 2ms/step - loss: 2.1511 - accuracy: 0.4425 - precision_51: 0.4648 - recall_51: 0.3845\n",
      "Model: \"sequential_52\"\n",
      "_________________________________________________________________\n",
      "Layer (type)                 Output Shape              Param #   \n",
      "=================================================================\n",
      "dense_143 (Dense)            (None, 21178, 375)        281625    \n",
      "_________________________________________________________________\n",
      "dropout_39 (Dropout)         (None, 21178, 375)        0         \n",
      "_________________________________________________________________\n",
      "dense_144 (Dense)            (None, 21178, 375)        141000    \n",
      "_________________________________________________________________\n",
      "dropout_40 (Dropout)         (None, 21178, 375)        0         \n",
      "_________________________________________________________________\n",
      "dense_145 (Dense)            (None, 21178, 375)        141000    \n",
      "_________________________________________________________________\n",
      "dropout_41 (Dropout)         (None, 21178, 375)        0         \n",
      "_________________________________________________________________\n",
      "dense_146 (Dense)            (None, 21178, 375)        141000    \n",
      "_________________________________________________________________\n",
      "dense_147 (Dense)            (None, 21178, 4)          1504      \n",
      "=================================================================\n",
      "Total params: 706,129\n",
      "Trainable params: 706,129\n",
      "Non-trainable params: 0\n",
      "_________________________________________________________________\n",
      "WARNING:tensorflow:Model was constructed with shape (None, 21178, 750) for input KerasTensor(type_spec=TensorSpec(shape=(None, 21178, 750), dtype=tf.float32, name='dense_143_input'), name='dense_143_input', description=\"created by layer 'dense_143_input'\"), but it was called on an input with incompatible shape (None, 750).\n"
     ]
    },
    {
     "name": "stderr",
     "output_type": "stream",
     "text": [
      "WARNING:tensorflow:Model was constructed with shape (None, 21178, 750) for input KerasTensor(type_spec=TensorSpec(shape=(None, 21178, 750), dtype=tf.float32, name='dense_143_input'), name='dense_143_input', description=\"created by layer 'dense_143_input'\"), but it was called on an input with incompatible shape (None, 750).\n"
     ]
    },
    {
     "name": "stdout",
     "output_type": "stream",
     "text": [
      "WARNING:tensorflow:Model was constructed with shape (None, 21178, 750) for input KerasTensor(type_spec=TensorSpec(shape=(None, 21178, 750), dtype=tf.float32, name='dense_143_input'), name='dense_143_input', description=\"created by layer 'dense_143_input'\"), but it was called on an input with incompatible shape (None, 750).\n"
     ]
    },
    {
     "name": "stderr",
     "output_type": "stream",
     "text": [
      "WARNING:tensorflow:Model was constructed with shape (None, 21178, 750) for input KerasTensor(type_spec=TensorSpec(shape=(None, 21178, 750), dtype=tf.float32, name='dense_143_input'), name='dense_143_input', description=\"created by layer 'dense_143_input'\"), but it was called on an input with incompatible shape (None, 750).\n"
     ]
    },
    {
     "name": "stdout",
     "output_type": "stream",
     "text": [
      "WARNING:tensorflow:Model was constructed with shape (None, 21178, 750) for input KerasTensor(type_spec=TensorSpec(shape=(None, 21178, 750), dtype=tf.float32, name='dense_143_input'), name='dense_143_input', description=\"created by layer 'dense_143_input'\"), but it was called on an input with incompatible shape (None, 750).\n"
     ]
    },
    {
     "name": "stderr",
     "output_type": "stream",
     "text": [
      "WARNING:tensorflow:Model was constructed with shape (None, 21178, 750) for input KerasTensor(type_spec=TensorSpec(shape=(None, 21178, 750), dtype=tf.float32, name='dense_143_input'), name='dense_143_input', description=\"created by layer 'dense_143_input'\"), but it was called on an input with incompatible shape (None, 750).\n"
     ]
    },
    {
     "name": "stdout",
     "output_type": "stream",
     "text": [
      "INFO:tensorflow:Assets written to: ./resources/checkpoints/DeepFC_75_10/assets\n"
     ]
    },
    {
     "name": "stderr",
     "output_type": "stream",
     "text": [
      "INFO:tensorflow:Assets written to: ./resources/checkpoints/DeepFC_75_10/assets\n"
     ]
    },
    {
     "name": "stdout",
     "output_type": "stream",
     "text": [
      "INFO:tensorflow:Assets written to: ./resources/checkpoints/DeepFC_75_10/assets\n"
     ]
    },
    {
     "name": "stderr",
     "output_type": "stream",
     "text": [
      "INFO:tensorflow:Assets written to: ./resources/checkpoints/DeepFC_75_10/assets\n"
     ]
    },
    {
     "name": "stdout",
     "output_type": "stream",
     "text": [
      "662/662 [==============================] - 1s 2ms/step - loss: 0.3625 - accuracy: 0.8533 - precision_52: 0.9562 - recall_52: 0.7674\n",
      "138/138 [==============================] - 0s 2ms/step - loss: 2.0139 - accuracy: 0.4520 - precision_52: 0.4811 - recall_52: 0.3580\n",
      "Model: \"sequential_53\"\n",
      "_________________________________________________________________\n",
      "Layer (type)                 Output Shape              Param #   \n",
      "=================================================================\n",
      "simple_rnn_12 (SimpleRNN)    (None, 75)                11325     \n",
      "_________________________________________________________________\n",
      "flatten_24 (Flatten)         (None, 75)                0         \n",
      "_________________________________________________________________\n",
      "dense_148 (Dense)            (None, 375)               28500     \n",
      "_________________________________________________________________\n",
      "dense_149 (Dense)            (None, 4)                 1504      \n",
      "=================================================================\n",
      "Total params: 41,329\n",
      "Trainable params: 41,329\n",
      "Non-trainable params: 0\n",
      "_________________________________________________________________\n",
      "INFO:tensorflow:Assets written to: ./resources/checkpoints/SimpleRNN_75_10/assets\n"
     ]
    },
    {
     "name": "stderr",
     "output_type": "stream",
     "text": [
      "INFO:tensorflow:Assets written to: ./resources/checkpoints/SimpleRNN_75_10/assets\n"
     ]
    },
    {
     "name": "stdout",
     "output_type": "stream",
     "text": [
      "INFO:tensorflow:Assets written to: ./resources/checkpoints/SimpleRNN_75_10/assets\n"
     ]
    },
    {
     "name": "stderr",
     "output_type": "stream",
     "text": [
      "INFO:tensorflow:Assets written to: ./resources/checkpoints/SimpleRNN_75_10/assets\n"
     ]
    },
    {
     "name": "stdout",
     "output_type": "stream",
     "text": [
      "662/662 [==============================] - 2s 2ms/step - loss: 0.7095 - accuracy: 0.7124 - precision_53: 0.8299 - recall_53: 0.5795\n",
      "138/138 [==============================] - 0s 2ms/step - loss: 1.5900 - accuracy: 0.4543 - precision_53: 0.5072 - recall_53: 0.3352\n",
      "Model: \"sequential_54\"\n",
      "_________________________________________________________________\n",
      "Layer (type)                 Output Shape              Param #   \n",
      "=================================================================\n",
      "lstm_12 (LSTM)               (None, 75)                45300     \n",
      "_________________________________________________________________\n",
      "flatten_25 (Flatten)         (None, 75)                0         \n",
      "_________________________________________________________________\n",
      "dense_150 (Dense)            (None, 375)               28500     \n",
      "_________________________________________________________________\n",
      "dense_151 (Dense)            (None, 4)                 1504      \n",
      "=================================================================\n",
      "Total params: 75,304\n",
      "Trainable params: 75,304\n",
      "Non-trainable params: 0\n",
      "_________________________________________________________________\n"
     ]
    },
    {
     "name": "stderr",
     "output_type": "stream",
     "text": [
      "WARNING:absl:Found untraced functions such as lstm_cell_12_layer_call_and_return_conditional_losses, lstm_cell_12_layer_call_fn, lstm_cell_12_layer_call_fn, lstm_cell_12_layer_call_and_return_conditional_losses, lstm_cell_12_layer_call_and_return_conditional_losses while saving (showing 5 of 5). These functions will not be directly callable after loading.\n",
      "WARNING:absl:Found untraced functions such as lstm_cell_12_layer_call_and_return_conditional_losses, lstm_cell_12_layer_call_fn, lstm_cell_12_layer_call_fn, lstm_cell_12_layer_call_and_return_conditional_losses, lstm_cell_12_layer_call_and_return_conditional_losses while saving (showing 5 of 5). These functions will not be directly callable after loading.\n"
     ]
    },
    {
     "name": "stdout",
     "output_type": "stream",
     "text": [
      "INFO:tensorflow:Assets written to: ./resources/checkpoints/LSTM_75_10/assets\n"
     ]
    },
    {
     "name": "stderr",
     "output_type": "stream",
     "text": [
      "INFO:tensorflow:Assets written to: ./resources/checkpoints/LSTM_75_10/assets\n",
      "WARNING:absl:Found untraced functions such as lstm_cell_12_layer_call_and_return_conditional_losses, lstm_cell_12_layer_call_fn, lstm_cell_12_layer_call_fn, lstm_cell_12_layer_call_and_return_conditional_losses, lstm_cell_12_layer_call_and_return_conditional_losses while saving (showing 5 of 5). These functions will not be directly callable after loading.\n",
      "WARNING:absl:Found untraced functions such as lstm_cell_12_layer_call_and_return_conditional_losses, lstm_cell_12_layer_call_fn, lstm_cell_12_layer_call_fn, lstm_cell_12_layer_call_and_return_conditional_losses, lstm_cell_12_layer_call_and_return_conditional_losses while saving (showing 5 of 5). These functions will not be directly callable after loading.\n"
     ]
    },
    {
     "name": "stdout",
     "output_type": "stream",
     "text": [
      "INFO:tensorflow:Assets written to: ./resources/checkpoints/LSTM_75_10/assets\n"
     ]
    },
    {
     "name": "stderr",
     "output_type": "stream",
     "text": [
      "INFO:tensorflow:Assets written to: ./resources/checkpoints/LSTM_75_10/assets\n",
      "WARNING:absl:Found untraced functions such as lstm_cell_12_layer_call_and_return_conditional_losses, lstm_cell_12_layer_call_fn, lstm_cell_12_layer_call_fn, lstm_cell_12_layer_call_and_return_conditional_losses, lstm_cell_12_layer_call_and_return_conditional_losses while saving (showing 5 of 5). These functions will not be directly callable after loading.\n",
      "WARNING:absl:Found untraced functions such as lstm_cell_12_layer_call_and_return_conditional_losses, lstm_cell_12_layer_call_fn, lstm_cell_12_layer_call_fn, lstm_cell_12_layer_call_and_return_conditional_losses, lstm_cell_12_layer_call_and_return_conditional_losses while saving (showing 5 of 5). These functions will not be directly callable after loading.\n"
     ]
    },
    {
     "name": "stdout",
     "output_type": "stream",
     "text": [
      "INFO:tensorflow:Assets written to: ./resources/checkpoints/LSTM_75_10/assets\n"
     ]
    },
    {
     "name": "stderr",
     "output_type": "stream",
     "text": [
      "INFO:tensorflow:Assets written to: ./resources/checkpoints/LSTM_75_10/assets\n",
      "WARNING:absl:Found untraced functions such as lstm_cell_12_layer_call_and_return_conditional_losses, lstm_cell_12_layer_call_fn, lstm_cell_12_layer_call_fn, lstm_cell_12_layer_call_and_return_conditional_losses, lstm_cell_12_layer_call_and_return_conditional_losses while saving (showing 5 of 5). These functions will not be directly callable after loading.\n",
      "WARNING:absl:Found untraced functions such as lstm_cell_12_layer_call_and_return_conditional_losses, lstm_cell_12_layer_call_fn, lstm_cell_12_layer_call_fn, lstm_cell_12_layer_call_and_return_conditional_losses, lstm_cell_12_layer_call_and_return_conditional_losses while saving (showing 5 of 5). These functions will not be directly callable after loading.\n"
     ]
    },
    {
     "name": "stdout",
     "output_type": "stream",
     "text": [
      "INFO:tensorflow:Assets written to: ./resources/checkpoints/LSTM_75_10/assets\n"
     ]
    },
    {
     "name": "stderr",
     "output_type": "stream",
     "text": [
      "INFO:tensorflow:Assets written to: ./resources/checkpoints/LSTM_75_10/assets\n",
      "WARNING:absl:Found untraced functions such as lstm_cell_12_layer_call_and_return_conditional_losses, lstm_cell_12_layer_call_fn, lstm_cell_12_layer_call_fn, lstm_cell_12_layer_call_and_return_conditional_losses, lstm_cell_12_layer_call_and_return_conditional_losses while saving (showing 5 of 5). These functions will not be directly callable after loading.\n",
      "WARNING:absl:Found untraced functions such as lstm_cell_12_layer_call_and_return_conditional_losses, lstm_cell_12_layer_call_fn, lstm_cell_12_layer_call_fn, lstm_cell_12_layer_call_and_return_conditional_losses, lstm_cell_12_layer_call_and_return_conditional_losses while saving (showing 5 of 5). These functions will not be directly callable after loading.\n"
     ]
    },
    {
     "name": "stdout",
     "output_type": "stream",
     "text": [
      "INFO:tensorflow:Assets written to: ./resources/checkpoints/LSTM_75_10/assets\n"
     ]
    },
    {
     "name": "stderr",
     "output_type": "stream",
     "text": [
      "INFO:tensorflow:Assets written to: ./resources/checkpoints/LSTM_75_10/assets\n",
      "WARNING:absl:Found untraced functions such as lstm_cell_12_layer_call_and_return_conditional_losses, lstm_cell_12_layer_call_fn, lstm_cell_12_layer_call_fn, lstm_cell_12_layer_call_and_return_conditional_losses, lstm_cell_12_layer_call_and_return_conditional_losses while saving (showing 5 of 5). These functions will not be directly callable after loading.\n",
      "WARNING:absl:Found untraced functions such as lstm_cell_12_layer_call_and_return_conditional_losses, lstm_cell_12_layer_call_fn, lstm_cell_12_layer_call_fn, lstm_cell_12_layer_call_and_return_conditional_losses, lstm_cell_12_layer_call_and_return_conditional_losses while saving (showing 5 of 5). These functions will not be directly callable after loading.\n"
     ]
    },
    {
     "name": "stdout",
     "output_type": "stream",
     "text": [
      "INFO:tensorflow:Assets written to: ./resources/checkpoints/LSTM_75_10/assets\n"
     ]
    },
    {
     "name": "stderr",
     "output_type": "stream",
     "text": [
      "INFO:tensorflow:Assets written to: ./resources/checkpoints/LSTM_75_10/assets\n"
     ]
    },
    {
     "name": "stdout",
     "output_type": "stream",
     "text": [
      "662/662 [==============================] - 1s 2ms/step - loss: 0.7832 - accuracy: 0.6628 - precision_54: 0.8089 - recall_54: 0.5021\n",
      "138/138 [==============================] - 0s 2ms/step - loss: 1.4294 - accuracy: 0.4884 - precision_54: 0.5620 - recall_54: 0.3368\n",
      "Model: \"sequential_55\"\n",
      "_________________________________________________________________\n",
      "Layer (type)                 Output Shape              Param #   \n",
      "=================================================================\n",
      "dense_152 (Dense)            (None, 21178, 750)        1125750   \n",
      "_________________________________________________________________\n",
      "dense_153 (Dense)            (None, 21178, 4)          3004      \n",
      "=================================================================\n",
      "Total params: 1,128,754\n",
      "Trainable params: 1,128,754\n",
      "Non-trainable params: 0\n",
      "_________________________________________________________________\n",
      "WARNING:tensorflow:Model was constructed with shape (None, 21178, 1500) for input KerasTensor(type_spec=TensorSpec(shape=(None, 21178, 1500), dtype=tf.float32, name='dense_152_input'), name='dense_152_input', description=\"created by layer 'dense_152_input'\"), but it was called on an input with incompatible shape (None, 1500).\n"
     ]
    },
    {
     "name": "stderr",
     "output_type": "stream",
     "text": [
      "WARNING:tensorflow:Model was constructed with shape (None, 21178, 1500) for input KerasTensor(type_spec=TensorSpec(shape=(None, 21178, 1500), dtype=tf.float32, name='dense_152_input'), name='dense_152_input', description=\"created by layer 'dense_152_input'\"), but it was called on an input with incompatible shape (None, 1500).\n"
     ]
    },
    {
     "name": "stdout",
     "output_type": "stream",
     "text": [
      "WARNING:tensorflow:Model was constructed with shape (None, 21178, 1500) for input KerasTensor(type_spec=TensorSpec(shape=(None, 21178, 1500), dtype=tf.float32, name='dense_152_input'), name='dense_152_input', description=\"created by layer 'dense_152_input'\"), but it was called on an input with incompatible shape (None, 1500).\n"
     ]
    },
    {
     "name": "stderr",
     "output_type": "stream",
     "text": [
      "WARNING:tensorflow:Model was constructed with shape (None, 21178, 1500) for input KerasTensor(type_spec=TensorSpec(shape=(None, 21178, 1500), dtype=tf.float32, name='dense_152_input'), name='dense_152_input', description=\"created by layer 'dense_152_input'\"), but it was called on an input with incompatible shape (None, 1500).\n"
     ]
    },
    {
     "name": "stdout",
     "output_type": "stream",
     "text": [
      "WARNING:tensorflow:Model was constructed with shape (None, 21178, 1500) for input KerasTensor(type_spec=TensorSpec(shape=(None, 21178, 1500), dtype=tf.float32, name='dense_152_input'), name='dense_152_input', description=\"created by layer 'dense_152_input'\"), but it was called on an input with incompatible shape (None, 1500).\n"
     ]
    },
    {
     "name": "stderr",
     "output_type": "stream",
     "text": [
      "WARNING:tensorflow:Model was constructed with shape (None, 21178, 1500) for input KerasTensor(type_spec=TensorSpec(shape=(None, 21178, 1500), dtype=tf.float32, name='dense_152_input'), name='dense_152_input', description=\"created by layer 'dense_152_input'\"), but it was called on an input with incompatible shape (None, 1500).\n"
     ]
    },
    {
     "name": "stdout",
     "output_type": "stream",
     "text": [
      "INFO:tensorflow:Assets written to: ./resources/checkpoints/baseline_150_10/assets\n"
     ]
    },
    {
     "name": "stderr",
     "output_type": "stream",
     "text": [
      "INFO:tensorflow:Assets written to: ./resources/checkpoints/baseline_150_10/assets\n"
     ]
    },
    {
     "name": "stdout",
     "output_type": "stream",
     "text": [
      "662/662 [==============================] - 1s 2ms/step - loss: 0.3147 - accuracy: 0.8649 - precision_55: 0.9268 - recall_55: 0.8229\n",
      "138/138 [==============================] - 0s 2ms/step - loss: 2.0709 - accuracy: 0.4570 - precision_55: 0.4870 - recall_55: 0.4014\n",
      "Model: \"sequential_56\"\n",
      "_________________________________________________________________\n",
      "Layer (type)                 Output Shape              Param #   \n",
      "=================================================================\n",
      "dense_154 (Dense)            (None, 21178, 750)        1125750   \n",
      "_________________________________________________________________\n",
      "dropout_42 (Dropout)         (None, 21178, 750)        0         \n",
      "_________________________________________________________________\n",
      "dense_155 (Dense)            (None, 21178, 750)        563250    \n",
      "_________________________________________________________________\n",
      "dropout_43 (Dropout)         (None, 21178, 750)        0         \n",
      "_________________________________________________________________\n",
      "dense_156 (Dense)            (None, 21178, 750)        563250    \n",
      "_________________________________________________________________\n",
      "dropout_44 (Dropout)         (None, 21178, 750)        0         \n",
      "_________________________________________________________________\n",
      "dense_157 (Dense)            (None, 21178, 750)        563250    \n",
      "_________________________________________________________________\n",
      "dense_158 (Dense)            (None, 21178, 4)          3004      \n",
      "=================================================================\n",
      "Total params: 2,818,504\n",
      "Trainable params: 2,818,504\n",
      "Non-trainable params: 0\n",
      "_________________________________________________________________\n",
      "WARNING:tensorflow:Model was constructed with shape (None, 21178, 1500) for input KerasTensor(type_spec=TensorSpec(shape=(None, 21178, 1500), dtype=tf.float32, name='dense_154_input'), name='dense_154_input', description=\"created by layer 'dense_154_input'\"), but it was called on an input with incompatible shape (None, 1500).\n"
     ]
    },
    {
     "name": "stderr",
     "output_type": "stream",
     "text": [
      "WARNING:tensorflow:Model was constructed with shape (None, 21178, 1500) for input KerasTensor(type_spec=TensorSpec(shape=(None, 21178, 1500), dtype=tf.float32, name='dense_154_input'), name='dense_154_input', description=\"created by layer 'dense_154_input'\"), but it was called on an input with incompatible shape (None, 1500).\n"
     ]
    },
    {
     "name": "stdout",
     "output_type": "stream",
     "text": [
      "WARNING:tensorflow:Model was constructed with shape (None, 21178, 1500) for input KerasTensor(type_spec=TensorSpec(shape=(None, 21178, 1500), dtype=tf.float32, name='dense_154_input'), name='dense_154_input', description=\"created by layer 'dense_154_input'\"), but it was called on an input with incompatible shape (None, 1500).\n"
     ]
    },
    {
     "name": "stderr",
     "output_type": "stream",
     "text": [
      "WARNING:tensorflow:Model was constructed with shape (None, 21178, 1500) for input KerasTensor(type_spec=TensorSpec(shape=(None, 21178, 1500), dtype=tf.float32, name='dense_154_input'), name='dense_154_input', description=\"created by layer 'dense_154_input'\"), but it was called on an input with incompatible shape (None, 1500).\n"
     ]
    },
    {
     "name": "stdout",
     "output_type": "stream",
     "text": [
      "WARNING:tensorflow:Model was constructed with shape (None, 21178, 1500) for input KerasTensor(type_spec=TensorSpec(shape=(None, 21178, 1500), dtype=tf.float32, name='dense_154_input'), name='dense_154_input', description=\"created by layer 'dense_154_input'\"), but it was called on an input with incompatible shape (None, 1500).\n"
     ]
    },
    {
     "name": "stderr",
     "output_type": "stream",
     "text": [
      "WARNING:tensorflow:Model was constructed with shape (None, 21178, 1500) for input KerasTensor(type_spec=TensorSpec(shape=(None, 21178, 1500), dtype=tf.float32, name='dense_154_input'), name='dense_154_input', description=\"created by layer 'dense_154_input'\"), but it was called on an input with incompatible shape (None, 1500).\n"
     ]
    },
    {
     "name": "stdout",
     "output_type": "stream",
     "text": [
      "INFO:tensorflow:Assets written to: ./resources/checkpoints/DeepFC_150_10/assets\n"
     ]
    },
    {
     "name": "stderr",
     "output_type": "stream",
     "text": [
      "INFO:tensorflow:Assets written to: ./resources/checkpoints/DeepFC_150_10/assets\n"
     ]
    },
    {
     "name": "stdout",
     "output_type": "stream",
     "text": [
      "662/662 [==============================] - 1s 2ms/step - loss: 0.3098 - accuracy: 0.8608 - precision_56: 0.9503 - recall_56: 0.7935\n",
      "138/138 [==============================] - 0s 2ms/step - loss: 2.4299 - accuracy: 0.4600 - precision_56: 0.4782 - recall_56: 0.3809\n",
      "Model: \"sequential_57\"\n",
      "_________________________________________________________________\n",
      "Layer (type)                 Output Shape              Param #   \n",
      "=================================================================\n",
      "simple_rnn_13 (SimpleRNN)    (None, 75)                16950     \n",
      "_________________________________________________________________\n",
      "flatten_26 (Flatten)         (None, 75)                0         \n",
      "_________________________________________________________________\n",
      "dense_159 (Dense)            (None, 750)               57000     \n",
      "_________________________________________________________________\n",
      "dense_160 (Dense)            (None, 4)                 3004      \n",
      "=================================================================\n",
      "Total params: 76,954\n",
      "Trainable params: 76,954\n",
      "Non-trainable params: 0\n",
      "_________________________________________________________________\n",
      "INFO:tensorflow:Assets written to: ./resources/checkpoints/SimpleRNN_150_10/assets\n"
     ]
    },
    {
     "name": "stderr",
     "output_type": "stream",
     "text": [
      "INFO:tensorflow:Assets written to: ./resources/checkpoints/SimpleRNN_150_10/assets\n"
     ]
    },
    {
     "name": "stdout",
     "output_type": "stream",
     "text": [
      "INFO:tensorflow:Assets written to: ./resources/checkpoints/SimpleRNN_150_10/assets\n"
     ]
    },
    {
     "name": "stderr",
     "output_type": "stream",
     "text": [
      "INFO:tensorflow:Assets written to: ./resources/checkpoints/SimpleRNN_150_10/assets\n"
     ]
    },
    {
     "name": "stdout",
     "output_type": "stream",
     "text": [
      "INFO:tensorflow:Assets written to: ./resources/checkpoints/SimpleRNN_150_10/assets\n"
     ]
    },
    {
     "name": "stderr",
     "output_type": "stream",
     "text": [
      "INFO:tensorflow:Assets written to: ./resources/checkpoints/SimpleRNN_150_10/assets\n"
     ]
    },
    {
     "name": "stdout",
     "output_type": "stream",
     "text": [
      "662/662 [==============================] - 2s 3ms/step - loss: 0.5554 - accuracy: 0.7809 - precision_57: 0.8902 - recall_57: 0.6702\n",
      "138/138 [==============================] - 0s 3ms/step - loss: 1.8713 - accuracy: 0.4441 - precision_57: 0.4829 - recall_57: 0.3409\n",
      "Model: \"sequential_58\"\n",
      "_________________________________________________________________\n",
      "Layer (type)                 Output Shape              Param #   \n",
      "=================================================================\n",
      "lstm_13 (LSTM)               (None, 75)                67800     \n",
      "_________________________________________________________________\n",
      "flatten_27 (Flatten)         (None, 75)                0         \n",
      "_________________________________________________________________\n",
      "dense_161 (Dense)            (None, 750)               57000     \n",
      "_________________________________________________________________\n",
      "dense_162 (Dense)            (None, 4)                 3004      \n",
      "=================================================================\n",
      "Total params: 127,804\n",
      "Trainable params: 127,804\n",
      "Non-trainable params: 0\n",
      "_________________________________________________________________\n"
     ]
    },
    {
     "name": "stderr",
     "output_type": "stream",
     "text": [
      "WARNING:absl:Found untraced functions such as lstm_cell_13_layer_call_and_return_conditional_losses, lstm_cell_13_layer_call_fn, lstm_cell_13_layer_call_fn, lstm_cell_13_layer_call_and_return_conditional_losses, lstm_cell_13_layer_call_and_return_conditional_losses while saving (showing 5 of 5). These functions will not be directly callable after loading.\n",
      "WARNING:absl:Found untraced functions such as lstm_cell_13_layer_call_and_return_conditional_losses, lstm_cell_13_layer_call_fn, lstm_cell_13_layer_call_fn, lstm_cell_13_layer_call_and_return_conditional_losses, lstm_cell_13_layer_call_and_return_conditional_losses while saving (showing 5 of 5). These functions will not be directly callable after loading.\n"
     ]
    },
    {
     "name": "stdout",
     "output_type": "stream",
     "text": [
      "INFO:tensorflow:Assets written to: ./resources/checkpoints/LSTM_150_10/assets\n"
     ]
    },
    {
     "name": "stderr",
     "output_type": "stream",
     "text": [
      "INFO:tensorflow:Assets written to: ./resources/checkpoints/LSTM_150_10/assets\n",
      "WARNING:absl:Found untraced functions such as lstm_cell_13_layer_call_and_return_conditional_losses, lstm_cell_13_layer_call_fn, lstm_cell_13_layer_call_fn, lstm_cell_13_layer_call_and_return_conditional_losses, lstm_cell_13_layer_call_and_return_conditional_losses while saving (showing 5 of 5). These functions will not be directly callable after loading.\n",
      "WARNING:absl:Found untraced functions such as lstm_cell_13_layer_call_and_return_conditional_losses, lstm_cell_13_layer_call_fn, lstm_cell_13_layer_call_fn, lstm_cell_13_layer_call_and_return_conditional_losses, lstm_cell_13_layer_call_and_return_conditional_losses while saving (showing 5 of 5). These functions will not be directly callable after loading.\n"
     ]
    },
    {
     "name": "stdout",
     "output_type": "stream",
     "text": [
      "INFO:tensorflow:Assets written to: ./resources/checkpoints/LSTM_150_10/assets\n"
     ]
    },
    {
     "name": "stderr",
     "output_type": "stream",
     "text": [
      "INFO:tensorflow:Assets written to: ./resources/checkpoints/LSTM_150_10/assets\n",
      "WARNING:absl:Found untraced functions such as lstm_cell_13_layer_call_and_return_conditional_losses, lstm_cell_13_layer_call_fn, lstm_cell_13_layer_call_fn, lstm_cell_13_layer_call_and_return_conditional_losses, lstm_cell_13_layer_call_and_return_conditional_losses while saving (showing 5 of 5). These functions will not be directly callable after loading.\n",
      "WARNING:absl:Found untraced functions such as lstm_cell_13_layer_call_and_return_conditional_losses, lstm_cell_13_layer_call_fn, lstm_cell_13_layer_call_fn, lstm_cell_13_layer_call_and_return_conditional_losses, lstm_cell_13_layer_call_and_return_conditional_losses while saving (showing 5 of 5). These functions will not be directly callable after loading.\n"
     ]
    },
    {
     "name": "stdout",
     "output_type": "stream",
     "text": [
      "INFO:tensorflow:Assets written to: ./resources/checkpoints/LSTM_150_10/assets\n"
     ]
    },
    {
     "name": "stderr",
     "output_type": "stream",
     "text": [
      "INFO:tensorflow:Assets written to: ./resources/checkpoints/LSTM_150_10/assets\n"
     ]
    },
    {
     "name": "stdout",
     "output_type": "stream",
     "text": [
      "662/662 [==============================] - 1s 2ms/step - loss: 0.6619 - accuracy: 0.7058 - precision_58: 0.8355 - recall_58: 0.5932\n",
      "138/138 [==============================] - 0s 2ms/step - loss: 1.8460 - accuracy: 0.4857 - precision_58: 0.5212 - recall_58: 0.3691\n",
      "Model: \"sequential_59\"\n",
      "_________________________________________________________________\n",
      "Layer (type)                 Output Shape              Param #   \n",
      "=================================================================\n",
      "dense_163 (Dense)            (None, 21178, 225)        101475    \n",
      "_________________________________________________________________\n",
      "dense_164 (Dense)            (None, 21178, 4)          904       \n",
      "=================================================================\n",
      "Total params: 102,379\n",
      "Trainable params: 102,379\n",
      "Non-trainable params: 0\n",
      "_________________________________________________________________\n",
      "WARNING:tensorflow:Model was constructed with shape (None, 21178, 450) for input KerasTensor(type_spec=TensorSpec(shape=(None, 21178, 450), dtype=tf.float32, name='dense_163_input'), name='dense_163_input', description=\"created by layer 'dense_163_input'\"), but it was called on an input with incompatible shape (None, 450).\n"
     ]
    },
    {
     "name": "stderr",
     "output_type": "stream",
     "text": [
      "WARNING:tensorflow:Model was constructed with shape (None, 21178, 450) for input KerasTensor(type_spec=TensorSpec(shape=(None, 21178, 450), dtype=tf.float32, name='dense_163_input'), name='dense_163_input', description=\"created by layer 'dense_163_input'\"), but it was called on an input with incompatible shape (None, 450).\n"
     ]
    },
    {
     "name": "stdout",
     "output_type": "stream",
     "text": [
      "WARNING:tensorflow:Model was constructed with shape (None, 21178, 450) for input KerasTensor(type_spec=TensorSpec(shape=(None, 21178, 450), dtype=tf.float32, name='dense_163_input'), name='dense_163_input', description=\"created by layer 'dense_163_input'\"), but it was called on an input with incompatible shape (None, 450).\n"
     ]
    },
    {
     "name": "stderr",
     "output_type": "stream",
     "text": [
      "WARNING:tensorflow:Model was constructed with shape (None, 21178, 450) for input KerasTensor(type_spec=TensorSpec(shape=(None, 21178, 450), dtype=tf.float32, name='dense_163_input'), name='dense_163_input', description=\"created by layer 'dense_163_input'\"), but it was called on an input with incompatible shape (None, 450).\n"
     ]
    },
    {
     "name": "stdout",
     "output_type": "stream",
     "text": [
      "WARNING:tensorflow:Model was constructed with shape (None, 21178, 450) for input KerasTensor(type_spec=TensorSpec(shape=(None, 21178, 450), dtype=tf.float32, name='dense_163_input'), name='dense_163_input', description=\"created by layer 'dense_163_input'\"), but it was called on an input with incompatible shape (None, 450).\n"
     ]
    },
    {
     "name": "stderr",
     "output_type": "stream",
     "text": [
      "WARNING:tensorflow:Model was constructed with shape (None, 21178, 450) for input KerasTensor(type_spec=TensorSpec(shape=(None, 21178, 450), dtype=tf.float32, name='dense_163_input'), name='dense_163_input', description=\"created by layer 'dense_163_input'\"), but it was called on an input with incompatible shape (None, 450).\n"
     ]
    },
    {
     "name": "stdout",
     "output_type": "stream",
     "text": [
      "INFO:tensorflow:Assets written to: ./resources/checkpoints/baseline_15_30/assets\n"
     ]
    },
    {
     "name": "stderr",
     "output_type": "stream",
     "text": [
      "INFO:tensorflow:Assets written to: ./resources/checkpoints/baseline_15_30/assets\n"
     ]
    },
    {
     "name": "stdout",
     "output_type": "stream",
     "text": [
      "INFO:tensorflow:Assets written to: ./resources/checkpoints/baseline_15_30/assets\n"
     ]
    },
    {
     "name": "stderr",
     "output_type": "stream",
     "text": [
      "INFO:tensorflow:Assets written to: ./resources/checkpoints/baseline_15_30/assets\n"
     ]
    },
    {
     "name": "stdout",
     "output_type": "stream",
     "text": [
      "INFO:tensorflow:Assets written to: ./resources/checkpoints/baseline_15_30/assets\n"
     ]
    },
    {
     "name": "stderr",
     "output_type": "stream",
     "text": [
      "INFO:tensorflow:Assets written to: ./resources/checkpoints/baseline_15_30/assets\n"
     ]
    },
    {
     "name": "stdout",
     "output_type": "stream",
     "text": [
      "662/662 [==============================] - 1s 2ms/step - loss: 0.7984 - accuracy: 0.6782 - precision_59: 0.8118 - recall_59: 0.5276\n",
      "138/138 [==============================] - 0s 2ms/step - loss: 1.5280 - accuracy: 0.4432 - precision_59: 0.4894 - recall_59: 0.3000\n",
      "Model: \"sequential_60\"\n",
      "_________________________________________________________________\n",
      "Layer (type)                 Output Shape              Param #   \n",
      "=================================================================\n",
      "dense_165 (Dense)            (None, 21178, 225)        101475    \n",
      "_________________________________________________________________\n",
      "dropout_45 (Dropout)         (None, 21178, 225)        0         \n",
      "_________________________________________________________________\n",
      "dense_166 (Dense)            (None, 21178, 225)        50850     \n",
      "_________________________________________________________________\n",
      "dropout_46 (Dropout)         (None, 21178, 225)        0         \n",
      "_________________________________________________________________\n",
      "dense_167 (Dense)            (None, 21178, 225)        50850     \n",
      "_________________________________________________________________\n",
      "dropout_47 (Dropout)         (None, 21178, 225)        0         \n",
      "_________________________________________________________________\n",
      "dense_168 (Dense)            (None, 21178, 225)        50850     \n",
      "_________________________________________________________________\n",
      "dense_169 (Dense)            (None, 21178, 4)          904       \n",
      "=================================================================\n",
      "Total params: 254,929\n",
      "Trainable params: 254,929\n",
      "Non-trainable params: 0\n",
      "_________________________________________________________________\n",
      "WARNING:tensorflow:Model was constructed with shape (None, 21178, 450) for input KerasTensor(type_spec=TensorSpec(shape=(None, 21178, 450), dtype=tf.float32, name='dense_165_input'), name='dense_165_input', description=\"created by layer 'dense_165_input'\"), but it was called on an input with incompatible shape (None, 450).\n"
     ]
    },
    {
     "name": "stderr",
     "output_type": "stream",
     "text": [
      "WARNING:tensorflow:Model was constructed with shape (None, 21178, 450) for input KerasTensor(type_spec=TensorSpec(shape=(None, 21178, 450), dtype=tf.float32, name='dense_165_input'), name='dense_165_input', description=\"created by layer 'dense_165_input'\"), but it was called on an input with incompatible shape (None, 450).\n"
     ]
    },
    {
     "name": "stdout",
     "output_type": "stream",
     "text": [
      "WARNING:tensorflow:Model was constructed with shape (None, 21178, 450) for input KerasTensor(type_spec=TensorSpec(shape=(None, 21178, 450), dtype=tf.float32, name='dense_165_input'), name='dense_165_input', description=\"created by layer 'dense_165_input'\"), but it was called on an input with incompatible shape (None, 450).\n"
     ]
    },
    {
     "name": "stderr",
     "output_type": "stream",
     "text": [
      "WARNING:tensorflow:Model was constructed with shape (None, 21178, 450) for input KerasTensor(type_spec=TensorSpec(shape=(None, 21178, 450), dtype=tf.float32, name='dense_165_input'), name='dense_165_input', description=\"created by layer 'dense_165_input'\"), but it was called on an input with incompatible shape (None, 450).\n"
     ]
    },
    {
     "name": "stdout",
     "output_type": "stream",
     "text": [
      "WARNING:tensorflow:Model was constructed with shape (None, 21178, 450) for input KerasTensor(type_spec=TensorSpec(shape=(None, 21178, 450), dtype=tf.float32, name='dense_165_input'), name='dense_165_input', description=\"created by layer 'dense_165_input'\"), but it was called on an input with incompatible shape (None, 450).\n"
     ]
    },
    {
     "name": "stderr",
     "output_type": "stream",
     "text": [
      "WARNING:tensorflow:Model was constructed with shape (None, 21178, 450) for input KerasTensor(type_spec=TensorSpec(shape=(None, 21178, 450), dtype=tf.float32, name='dense_165_input'), name='dense_165_input', description=\"created by layer 'dense_165_input'\"), but it was called on an input with incompatible shape (None, 450).\n"
     ]
    },
    {
     "name": "stdout",
     "output_type": "stream",
     "text": [
      "INFO:tensorflow:Assets written to: ./resources/checkpoints/DeepFC_15_30/assets\n"
     ]
    },
    {
     "name": "stderr",
     "output_type": "stream",
     "text": [
      "INFO:tensorflow:Assets written to: ./resources/checkpoints/DeepFC_15_30/assets\n"
     ]
    },
    {
     "name": "stdout",
     "output_type": "stream",
     "text": [
      "INFO:tensorflow:Assets written to: ./resources/checkpoints/DeepFC_15_30/assets\n"
     ]
    },
    {
     "name": "stderr",
     "output_type": "stream",
     "text": [
      "INFO:tensorflow:Assets written to: ./resources/checkpoints/DeepFC_15_30/assets\n"
     ]
    },
    {
     "name": "stdout",
     "output_type": "stream",
     "text": [
      "INFO:tensorflow:Assets written to: ./resources/checkpoints/DeepFC_15_30/assets\n"
     ]
    },
    {
     "name": "stderr",
     "output_type": "stream",
     "text": [
      "INFO:tensorflow:Assets written to: ./resources/checkpoints/DeepFC_15_30/assets\n"
     ]
    },
    {
     "name": "stdout",
     "output_type": "stream",
     "text": [
      "INFO:tensorflow:Assets written to: ./resources/checkpoints/DeepFC_15_30/assets\n"
     ]
    },
    {
     "name": "stderr",
     "output_type": "stream",
     "text": [
      "INFO:tensorflow:Assets written to: ./resources/checkpoints/DeepFC_15_30/assets\n"
     ]
    },
    {
     "name": "stdout",
     "output_type": "stream",
     "text": [
      "662/662 [==============================] - 1s 2ms/step - loss: 0.7493 - accuracy: 0.7066 - precision_60: 0.8728 - recall_60: 0.5160\n",
      "138/138 [==============================] - 0s 2ms/step - loss: 1.4906 - accuracy: 0.4514 - precision_60: 0.5051 - recall_60: 0.2677\n",
      "Model: \"sequential_61\"\n",
      "_________________________________________________________________\n",
      "Layer (type)                 Output Shape              Param #   \n",
      "=================================================================\n",
      "simple_rnn_14 (SimpleRNN)    (None, 75)                6825      \n",
      "_________________________________________________________________\n",
      "flatten_28 (Flatten)         (None, 75)                0         \n",
      "_________________________________________________________________\n",
      "dense_170 (Dense)            (None, 225)               17100     \n",
      "_________________________________________________________________\n",
      "dense_171 (Dense)            (None, 4)                 904       \n",
      "=================================================================\n",
      "Total params: 24,829\n",
      "Trainable params: 24,829\n",
      "Non-trainable params: 0\n",
      "_________________________________________________________________\n",
      "INFO:tensorflow:Assets written to: ./resources/checkpoints/SimpleRNN_15_30/assets\n"
     ]
    },
    {
     "name": "stderr",
     "output_type": "stream",
     "text": [
      "INFO:tensorflow:Assets written to: ./resources/checkpoints/SimpleRNN_15_30/assets\n"
     ]
    },
    {
     "name": "stdout",
     "output_type": "stream",
     "text": [
      "INFO:tensorflow:Assets written to: ./resources/checkpoints/SimpleRNN_15_30/assets\n"
     ]
    },
    {
     "name": "stderr",
     "output_type": "stream",
     "text": [
      "INFO:tensorflow:Assets written to: ./resources/checkpoints/SimpleRNN_15_30/assets\n"
     ]
    },
    {
     "name": "stdout",
     "output_type": "stream",
     "text": [
      "INFO:tensorflow:Assets written to: ./resources/checkpoints/SimpleRNN_15_30/assets\n"
     ]
    },
    {
     "name": "stderr",
     "output_type": "stream",
     "text": [
      "INFO:tensorflow:Assets written to: ./resources/checkpoints/SimpleRNN_15_30/assets\n"
     ]
    },
    {
     "name": "stdout",
     "output_type": "stream",
     "text": [
      "INFO:tensorflow:Assets written to: ./resources/checkpoints/SimpleRNN_15_30/assets\n"
     ]
    },
    {
     "name": "stderr",
     "output_type": "stream",
     "text": [
      "INFO:tensorflow:Assets written to: ./resources/checkpoints/SimpleRNN_15_30/assets\n"
     ]
    },
    {
     "name": "stdout",
     "output_type": "stream",
     "text": [
      "662/662 [==============================] - 2s 4ms/step - loss: 1.2868 - accuracy: 0.4233 - precision_61: 0.0000e+00 - recall_61: 0.0000e+00\n",
      "138/138 [==============================] - 1s 4ms/step - loss: 1.2829 - accuracy: 0.4280 - precision_61: 0.0000e+00 - recall_61: 0.0000e+00\n",
      "Model: \"sequential_62\"\n",
      "_________________________________________________________________\n",
      "Layer (type)                 Output Shape              Param #   \n",
      "=================================================================\n",
      "lstm_14 (LSTM)               (None, 75)                27300     \n",
      "_________________________________________________________________\n",
      "flatten_29 (Flatten)         (None, 75)                0         \n",
      "_________________________________________________________________\n",
      "dense_172 (Dense)            (None, 225)               17100     \n",
      "_________________________________________________________________\n",
      "dense_173 (Dense)            (None, 4)                 904       \n",
      "=================================================================\n",
      "Total params: 45,304\n",
      "Trainable params: 45,304\n",
      "Non-trainable params: 0\n",
      "_________________________________________________________________\n"
     ]
    },
    {
     "name": "stderr",
     "output_type": "stream",
     "text": [
      "WARNING:absl:Found untraced functions such as lstm_cell_14_layer_call_and_return_conditional_losses, lstm_cell_14_layer_call_fn, lstm_cell_14_layer_call_fn, lstm_cell_14_layer_call_and_return_conditional_losses, lstm_cell_14_layer_call_and_return_conditional_losses while saving (showing 5 of 5). These functions will not be directly callable after loading.\n",
      "WARNING:absl:Found untraced functions such as lstm_cell_14_layer_call_and_return_conditional_losses, lstm_cell_14_layer_call_fn, lstm_cell_14_layer_call_fn, lstm_cell_14_layer_call_and_return_conditional_losses, lstm_cell_14_layer_call_and_return_conditional_losses while saving (showing 5 of 5). These functions will not be directly callable after loading.\n"
     ]
    },
    {
     "name": "stdout",
     "output_type": "stream",
     "text": [
      "INFO:tensorflow:Assets written to: ./resources/checkpoints/LSTM_15_30/assets\n"
     ]
    },
    {
     "name": "stderr",
     "output_type": "stream",
     "text": [
      "INFO:tensorflow:Assets written to: ./resources/checkpoints/LSTM_15_30/assets\n",
      "WARNING:absl:Found untraced functions such as lstm_cell_14_layer_call_and_return_conditional_losses, lstm_cell_14_layer_call_fn, lstm_cell_14_layer_call_fn, lstm_cell_14_layer_call_and_return_conditional_losses, lstm_cell_14_layer_call_and_return_conditional_losses while saving (showing 5 of 5). These functions will not be directly callable after loading.\n",
      "WARNING:absl:Found untraced functions such as lstm_cell_14_layer_call_and_return_conditional_losses, lstm_cell_14_layer_call_fn, lstm_cell_14_layer_call_fn, lstm_cell_14_layer_call_and_return_conditional_losses, lstm_cell_14_layer_call_and_return_conditional_losses while saving (showing 5 of 5). These functions will not be directly callable after loading.\n"
     ]
    },
    {
     "name": "stdout",
     "output_type": "stream",
     "text": [
      "INFO:tensorflow:Assets written to: ./resources/checkpoints/LSTM_15_30/assets\n"
     ]
    },
    {
     "name": "stderr",
     "output_type": "stream",
     "text": [
      "INFO:tensorflow:Assets written to: ./resources/checkpoints/LSTM_15_30/assets\n",
      "WARNING:absl:Found untraced functions such as lstm_cell_14_layer_call_and_return_conditional_losses, lstm_cell_14_layer_call_fn, lstm_cell_14_layer_call_fn, lstm_cell_14_layer_call_and_return_conditional_losses, lstm_cell_14_layer_call_and_return_conditional_losses while saving (showing 5 of 5). These functions will not be directly callable after loading.\n",
      "WARNING:absl:Found untraced functions such as lstm_cell_14_layer_call_and_return_conditional_losses, lstm_cell_14_layer_call_fn, lstm_cell_14_layer_call_fn, lstm_cell_14_layer_call_and_return_conditional_losses, lstm_cell_14_layer_call_and_return_conditional_losses while saving (showing 5 of 5). These functions will not be directly callable after loading.\n"
     ]
    },
    {
     "name": "stdout",
     "output_type": "stream",
     "text": [
      "INFO:tensorflow:Assets written to: ./resources/checkpoints/LSTM_15_30/assets\n"
     ]
    },
    {
     "name": "stderr",
     "output_type": "stream",
     "text": [
      "INFO:tensorflow:Assets written to: ./resources/checkpoints/LSTM_15_30/assets\n",
      "WARNING:absl:Found untraced functions such as lstm_cell_14_layer_call_and_return_conditional_losses, lstm_cell_14_layer_call_fn, lstm_cell_14_layer_call_fn, lstm_cell_14_layer_call_and_return_conditional_losses, lstm_cell_14_layer_call_and_return_conditional_losses while saving (showing 5 of 5). These functions will not be directly callable after loading.\n",
      "WARNING:absl:Found untraced functions such as lstm_cell_14_layer_call_and_return_conditional_losses, lstm_cell_14_layer_call_fn, lstm_cell_14_layer_call_fn, lstm_cell_14_layer_call_and_return_conditional_losses, lstm_cell_14_layer_call_and_return_conditional_losses while saving (showing 5 of 5). These functions will not be directly callable after loading.\n"
     ]
    },
    {
     "name": "stdout",
     "output_type": "stream",
     "text": [
      "INFO:tensorflow:Assets written to: ./resources/checkpoints/LSTM_15_30/assets\n"
     ]
    },
    {
     "name": "stderr",
     "output_type": "stream",
     "text": [
      "INFO:tensorflow:Assets written to: ./resources/checkpoints/LSTM_15_30/assets\n",
      "WARNING:absl:Found untraced functions such as lstm_cell_14_layer_call_and_return_conditional_losses, lstm_cell_14_layer_call_fn, lstm_cell_14_layer_call_fn, lstm_cell_14_layer_call_and_return_conditional_losses, lstm_cell_14_layer_call_and_return_conditional_losses while saving (showing 5 of 5). These functions will not be directly callable after loading.\n",
      "WARNING:absl:Found untraced functions such as lstm_cell_14_layer_call_and_return_conditional_losses, lstm_cell_14_layer_call_fn, lstm_cell_14_layer_call_fn, lstm_cell_14_layer_call_and_return_conditional_losses, lstm_cell_14_layer_call_and_return_conditional_losses while saving (showing 5 of 5). These functions will not be directly callable after loading.\n"
     ]
    },
    {
     "name": "stdout",
     "output_type": "stream",
     "text": [
      "INFO:tensorflow:Assets written to: ./resources/checkpoints/LSTM_15_30/assets\n"
     ]
    },
    {
     "name": "stderr",
     "output_type": "stream",
     "text": [
      "INFO:tensorflow:Assets written to: ./resources/checkpoints/LSTM_15_30/assets\n",
      "WARNING:absl:Found untraced functions such as lstm_cell_14_layer_call_and_return_conditional_losses, lstm_cell_14_layer_call_fn, lstm_cell_14_layer_call_fn, lstm_cell_14_layer_call_and_return_conditional_losses, lstm_cell_14_layer_call_and_return_conditional_losses while saving (showing 5 of 5). These functions will not be directly callable after loading.\n",
      "WARNING:absl:Found untraced functions such as lstm_cell_14_layer_call_and_return_conditional_losses, lstm_cell_14_layer_call_fn, lstm_cell_14_layer_call_fn, lstm_cell_14_layer_call_and_return_conditional_losses, lstm_cell_14_layer_call_and_return_conditional_losses while saving (showing 5 of 5). These functions will not be directly callable after loading.\n"
     ]
    },
    {
     "name": "stdout",
     "output_type": "stream",
     "text": [
      "INFO:tensorflow:Assets written to: ./resources/checkpoints/LSTM_15_30/assets\n"
     ]
    },
    {
     "name": "stderr",
     "output_type": "stream",
     "text": [
      "INFO:tensorflow:Assets written to: ./resources/checkpoints/LSTM_15_30/assets\n",
      "WARNING:absl:Found untraced functions such as lstm_cell_14_layer_call_and_return_conditional_losses, lstm_cell_14_layer_call_fn, lstm_cell_14_layer_call_fn, lstm_cell_14_layer_call_and_return_conditional_losses, lstm_cell_14_layer_call_and_return_conditional_losses while saving (showing 5 of 5). These functions will not be directly callable after loading.\n",
      "WARNING:absl:Found untraced functions such as lstm_cell_14_layer_call_and_return_conditional_losses, lstm_cell_14_layer_call_fn, lstm_cell_14_layer_call_fn, lstm_cell_14_layer_call_and_return_conditional_losses, lstm_cell_14_layer_call_and_return_conditional_losses while saving (showing 5 of 5). These functions will not be directly callable after loading.\n"
     ]
    },
    {
     "name": "stdout",
     "output_type": "stream",
     "text": [
      "INFO:tensorflow:Assets written to: ./resources/checkpoints/LSTM_15_30/assets\n"
     ]
    },
    {
     "name": "stderr",
     "output_type": "stream",
     "text": [
      "INFO:tensorflow:Assets written to: ./resources/checkpoints/LSTM_15_30/assets\n",
      "WARNING:absl:Found untraced functions such as lstm_cell_14_layer_call_and_return_conditional_losses, lstm_cell_14_layer_call_fn, lstm_cell_14_layer_call_fn, lstm_cell_14_layer_call_and_return_conditional_losses, lstm_cell_14_layer_call_and_return_conditional_losses while saving (showing 5 of 5). These functions will not be directly callable after loading.\n",
      "WARNING:absl:Found untraced functions such as lstm_cell_14_layer_call_and_return_conditional_losses, lstm_cell_14_layer_call_fn, lstm_cell_14_layer_call_fn, lstm_cell_14_layer_call_and_return_conditional_losses, lstm_cell_14_layer_call_and_return_conditional_losses while saving (showing 5 of 5). These functions will not be directly callable after loading.\n"
     ]
    },
    {
     "name": "stdout",
     "output_type": "stream",
     "text": [
      "INFO:tensorflow:Assets written to: ./resources/checkpoints/LSTM_15_30/assets\n"
     ]
    },
    {
     "name": "stderr",
     "output_type": "stream",
     "text": [
      "INFO:tensorflow:Assets written to: ./resources/checkpoints/LSTM_15_30/assets\n",
      "WARNING:absl:Found untraced functions such as lstm_cell_14_layer_call_and_return_conditional_losses, lstm_cell_14_layer_call_fn, lstm_cell_14_layer_call_fn, lstm_cell_14_layer_call_and_return_conditional_losses, lstm_cell_14_layer_call_and_return_conditional_losses while saving (showing 5 of 5). These functions will not be directly callable after loading.\n",
      "WARNING:absl:Found untraced functions such as lstm_cell_14_layer_call_and_return_conditional_losses, lstm_cell_14_layer_call_fn, lstm_cell_14_layer_call_fn, lstm_cell_14_layer_call_and_return_conditional_losses, lstm_cell_14_layer_call_and_return_conditional_losses while saving (showing 5 of 5). These functions will not be directly callable after loading.\n"
     ]
    },
    {
     "name": "stdout",
     "output_type": "stream",
     "text": [
      "INFO:tensorflow:Assets written to: ./resources/checkpoints/LSTM_15_30/assets\n"
     ]
    },
    {
     "name": "stderr",
     "output_type": "stream",
     "text": [
      "INFO:tensorflow:Assets written to: ./resources/checkpoints/LSTM_15_30/assets\n",
      "WARNING:absl:Found untraced functions such as lstm_cell_14_layer_call_and_return_conditional_losses, lstm_cell_14_layer_call_fn, lstm_cell_14_layer_call_fn, lstm_cell_14_layer_call_and_return_conditional_losses, lstm_cell_14_layer_call_and_return_conditional_losses while saving (showing 5 of 5). These functions will not be directly callable after loading.\n",
      "WARNING:absl:Found untraced functions such as lstm_cell_14_layer_call_and_return_conditional_losses, lstm_cell_14_layer_call_fn, lstm_cell_14_layer_call_fn, lstm_cell_14_layer_call_and_return_conditional_losses, lstm_cell_14_layer_call_and_return_conditional_losses while saving (showing 5 of 5). These functions will not be directly callable after loading.\n"
     ]
    },
    {
     "name": "stdout",
     "output_type": "stream",
     "text": [
      "INFO:tensorflow:Assets written to: ./resources/checkpoints/LSTM_15_30/assets\n"
     ]
    },
    {
     "name": "stderr",
     "output_type": "stream",
     "text": [
      "INFO:tensorflow:Assets written to: ./resources/checkpoints/LSTM_15_30/assets\n"
     ]
    },
    {
     "name": "stdout",
     "output_type": "stream",
     "text": [
      "662/662 [==============================] - 1s 2ms/step - loss: 1.1357 - accuracy: 0.5032 - precision_62: 0.6564 - recall_62: 0.2466\n",
      "138/138 [==============================] - 0s 2ms/step - loss: 1.1762 - accuracy: 0.4898 - precision_62: 0.6001 - recall_62: 0.2309\n",
      "Model: \"sequential_63\"\n",
      "_________________________________________________________________\n",
      "Layer (type)                 Output Shape              Param #   \n",
      "=================================================================\n",
      "dense_174 (Dense)            (None, 21178, 1125)       2532375   \n",
      "_________________________________________________________________\n",
      "dense_175 (Dense)            (None, 21178, 4)          4504      \n",
      "=================================================================\n",
      "Total params: 2,536,879\n",
      "Trainable params: 2,536,879\n",
      "Non-trainable params: 0\n",
      "_________________________________________________________________\n",
      "WARNING:tensorflow:Model was constructed with shape (None, 21178, 2250) for input KerasTensor(type_spec=TensorSpec(shape=(None, 21178, 2250), dtype=tf.float32, name='dense_174_input'), name='dense_174_input', description=\"created by layer 'dense_174_input'\"), but it was called on an input with incompatible shape (None, 2250).\n"
     ]
    },
    {
     "name": "stderr",
     "output_type": "stream",
     "text": [
      "WARNING:tensorflow:Model was constructed with shape (None, 21178, 2250) for input KerasTensor(type_spec=TensorSpec(shape=(None, 21178, 2250), dtype=tf.float32, name='dense_174_input'), name='dense_174_input', description=\"created by layer 'dense_174_input'\"), but it was called on an input with incompatible shape (None, 2250).\n"
     ]
    },
    {
     "name": "stdout",
     "output_type": "stream",
     "text": [
      "WARNING:tensorflow:Model was constructed with shape (None, 21178, 2250) for input KerasTensor(type_spec=TensorSpec(shape=(None, 21178, 2250), dtype=tf.float32, name='dense_174_input'), name='dense_174_input', description=\"created by layer 'dense_174_input'\"), but it was called on an input with incompatible shape (None, 2250).\n"
     ]
    },
    {
     "name": "stderr",
     "output_type": "stream",
     "text": [
      "WARNING:tensorflow:Model was constructed with shape (None, 21178, 2250) for input KerasTensor(type_spec=TensorSpec(shape=(None, 21178, 2250), dtype=tf.float32, name='dense_174_input'), name='dense_174_input', description=\"created by layer 'dense_174_input'\"), but it was called on an input with incompatible shape (None, 2250).\n"
     ]
    },
    {
     "name": "stdout",
     "output_type": "stream",
     "text": [
      "WARNING:tensorflow:Model was constructed with shape (None, 21178, 2250) for input KerasTensor(type_spec=TensorSpec(shape=(None, 21178, 2250), dtype=tf.float32, name='dense_174_input'), name='dense_174_input', description=\"created by layer 'dense_174_input'\"), but it was called on an input with incompatible shape (None, 2250).\n"
     ]
    },
    {
     "name": "stderr",
     "output_type": "stream",
     "text": [
      "WARNING:tensorflow:Model was constructed with shape (None, 21178, 2250) for input KerasTensor(type_spec=TensorSpec(shape=(None, 21178, 2250), dtype=tf.float32, name='dense_174_input'), name='dense_174_input', description=\"created by layer 'dense_174_input'\"), but it was called on an input with incompatible shape (None, 2250).\n"
     ]
    },
    {
     "name": "stdout",
     "output_type": "stream",
     "text": [
      "INFO:tensorflow:Assets written to: ./resources/checkpoints/baseline_75_30/assets\n"
     ]
    },
    {
     "name": "stderr",
     "output_type": "stream",
     "text": [
      "INFO:tensorflow:Assets written to: ./resources/checkpoints/baseline_75_30/assets\n"
     ]
    },
    {
     "name": "stdout",
     "output_type": "stream",
     "text": [
      "INFO:tensorflow:Assets written to: ./resources/checkpoints/baseline_75_30/assets\n"
     ]
    },
    {
     "name": "stderr",
     "output_type": "stream",
     "text": [
      "INFO:tensorflow:Assets written to: ./resources/checkpoints/baseline_75_30/assets\n"
     ]
    },
    {
     "name": "stdout",
     "output_type": "stream",
     "text": [
      "662/662 [==============================] - 1s 2ms/step - loss: 0.3259 - accuracy: 0.8649 - precision_63: 0.9282 - recall_63: 0.8171\n",
      "138/138 [==============================] - 0s 2ms/step - loss: 2.2558 - accuracy: 0.4373 - precision_63: 0.4613 - recall_63: 0.3743\n",
      "Model: \"sequential_64\"\n",
      "_________________________________________________________________\n",
      "Layer (type)                 Output Shape              Param #   \n",
      "=================================================================\n",
      "dense_176 (Dense)            (None, 21178, 1125)       2532375   \n",
      "_________________________________________________________________\n",
      "dropout_48 (Dropout)         (None, 21178, 1125)       0         \n",
      "_________________________________________________________________\n",
      "dense_177 (Dense)            (None, 21178, 1125)       1266750   \n",
      "_________________________________________________________________\n",
      "dropout_49 (Dropout)         (None, 21178, 1125)       0         \n",
      "_________________________________________________________________\n",
      "dense_178 (Dense)            (None, 21178, 1125)       1266750   \n",
      "_________________________________________________________________\n",
      "dropout_50 (Dropout)         (None, 21178, 1125)       0         \n",
      "_________________________________________________________________\n",
      "dense_179 (Dense)            (None, 21178, 1125)       1266750   \n",
      "_________________________________________________________________\n",
      "dense_180 (Dense)            (None, 21178, 4)          4504      \n",
      "=================================================================\n",
      "Total params: 6,337,129\n",
      "Trainable params: 6,337,129\n",
      "Non-trainable params: 0\n",
      "_________________________________________________________________\n",
      "WARNING:tensorflow:Model was constructed with shape (None, 21178, 2250) for input KerasTensor(type_spec=TensorSpec(shape=(None, 21178, 2250), dtype=tf.float32, name='dense_176_input'), name='dense_176_input', description=\"created by layer 'dense_176_input'\"), but it was called on an input with incompatible shape (None, 2250).\n"
     ]
    },
    {
     "name": "stderr",
     "output_type": "stream",
     "text": [
      "WARNING:tensorflow:Model was constructed with shape (None, 21178, 2250) for input KerasTensor(type_spec=TensorSpec(shape=(None, 21178, 2250), dtype=tf.float32, name='dense_176_input'), name='dense_176_input', description=\"created by layer 'dense_176_input'\"), but it was called on an input with incompatible shape (None, 2250).\n"
     ]
    },
    {
     "name": "stdout",
     "output_type": "stream",
     "text": [
      "WARNING:tensorflow:Model was constructed with shape (None, 21178, 2250) for input KerasTensor(type_spec=TensorSpec(shape=(None, 21178, 2250), dtype=tf.float32, name='dense_176_input'), name='dense_176_input', description=\"created by layer 'dense_176_input'\"), but it was called on an input with incompatible shape (None, 2250).\n"
     ]
    },
    {
     "name": "stderr",
     "output_type": "stream",
     "text": [
      "WARNING:tensorflow:Model was constructed with shape (None, 21178, 2250) for input KerasTensor(type_spec=TensorSpec(shape=(None, 21178, 2250), dtype=tf.float32, name='dense_176_input'), name='dense_176_input', description=\"created by layer 'dense_176_input'\"), but it was called on an input with incompatible shape (None, 2250).\n"
     ]
    },
    {
     "name": "stdout",
     "output_type": "stream",
     "text": [
      "WARNING:tensorflow:Model was constructed with shape (None, 21178, 2250) for input KerasTensor(type_spec=TensorSpec(shape=(None, 21178, 2250), dtype=tf.float32, name='dense_176_input'), name='dense_176_input', description=\"created by layer 'dense_176_input'\"), but it was called on an input with incompatible shape (None, 2250).\n"
     ]
    },
    {
     "name": "stderr",
     "output_type": "stream",
     "text": [
      "WARNING:tensorflow:Model was constructed with shape (None, 21178, 2250) for input KerasTensor(type_spec=TensorSpec(shape=(None, 21178, 2250), dtype=tf.float32, name='dense_176_input'), name='dense_176_input', description=\"created by layer 'dense_176_input'\"), but it was called on an input with incompatible shape (None, 2250).\n"
     ]
    },
    {
     "name": "stdout",
     "output_type": "stream",
     "text": [
      "INFO:tensorflow:Assets written to: ./resources/checkpoints/DeepFC_75_30/assets\n"
     ]
    },
    {
     "name": "stderr",
     "output_type": "stream",
     "text": [
      "INFO:tensorflow:Assets written to: ./resources/checkpoints/DeepFC_75_30/assets\n"
     ]
    },
    {
     "name": "stdout",
     "output_type": "stream",
     "text": [
      "INFO:tensorflow:Assets written to: ./resources/checkpoints/DeepFC_75_30/assets\n"
     ]
    },
    {
     "name": "stderr",
     "output_type": "stream",
     "text": [
      "INFO:tensorflow:Assets written to: ./resources/checkpoints/DeepFC_75_30/assets\n"
     ]
    },
    {
     "name": "stdout",
     "output_type": "stream",
     "text": [
      "662/662 [==============================] - 1s 2ms/step - loss: 0.3205 - accuracy: 0.8595 - precision_64: 0.9516 - recall_64: 0.7878\n",
      "138/138 [==============================] - 0s 2ms/step - loss: 2.2863 - accuracy: 0.4639 - precision_64: 0.4871 - recall_64: 0.3775\n",
      "Model: \"sequential_65\"\n",
      "_________________________________________________________________\n",
      "Layer (type)                 Output Shape              Param #   \n",
      "=================================================================\n",
      "simple_rnn_15 (SimpleRNN)    (None, 75)                11325     \n",
      "_________________________________________________________________\n",
      "flatten_30 (Flatten)         (None, 75)                0         \n",
      "_________________________________________________________________\n",
      "dense_181 (Dense)            (None, 1125)              85500     \n",
      "_________________________________________________________________\n",
      "dense_182 (Dense)            (None, 4)                 4504      \n",
      "=================================================================\n",
      "Total params: 101,329\n",
      "Trainable params: 101,329\n",
      "Non-trainable params: 0\n",
      "_________________________________________________________________\n",
      "INFO:tensorflow:Assets written to: ./resources/checkpoints/SimpleRNN_75_30/assets\n"
     ]
    },
    {
     "name": "stderr",
     "output_type": "stream",
     "text": [
      "INFO:tensorflow:Assets written to: ./resources/checkpoints/SimpleRNN_75_30/assets\n"
     ]
    },
    {
     "name": "stdout",
     "output_type": "stream",
     "text": [
      "INFO:tensorflow:Assets written to: ./resources/checkpoints/SimpleRNN_75_30/assets\n"
     ]
    },
    {
     "name": "stderr",
     "output_type": "stream",
     "text": [
      "INFO:tensorflow:Assets written to: ./resources/checkpoints/SimpleRNN_75_30/assets\n"
     ]
    },
    {
     "name": "stdout",
     "output_type": "stream",
     "text": [
      "INFO:tensorflow:Assets written to: ./resources/checkpoints/SimpleRNN_75_30/assets\n"
     ]
    },
    {
     "name": "stderr",
     "output_type": "stream",
     "text": [
      "INFO:tensorflow:Assets written to: ./resources/checkpoints/SimpleRNN_75_30/assets\n"
     ]
    },
    {
     "name": "stdout",
     "output_type": "stream",
     "text": [
      "INFO:tensorflow:Assets written to: ./resources/checkpoints/SimpleRNN_75_30/assets\n"
     ]
    },
    {
     "name": "stderr",
     "output_type": "stream",
     "text": [
      "INFO:tensorflow:Assets written to: ./resources/checkpoints/SimpleRNN_75_30/assets\n"
     ]
    },
    {
     "name": "stdout",
     "output_type": "stream",
     "text": [
      "INFO:tensorflow:Assets written to: ./resources/checkpoints/SimpleRNN_75_30/assets\n"
     ]
    },
    {
     "name": "stderr",
     "output_type": "stream",
     "text": [
      "INFO:tensorflow:Assets written to: ./resources/checkpoints/SimpleRNN_75_30/assets\n"
     ]
    },
    {
     "name": "stdout",
     "output_type": "stream",
     "text": [
      "INFO:tensorflow:Assets written to: ./resources/checkpoints/SimpleRNN_75_30/assets\n"
     ]
    },
    {
     "name": "stderr",
     "output_type": "stream",
     "text": [
      "INFO:tensorflow:Assets written to: ./resources/checkpoints/SimpleRNN_75_30/assets\n"
     ]
    },
    {
     "name": "stdout",
     "output_type": "stream",
     "text": [
      "INFO:tensorflow:Assets written to: ./resources/checkpoints/SimpleRNN_75_30/assets\n"
     ]
    },
    {
     "name": "stderr",
     "output_type": "stream",
     "text": [
      "INFO:tensorflow:Assets written to: ./resources/checkpoints/SimpleRNN_75_30/assets\n"
     ]
    },
    {
     "name": "stdout",
     "output_type": "stream",
     "text": [
      "INFO:tensorflow:Assets written to: ./resources/checkpoints/SimpleRNN_75_30/assets\n"
     ]
    },
    {
     "name": "stderr",
     "output_type": "stream",
     "text": [
      "INFO:tensorflow:Assets written to: ./resources/checkpoints/SimpleRNN_75_30/assets\n"
     ]
    },
    {
     "name": "stdout",
     "output_type": "stream",
     "text": [
      "662/662 [==============================] - 2s 4ms/step - loss: 1.0862 - accuracy: 0.5308 - precision_65: 0.7360 - recall_65: 0.2428\n",
      "138/138 [==============================] - 1s 4ms/step - loss: 1.1822 - accuracy: 0.4877 - precision_65: 0.6298 - recall_65: 0.1980\n",
      "Model: \"sequential_66\"\n",
      "_________________________________________________________________\n",
      "Layer (type)                 Output Shape              Param #   \n",
      "=================================================================\n",
      "lstm_15 (LSTM)               (None, 75)                45300     \n",
      "_________________________________________________________________\n",
      "flatten_31 (Flatten)         (None, 75)                0         \n",
      "_________________________________________________________________\n",
      "dense_183 (Dense)            (None, 1125)              85500     \n",
      "_________________________________________________________________\n",
      "dense_184 (Dense)            (None, 4)                 4504      \n",
      "=================================================================\n",
      "Total params: 135,304\n",
      "Trainable params: 135,304\n",
      "Non-trainable params: 0\n",
      "_________________________________________________________________\n"
     ]
    },
    {
     "name": "stderr",
     "output_type": "stream",
     "text": [
      "WARNING:absl:Found untraced functions such as lstm_cell_15_layer_call_and_return_conditional_losses, lstm_cell_15_layer_call_fn, lstm_cell_15_layer_call_fn, lstm_cell_15_layer_call_and_return_conditional_losses, lstm_cell_15_layer_call_and_return_conditional_losses while saving (showing 5 of 5). These functions will not be directly callable after loading.\n",
      "WARNING:absl:Found untraced functions such as lstm_cell_15_layer_call_and_return_conditional_losses, lstm_cell_15_layer_call_fn, lstm_cell_15_layer_call_fn, lstm_cell_15_layer_call_and_return_conditional_losses, lstm_cell_15_layer_call_and_return_conditional_losses while saving (showing 5 of 5). These functions will not be directly callable after loading.\n"
     ]
    },
    {
     "name": "stdout",
     "output_type": "stream",
     "text": [
      "INFO:tensorflow:Assets written to: ./resources/checkpoints/LSTM_75_30/assets\n"
     ]
    },
    {
     "name": "stderr",
     "output_type": "stream",
     "text": [
      "INFO:tensorflow:Assets written to: ./resources/checkpoints/LSTM_75_30/assets\n",
      "WARNING:absl:Found untraced functions such as lstm_cell_15_layer_call_and_return_conditional_losses, lstm_cell_15_layer_call_fn, lstm_cell_15_layer_call_fn, lstm_cell_15_layer_call_and_return_conditional_losses, lstm_cell_15_layer_call_and_return_conditional_losses while saving (showing 5 of 5). These functions will not be directly callable after loading.\n",
      "WARNING:absl:Found untraced functions such as lstm_cell_15_layer_call_and_return_conditional_losses, lstm_cell_15_layer_call_fn, lstm_cell_15_layer_call_fn, lstm_cell_15_layer_call_and_return_conditional_losses, lstm_cell_15_layer_call_and_return_conditional_losses while saving (showing 5 of 5). These functions will not be directly callable after loading.\n"
     ]
    },
    {
     "name": "stdout",
     "output_type": "stream",
     "text": [
      "INFO:tensorflow:Assets written to: ./resources/checkpoints/LSTM_75_30/assets\n"
     ]
    },
    {
     "name": "stderr",
     "output_type": "stream",
     "text": [
      "INFO:tensorflow:Assets written to: ./resources/checkpoints/LSTM_75_30/assets\n",
      "WARNING:absl:Found untraced functions such as lstm_cell_15_layer_call_and_return_conditional_losses, lstm_cell_15_layer_call_fn, lstm_cell_15_layer_call_fn, lstm_cell_15_layer_call_and_return_conditional_losses, lstm_cell_15_layer_call_and_return_conditional_losses while saving (showing 5 of 5). These functions will not be directly callable after loading.\n",
      "WARNING:absl:Found untraced functions such as lstm_cell_15_layer_call_and_return_conditional_losses, lstm_cell_15_layer_call_fn, lstm_cell_15_layer_call_fn, lstm_cell_15_layer_call_and_return_conditional_losses, lstm_cell_15_layer_call_and_return_conditional_losses while saving (showing 5 of 5). These functions will not be directly callable after loading.\n"
     ]
    },
    {
     "name": "stdout",
     "output_type": "stream",
     "text": [
      "INFO:tensorflow:Assets written to: ./resources/checkpoints/LSTM_75_30/assets\n"
     ]
    },
    {
     "name": "stderr",
     "output_type": "stream",
     "text": [
      "INFO:tensorflow:Assets written to: ./resources/checkpoints/LSTM_75_30/assets\n",
      "WARNING:absl:Found untraced functions such as lstm_cell_15_layer_call_and_return_conditional_losses, lstm_cell_15_layer_call_fn, lstm_cell_15_layer_call_fn, lstm_cell_15_layer_call_and_return_conditional_losses, lstm_cell_15_layer_call_and_return_conditional_losses while saving (showing 5 of 5). These functions will not be directly callable after loading.\n",
      "WARNING:absl:Found untraced functions such as lstm_cell_15_layer_call_and_return_conditional_losses, lstm_cell_15_layer_call_fn, lstm_cell_15_layer_call_fn, lstm_cell_15_layer_call_and_return_conditional_losses, lstm_cell_15_layer_call_and_return_conditional_losses while saving (showing 5 of 5). These functions will not be directly callable after loading.\n"
     ]
    },
    {
     "name": "stdout",
     "output_type": "stream",
     "text": [
      "INFO:tensorflow:Assets written to: ./resources/checkpoints/LSTM_75_30/assets\n"
     ]
    },
    {
     "name": "stderr",
     "output_type": "stream",
     "text": [
      "INFO:tensorflow:Assets written to: ./resources/checkpoints/LSTM_75_30/assets\n",
      "WARNING:absl:Found untraced functions such as lstm_cell_15_layer_call_and_return_conditional_losses, lstm_cell_15_layer_call_fn, lstm_cell_15_layer_call_fn, lstm_cell_15_layer_call_and_return_conditional_losses, lstm_cell_15_layer_call_and_return_conditional_losses while saving (showing 5 of 5). These functions will not be directly callable after loading.\n",
      "WARNING:absl:Found untraced functions such as lstm_cell_15_layer_call_and_return_conditional_losses, lstm_cell_15_layer_call_fn, lstm_cell_15_layer_call_fn, lstm_cell_15_layer_call_and_return_conditional_losses, lstm_cell_15_layer_call_and_return_conditional_losses while saving (showing 5 of 5). These functions will not be directly callable after loading.\n"
     ]
    },
    {
     "name": "stdout",
     "output_type": "stream",
     "text": [
      "INFO:tensorflow:Assets written to: ./resources/checkpoints/LSTM_75_30/assets\n"
     ]
    },
    {
     "name": "stderr",
     "output_type": "stream",
     "text": [
      "INFO:tensorflow:Assets written to: ./resources/checkpoints/LSTM_75_30/assets\n",
      "WARNING:absl:Found untraced functions such as lstm_cell_15_layer_call_and_return_conditional_losses, lstm_cell_15_layer_call_fn, lstm_cell_15_layer_call_fn, lstm_cell_15_layer_call_and_return_conditional_losses, lstm_cell_15_layer_call_and_return_conditional_losses while saving (showing 5 of 5). These functions will not be directly callable after loading.\n",
      "WARNING:absl:Found untraced functions such as lstm_cell_15_layer_call_and_return_conditional_losses, lstm_cell_15_layer_call_fn, lstm_cell_15_layer_call_fn, lstm_cell_15_layer_call_and_return_conditional_losses, lstm_cell_15_layer_call_and_return_conditional_losses while saving (showing 5 of 5). These functions will not be directly callable after loading.\n"
     ]
    },
    {
     "name": "stdout",
     "output_type": "stream",
     "text": [
      "INFO:tensorflow:Assets written to: ./resources/checkpoints/LSTM_75_30/assets\n"
     ]
    },
    {
     "name": "stderr",
     "output_type": "stream",
     "text": [
      "INFO:tensorflow:Assets written to: ./resources/checkpoints/LSTM_75_30/assets\n",
      "WARNING:absl:Found untraced functions such as lstm_cell_15_layer_call_and_return_conditional_losses, lstm_cell_15_layer_call_fn, lstm_cell_15_layer_call_fn, lstm_cell_15_layer_call_and_return_conditional_losses, lstm_cell_15_layer_call_and_return_conditional_losses while saving (showing 5 of 5). These functions will not be directly callable after loading.\n",
      "WARNING:absl:Found untraced functions such as lstm_cell_15_layer_call_and_return_conditional_losses, lstm_cell_15_layer_call_fn, lstm_cell_15_layer_call_fn, lstm_cell_15_layer_call_and_return_conditional_losses, lstm_cell_15_layer_call_and_return_conditional_losses while saving (showing 5 of 5). These functions will not be directly callable after loading.\n"
     ]
    },
    {
     "name": "stdout",
     "output_type": "stream",
     "text": [
      "INFO:tensorflow:Assets written to: ./resources/checkpoints/LSTM_75_30/assets\n"
     ]
    },
    {
     "name": "stderr",
     "output_type": "stream",
     "text": [
      "INFO:tensorflow:Assets written to: ./resources/checkpoints/LSTM_75_30/assets\n",
      "WARNING:absl:Found untraced functions such as lstm_cell_15_layer_call_and_return_conditional_losses, lstm_cell_15_layer_call_fn, lstm_cell_15_layer_call_fn, lstm_cell_15_layer_call_and_return_conditional_losses, lstm_cell_15_layer_call_and_return_conditional_losses while saving (showing 5 of 5). These functions will not be directly callable after loading.\n",
      "WARNING:absl:Found untraced functions such as lstm_cell_15_layer_call_and_return_conditional_losses, lstm_cell_15_layer_call_fn, lstm_cell_15_layer_call_fn, lstm_cell_15_layer_call_and_return_conditional_losses, lstm_cell_15_layer_call_and_return_conditional_losses while saving (showing 5 of 5). These functions will not be directly callable after loading.\n"
     ]
    },
    {
     "name": "stdout",
     "output_type": "stream",
     "text": [
      "INFO:tensorflow:Assets written to: ./resources/checkpoints/LSTM_75_30/assets\n"
     ]
    },
    {
     "name": "stderr",
     "output_type": "stream",
     "text": [
      "INFO:tensorflow:Assets written to: ./resources/checkpoints/LSTM_75_30/assets\n"
     ]
    },
    {
     "name": "stdout",
     "output_type": "stream",
     "text": [
      "662/662 [==============================] - 2s 3ms/step - loss: 0.8933 - accuracy: 0.6162 - precision_66: 0.7509 - recall_66: 0.4514\n",
      "138/138 [==============================] - 0s 2ms/step - loss: 1.2612 - accuracy: 0.4968 - precision_66: 0.5757 - recall_66: 0.3386\n",
      "Model: \"sequential_67\"\n",
      "_________________________________________________________________\n",
      "Layer (type)                 Output Shape              Param #   \n",
      "=================================================================\n",
      "dense_185 (Dense)            (None, 21178, 2250)       10127250  \n",
      "_________________________________________________________________\n",
      "dense_186 (Dense)            (None, 21178, 4)          9004      \n",
      "=================================================================\n",
      "Total params: 10,136,254\n",
      "Trainable params: 10,136,254\n",
      "Non-trainable params: 0\n",
      "_________________________________________________________________\n",
      "WARNING:tensorflow:Model was constructed with shape (None, 21178, 4500) for input KerasTensor(type_spec=TensorSpec(shape=(None, 21178, 4500), dtype=tf.float32, name='dense_185_input'), name='dense_185_input', description=\"created by layer 'dense_185_input'\"), but it was called on an input with incompatible shape (None, 4500).\n"
     ]
    },
    {
     "name": "stderr",
     "output_type": "stream",
     "text": [
      "WARNING:tensorflow:Model was constructed with shape (None, 21178, 4500) for input KerasTensor(type_spec=TensorSpec(shape=(None, 21178, 4500), dtype=tf.float32, name='dense_185_input'), name='dense_185_input', description=\"created by layer 'dense_185_input'\"), but it was called on an input with incompatible shape (None, 4500).\n"
     ]
    },
    {
     "name": "stdout",
     "output_type": "stream",
     "text": [
      "WARNING:tensorflow:Model was constructed with shape (None, 21178, 4500) for input KerasTensor(type_spec=TensorSpec(shape=(None, 21178, 4500), dtype=tf.float32, name='dense_185_input'), name='dense_185_input', description=\"created by layer 'dense_185_input'\"), but it was called on an input with incompatible shape (None, 4500).\n"
     ]
    },
    {
     "name": "stderr",
     "output_type": "stream",
     "text": [
      "WARNING:tensorflow:Model was constructed with shape (None, 21178, 4500) for input KerasTensor(type_spec=TensorSpec(shape=(None, 21178, 4500), dtype=tf.float32, name='dense_185_input'), name='dense_185_input', description=\"created by layer 'dense_185_input'\"), but it was called on an input with incompatible shape (None, 4500).\n"
     ]
    },
    {
     "name": "stdout",
     "output_type": "stream",
     "text": [
      "WARNING:tensorflow:Model was constructed with shape (None, 21178, 4500) for input KerasTensor(type_spec=TensorSpec(shape=(None, 21178, 4500), dtype=tf.float32, name='dense_185_input'), name='dense_185_input', description=\"created by layer 'dense_185_input'\"), but it was called on an input with incompatible shape (None, 4500).\n"
     ]
    },
    {
     "name": "stderr",
     "output_type": "stream",
     "text": [
      "WARNING:tensorflow:Model was constructed with shape (None, 21178, 4500) for input KerasTensor(type_spec=TensorSpec(shape=(None, 21178, 4500), dtype=tf.float32, name='dense_185_input'), name='dense_185_input', description=\"created by layer 'dense_185_input'\"), but it was called on an input with incompatible shape (None, 4500).\n"
     ]
    },
    {
     "name": "stdout",
     "output_type": "stream",
     "text": [
      "INFO:tensorflow:Assets written to: ./resources/checkpoints/baseline_150_30/assets\n"
     ]
    },
    {
     "name": "stderr",
     "output_type": "stream",
     "text": [
      "INFO:tensorflow:Assets written to: ./resources/checkpoints/baseline_150_30/assets\n"
     ]
    },
    {
     "name": "stdout",
     "output_type": "stream",
     "text": [
      "662/662 [==============================] - 1s 2ms/step - loss: 0.3103 - accuracy: 0.8673 - precision_67: 0.9331 - recall_67: 0.8171\n",
      "138/138 [==============================] - 0s 2ms/step - loss: 2.0944 - accuracy: 0.4593 - precision_67: 0.4868 - recall_67: 0.3909A: 0s - loss: 2.1644 - accuracy: 0.4762 - precision_67: 0.4940 - recall_67: \n",
      "Model: \"sequential_68\"\n",
      "_________________________________________________________________\n",
      "Layer (type)                 Output Shape              Param #   \n",
      "=================================================================\n",
      "dense_187 (Dense)            (None, 21178, 2250)       10127250  \n",
      "_________________________________________________________________\n",
      "dropout_51 (Dropout)         (None, 21178, 2250)       0         \n",
      "_________________________________________________________________\n",
      "dense_188 (Dense)            (None, 21178, 2250)       5064750   \n",
      "_________________________________________________________________\n",
      "dropout_52 (Dropout)         (None, 21178, 2250)       0         \n",
      "_________________________________________________________________\n",
      "dense_189 (Dense)            (None, 21178, 2250)       5064750   \n",
      "_________________________________________________________________\n",
      "dropout_53 (Dropout)         (None, 21178, 2250)       0         \n",
      "_________________________________________________________________\n",
      "dense_190 (Dense)            (None, 21178, 2250)       5064750   \n",
      "_________________________________________________________________\n",
      "dense_191 (Dense)            (None, 21178, 4)          9004      \n",
      "=================================================================\n",
      "Total params: 25,330,504\n",
      "Trainable params: 25,330,504\n",
      "Non-trainable params: 0\n",
      "_________________________________________________________________\n",
      "WARNING:tensorflow:Model was constructed with shape (None, 21178, 4500) for input KerasTensor(type_spec=TensorSpec(shape=(None, 21178, 4500), dtype=tf.float32, name='dense_187_input'), name='dense_187_input', description=\"created by layer 'dense_187_input'\"), but it was called on an input with incompatible shape (None, 4500).\n"
     ]
    },
    {
     "name": "stderr",
     "output_type": "stream",
     "text": [
      "WARNING:tensorflow:Model was constructed with shape (None, 21178, 4500) for input KerasTensor(type_spec=TensorSpec(shape=(None, 21178, 4500), dtype=tf.float32, name='dense_187_input'), name='dense_187_input', description=\"created by layer 'dense_187_input'\"), but it was called on an input with incompatible shape (None, 4500).\n"
     ]
    },
    {
     "name": "stdout",
     "output_type": "stream",
     "text": [
      "WARNING:tensorflow:Model was constructed with shape (None, 21178, 4500) for input KerasTensor(type_spec=TensorSpec(shape=(None, 21178, 4500), dtype=tf.float32, name='dense_187_input'), name='dense_187_input', description=\"created by layer 'dense_187_input'\"), but it was called on an input with incompatible shape (None, 4500).\n"
     ]
    },
    {
     "name": "stderr",
     "output_type": "stream",
     "text": [
      "WARNING:tensorflow:Model was constructed with shape (None, 21178, 4500) for input KerasTensor(type_spec=TensorSpec(shape=(None, 21178, 4500), dtype=tf.float32, name='dense_187_input'), name='dense_187_input', description=\"created by layer 'dense_187_input'\"), but it was called on an input with incompatible shape (None, 4500).\n"
     ]
    },
    {
     "name": "stdout",
     "output_type": "stream",
     "text": [
      "WARNING:tensorflow:Model was constructed with shape (None, 21178, 4500) for input KerasTensor(type_spec=TensorSpec(shape=(None, 21178, 4500), dtype=tf.float32, name='dense_187_input'), name='dense_187_input', description=\"created by layer 'dense_187_input'\"), but it was called on an input with incompatible shape (None, 4500).\n"
     ]
    },
    {
     "name": "stderr",
     "output_type": "stream",
     "text": [
      "WARNING:tensorflow:Model was constructed with shape (None, 21178, 4500) for input KerasTensor(type_spec=TensorSpec(shape=(None, 21178, 4500), dtype=tf.float32, name='dense_187_input'), name='dense_187_input', description=\"created by layer 'dense_187_input'\"), but it was called on an input with incompatible shape (None, 4500).\n"
     ]
    },
    {
     "name": "stdout",
     "output_type": "stream",
     "text": [
      "INFO:tensorflow:Assets written to: ./resources/checkpoints/DeepFC_150_30/assets\n"
     ]
    },
    {
     "name": "stderr",
     "output_type": "stream",
     "text": [
      "INFO:tensorflow:Assets written to: ./resources/checkpoints/DeepFC_150_30/assets\n"
     ]
    },
    {
     "name": "stdout",
     "output_type": "stream",
     "text": [
      "INFO:tensorflow:Assets written to: ./resources/checkpoints/DeepFC_150_30/assets\n"
     ]
    },
    {
     "name": "stderr",
     "output_type": "stream",
     "text": [
      "INFO:tensorflow:Assets written to: ./resources/checkpoints/DeepFC_150_30/assets\n"
     ]
    },
    {
     "name": "stdout",
     "output_type": "stream",
     "text": [
      "662/662 [==============================] - 2s 3ms/step - loss: 0.3111 - accuracy: 0.8591 - precision_68: 0.9460 - recall_68: 0.7935\n",
      "138/138 [==============================] - 0s 3ms/step - loss: 2.2820 - accuracy: 0.4709 - precision_68: 0.4952 - recall_68: 0.3895\n",
      "Model: \"sequential_69\"\n",
      "_________________________________________________________________\n",
      "Layer (type)                 Output Shape              Param #   \n",
      "=================================================================\n",
      "simple_rnn_16 (SimpleRNN)    (None, 75)                16950     \n",
      "_________________________________________________________________\n",
      "flatten_32 (Flatten)         (None, 75)                0         \n",
      "_________________________________________________________________\n",
      "dense_192 (Dense)            (None, 2250)              171000    \n",
      "_________________________________________________________________\n",
      "dense_193 (Dense)            (None, 4)                 9004      \n",
      "=================================================================\n",
      "Total params: 196,954\n",
      "Trainable params: 196,954\n",
      "Non-trainable params: 0\n",
      "_________________________________________________________________\n",
      "INFO:tensorflow:Assets written to: ./resources/checkpoints/SimpleRNN_150_30/assets\n"
     ]
    },
    {
     "name": "stderr",
     "output_type": "stream",
     "text": [
      "INFO:tensorflow:Assets written to: ./resources/checkpoints/SimpleRNN_150_30/assets\n"
     ]
    },
    {
     "name": "stdout",
     "output_type": "stream",
     "text": [
      "INFO:tensorflow:Assets written to: ./resources/checkpoints/SimpleRNN_150_30/assets\n"
     ]
    },
    {
     "name": "stderr",
     "output_type": "stream",
     "text": [
      "INFO:tensorflow:Assets written to: ./resources/checkpoints/SimpleRNN_150_30/assets\n"
     ]
    },
    {
     "name": "stdout",
     "output_type": "stream",
     "text": [
      "INFO:tensorflow:Assets written to: ./resources/checkpoints/SimpleRNN_150_30/assets\n"
     ]
    },
    {
     "name": "stderr",
     "output_type": "stream",
     "text": [
      "INFO:tensorflow:Assets written to: ./resources/checkpoints/SimpleRNN_150_30/assets\n"
     ]
    },
    {
     "name": "stdout",
     "output_type": "stream",
     "text": [
      "INFO:tensorflow:Assets written to: ./resources/checkpoints/SimpleRNN_150_30/assets\n"
     ]
    },
    {
     "name": "stderr",
     "output_type": "stream",
     "text": [
      "INFO:tensorflow:Assets written to: ./resources/checkpoints/SimpleRNN_150_30/assets\n"
     ]
    },
    {
     "name": "stdout",
     "output_type": "stream",
     "text": [
      "INFO:tensorflow:Assets written to: ./resources/checkpoints/SimpleRNN_150_30/assets\n"
     ]
    },
    {
     "name": "stderr",
     "output_type": "stream",
     "text": [
      "INFO:tensorflow:Assets written to: ./resources/checkpoints/SimpleRNN_150_30/assets\n"
     ]
    },
    {
     "name": "stdout",
     "output_type": "stream",
     "text": [
      "662/662 [==============================] - 3s 4ms/step - loss: 0.9995 - accuracy: 0.5662 - precision_69: 0.7284 - recall_69: 0.3550\n",
      "138/138 [==============================] - 1s 4ms/step - loss: 1.2232 - accuracy: 0.4698 - precision_69: 0.5824 - recall_69: 0.2745\n",
      "Model: \"sequential_70\"\n",
      "_________________________________________________________________\n",
      "Layer (type)                 Output Shape              Param #   \n",
      "=================================================================\n",
      "lstm_16 (LSTM)               (None, 75)                67800     \n",
      "_________________________________________________________________\n",
      "flatten_33 (Flatten)         (None, 75)                0         \n",
      "_________________________________________________________________\n",
      "dense_194 (Dense)            (None, 2250)              171000    \n",
      "_________________________________________________________________\n",
      "dense_195 (Dense)            (None, 4)                 9004      \n",
      "=================================================================\n",
      "Total params: 247,804\n",
      "Trainable params: 247,804\n",
      "Non-trainable params: 0\n",
      "_________________________________________________________________\n"
     ]
    },
    {
     "name": "stderr",
     "output_type": "stream",
     "text": [
      "WARNING:absl:Found untraced functions such as lstm_cell_16_layer_call_and_return_conditional_losses, lstm_cell_16_layer_call_fn, lstm_cell_16_layer_call_fn, lstm_cell_16_layer_call_and_return_conditional_losses, lstm_cell_16_layer_call_and_return_conditional_losses while saving (showing 5 of 5). These functions will not be directly callable after loading.\n",
      "WARNING:absl:Found untraced functions such as lstm_cell_16_layer_call_and_return_conditional_losses, lstm_cell_16_layer_call_fn, lstm_cell_16_layer_call_fn, lstm_cell_16_layer_call_and_return_conditional_losses, lstm_cell_16_layer_call_and_return_conditional_losses while saving (showing 5 of 5). These functions will not be directly callable after loading.\n"
     ]
    },
    {
     "name": "stdout",
     "output_type": "stream",
     "text": [
      "INFO:tensorflow:Assets written to: ./resources/checkpoints/LSTM_150_30/assets\n"
     ]
    },
    {
     "name": "stderr",
     "output_type": "stream",
     "text": [
      "INFO:tensorflow:Assets written to: ./resources/checkpoints/LSTM_150_30/assets\n",
      "WARNING:absl:Found untraced functions such as lstm_cell_16_layer_call_and_return_conditional_losses, lstm_cell_16_layer_call_fn, lstm_cell_16_layer_call_fn, lstm_cell_16_layer_call_and_return_conditional_losses, lstm_cell_16_layer_call_and_return_conditional_losses while saving (showing 5 of 5). These functions will not be directly callable after loading.\n",
      "WARNING:absl:Found untraced functions such as lstm_cell_16_layer_call_and_return_conditional_losses, lstm_cell_16_layer_call_fn, lstm_cell_16_layer_call_fn, lstm_cell_16_layer_call_and_return_conditional_losses, lstm_cell_16_layer_call_and_return_conditional_losses while saving (showing 5 of 5). These functions will not be directly callable after loading.\n"
     ]
    },
    {
     "name": "stdout",
     "output_type": "stream",
     "text": [
      "INFO:tensorflow:Assets written to: ./resources/checkpoints/LSTM_150_30/assets\n"
     ]
    },
    {
     "name": "stderr",
     "output_type": "stream",
     "text": [
      "INFO:tensorflow:Assets written to: ./resources/checkpoints/LSTM_150_30/assets\n",
      "WARNING:absl:Found untraced functions such as lstm_cell_16_layer_call_and_return_conditional_losses, lstm_cell_16_layer_call_fn, lstm_cell_16_layer_call_fn, lstm_cell_16_layer_call_and_return_conditional_losses, lstm_cell_16_layer_call_and_return_conditional_losses while saving (showing 5 of 5). These functions will not be directly callable after loading.\n",
      "WARNING:absl:Found untraced functions such as lstm_cell_16_layer_call_and_return_conditional_losses, lstm_cell_16_layer_call_fn, lstm_cell_16_layer_call_fn, lstm_cell_16_layer_call_and_return_conditional_losses, lstm_cell_16_layer_call_and_return_conditional_losses while saving (showing 5 of 5). These functions will not be directly callable after loading.\n"
     ]
    },
    {
     "name": "stdout",
     "output_type": "stream",
     "text": [
      "INFO:tensorflow:Assets written to: ./resources/checkpoints/LSTM_150_30/assets\n"
     ]
    },
    {
     "name": "stderr",
     "output_type": "stream",
     "text": [
      "INFO:tensorflow:Assets written to: ./resources/checkpoints/LSTM_150_30/assets\n",
      "WARNING:absl:Found untraced functions such as lstm_cell_16_layer_call_and_return_conditional_losses, lstm_cell_16_layer_call_fn, lstm_cell_16_layer_call_fn, lstm_cell_16_layer_call_and_return_conditional_losses, lstm_cell_16_layer_call_and_return_conditional_losses while saving (showing 5 of 5). These functions will not be directly callable after loading.\n",
      "WARNING:absl:Found untraced functions such as lstm_cell_16_layer_call_and_return_conditional_losses, lstm_cell_16_layer_call_fn, lstm_cell_16_layer_call_fn, lstm_cell_16_layer_call_and_return_conditional_losses, lstm_cell_16_layer_call_and_return_conditional_losses while saving (showing 5 of 5). These functions will not be directly callable after loading.\n"
     ]
    },
    {
     "name": "stdout",
     "output_type": "stream",
     "text": [
      "INFO:tensorflow:Assets written to: ./resources/checkpoints/LSTM_150_30/assets\n"
     ]
    },
    {
     "name": "stderr",
     "output_type": "stream",
     "text": [
      "INFO:tensorflow:Assets written to: ./resources/checkpoints/LSTM_150_30/assets\n",
      "WARNING:absl:Found untraced functions such as lstm_cell_16_layer_call_and_return_conditional_losses, lstm_cell_16_layer_call_fn, lstm_cell_16_layer_call_fn, lstm_cell_16_layer_call_and_return_conditional_losses, lstm_cell_16_layer_call_and_return_conditional_losses while saving (showing 5 of 5). These functions will not be directly callable after loading.\n",
      "WARNING:absl:Found untraced functions such as lstm_cell_16_layer_call_and_return_conditional_losses, lstm_cell_16_layer_call_fn, lstm_cell_16_layer_call_fn, lstm_cell_16_layer_call_and_return_conditional_losses, lstm_cell_16_layer_call_and_return_conditional_losses while saving (showing 5 of 5). These functions will not be directly callable after loading.\n"
     ]
    },
    {
     "name": "stdout",
     "output_type": "stream",
     "text": [
      "INFO:tensorflow:Assets written to: ./resources/checkpoints/LSTM_150_30/assets\n"
     ]
    },
    {
     "name": "stderr",
     "output_type": "stream",
     "text": [
      "INFO:tensorflow:Assets written to: ./resources/checkpoints/LSTM_150_30/assets\n",
      "WARNING:absl:Found untraced functions such as lstm_cell_16_layer_call_and_return_conditional_losses, lstm_cell_16_layer_call_fn, lstm_cell_16_layer_call_fn, lstm_cell_16_layer_call_and_return_conditional_losses, lstm_cell_16_layer_call_and_return_conditional_losses while saving (showing 5 of 5). These functions will not be directly callable after loading.\n",
      "WARNING:absl:Found untraced functions such as lstm_cell_16_layer_call_and_return_conditional_losses, lstm_cell_16_layer_call_fn, lstm_cell_16_layer_call_fn, lstm_cell_16_layer_call_and_return_conditional_losses, lstm_cell_16_layer_call_and_return_conditional_losses while saving (showing 5 of 5). These functions will not be directly callable after loading.\n"
     ]
    },
    {
     "name": "stdout",
     "output_type": "stream",
     "text": [
      "INFO:tensorflow:Assets written to: ./resources/checkpoints/LSTM_150_30/assets\n"
     ]
    },
    {
     "name": "stderr",
     "output_type": "stream",
     "text": [
      "INFO:tensorflow:Assets written to: ./resources/checkpoints/LSTM_150_30/assets\n"
     ]
    },
    {
     "name": "stdout",
     "output_type": "stream",
     "text": [
      "662/662 [==============================] - 2s 3ms/step - loss: 0.7829 - accuracy: 0.6636 - precision_70: 0.7950 - recall_70: 0.5222\n",
      "138/138 [==============================] - 0s 3ms/step - loss: 1.3932 - accuracy: 0.4952 - precision_70: 0.5635 - recall_70: 0.3661\n",
      "Model: \"sequential_71\"\n",
      "_________________________________________________________________\n",
      "Layer (type)                 Output Shape              Param #   \n",
      "=================================================================\n",
      "dense_196 (Dense)            (None, 21178, 375)        281625    \n",
      "_________________________________________________________________\n",
      "dense_197 (Dense)            (None, 21178, 4)          1504      \n",
      "=================================================================\n",
      "Total params: 283,129\n",
      "Trainable params: 283,129\n",
      "Non-trainable params: 0\n",
      "_________________________________________________________________\n",
      "WARNING:tensorflow:Model was constructed with shape (None, 21178, 750) for input KerasTensor(type_spec=TensorSpec(shape=(None, 21178, 750), dtype=tf.float32, name='dense_196_input'), name='dense_196_input', description=\"created by layer 'dense_196_input'\"), but it was called on an input with incompatible shape (None, 750).\n"
     ]
    },
    {
     "name": "stderr",
     "output_type": "stream",
     "text": [
      "WARNING:tensorflow:Model was constructed with shape (None, 21178, 750) for input KerasTensor(type_spec=TensorSpec(shape=(None, 21178, 750), dtype=tf.float32, name='dense_196_input'), name='dense_196_input', description=\"created by layer 'dense_196_input'\"), but it was called on an input with incompatible shape (None, 750).\n"
     ]
    },
    {
     "name": "stdout",
     "output_type": "stream",
     "text": [
      "WARNING:tensorflow:Model was constructed with shape (None, 21178, 750) for input KerasTensor(type_spec=TensorSpec(shape=(None, 21178, 750), dtype=tf.float32, name='dense_196_input'), name='dense_196_input', description=\"created by layer 'dense_196_input'\"), but it was called on an input with incompatible shape (None, 750).\n"
     ]
    },
    {
     "name": "stderr",
     "output_type": "stream",
     "text": [
      "WARNING:tensorflow:Model was constructed with shape (None, 21178, 750) for input KerasTensor(type_spec=TensorSpec(shape=(None, 21178, 750), dtype=tf.float32, name='dense_196_input'), name='dense_196_input', description=\"created by layer 'dense_196_input'\"), but it was called on an input with incompatible shape (None, 750).\n"
     ]
    },
    {
     "name": "stdout",
     "output_type": "stream",
     "text": [
      "WARNING:tensorflow:Model was constructed with shape (None, 21178, 750) for input KerasTensor(type_spec=TensorSpec(shape=(None, 21178, 750), dtype=tf.float32, name='dense_196_input'), name='dense_196_input', description=\"created by layer 'dense_196_input'\"), but it was called on an input with incompatible shape (None, 750).\n"
     ]
    },
    {
     "name": "stderr",
     "output_type": "stream",
     "text": [
      "WARNING:tensorflow:Model was constructed with shape (None, 21178, 750) for input KerasTensor(type_spec=TensorSpec(shape=(None, 21178, 750), dtype=tf.float32, name='dense_196_input'), name='dense_196_input', description=\"created by layer 'dense_196_input'\"), but it was called on an input with incompatible shape (None, 750).\n"
     ]
    },
    {
     "name": "stdout",
     "output_type": "stream",
     "text": [
      "INFO:tensorflow:Assets written to: ./resources/checkpoints/baseline_15_50/assets\n"
     ]
    },
    {
     "name": "stderr",
     "output_type": "stream",
     "text": [
      "INFO:tensorflow:Assets written to: ./resources/checkpoints/baseline_15_50/assets\n"
     ]
    },
    {
     "name": "stdout",
     "output_type": "stream",
     "text": [
      "INFO:tensorflow:Assets written to: ./resources/checkpoints/baseline_15_50/assets\n"
     ]
    },
    {
     "name": "stderr",
     "output_type": "stream",
     "text": [
      "INFO:tensorflow:Assets written to: ./resources/checkpoints/baseline_15_50/assets\n"
     ]
    },
    {
     "name": "stdout",
     "output_type": "stream",
     "text": [
      "INFO:tensorflow:Assets written to: ./resources/checkpoints/baseline_15_50/assets\n"
     ]
    },
    {
     "name": "stderr",
     "output_type": "stream",
     "text": [
      "INFO:tensorflow:Assets written to: ./resources/checkpoints/baseline_15_50/assets\n"
     ]
    },
    {
     "name": "stdout",
     "output_type": "stream",
     "text": [
      "662/662 [==============================] - 1s 2ms/step - loss: 0.7170 - accuracy: 0.7151 - precision_71: 0.8452 - recall_71: 0.5786\n",
      "138/138 [==============================] - 0s 2ms/step - loss: 1.6641 - accuracy: 0.4450 - precision_71: 0.4876 - recall_71: 0.3084\n",
      "Model: \"sequential_72\"\n",
      "_________________________________________________________________\n",
      "Layer (type)                 Output Shape              Param #   \n",
      "=================================================================\n",
      "dense_198 (Dense)            (None, 21178, 375)        281625    \n",
      "_________________________________________________________________\n",
      "dropout_54 (Dropout)         (None, 21178, 375)        0         \n",
      "_________________________________________________________________\n",
      "dense_199 (Dense)            (None, 21178, 375)        141000    \n",
      "_________________________________________________________________\n",
      "dropout_55 (Dropout)         (None, 21178, 375)        0         \n",
      "_________________________________________________________________\n",
      "dense_200 (Dense)            (None, 21178, 375)        141000    \n",
      "_________________________________________________________________\n",
      "dropout_56 (Dropout)         (None, 21178, 375)        0         \n",
      "_________________________________________________________________\n",
      "dense_201 (Dense)            (None, 21178, 375)        141000    \n",
      "_________________________________________________________________\n",
      "dense_202 (Dense)            (None, 21178, 4)          1504      \n",
      "=================================================================\n",
      "Total params: 706,129\n",
      "Trainable params: 706,129\n",
      "Non-trainable params: 0\n",
      "_________________________________________________________________\n",
      "WARNING:tensorflow:Model was constructed with shape (None, 21178, 750) for input KerasTensor(type_spec=TensorSpec(shape=(None, 21178, 750), dtype=tf.float32, name='dense_198_input'), name='dense_198_input', description=\"created by layer 'dense_198_input'\"), but it was called on an input with incompatible shape (None, 750).\n"
     ]
    },
    {
     "name": "stderr",
     "output_type": "stream",
     "text": [
      "WARNING:tensorflow:Model was constructed with shape (None, 21178, 750) for input KerasTensor(type_spec=TensorSpec(shape=(None, 21178, 750), dtype=tf.float32, name='dense_198_input'), name='dense_198_input', description=\"created by layer 'dense_198_input'\"), but it was called on an input with incompatible shape (None, 750).\n"
     ]
    },
    {
     "name": "stdout",
     "output_type": "stream",
     "text": [
      "WARNING:tensorflow:Model was constructed with shape (None, 21178, 750) for input KerasTensor(type_spec=TensorSpec(shape=(None, 21178, 750), dtype=tf.float32, name='dense_198_input'), name='dense_198_input', description=\"created by layer 'dense_198_input'\"), but it was called on an input with incompatible shape (None, 750).\n"
     ]
    },
    {
     "name": "stderr",
     "output_type": "stream",
     "text": [
      "WARNING:tensorflow:Model was constructed with shape (None, 21178, 750) for input KerasTensor(type_spec=TensorSpec(shape=(None, 21178, 750), dtype=tf.float32, name='dense_198_input'), name='dense_198_input', description=\"created by layer 'dense_198_input'\"), but it was called on an input with incompatible shape (None, 750).\n"
     ]
    },
    {
     "name": "stdout",
     "output_type": "stream",
     "text": [
      "WARNING:tensorflow:Model was constructed with shape (None, 21178, 750) for input KerasTensor(type_spec=TensorSpec(shape=(None, 21178, 750), dtype=tf.float32, name='dense_198_input'), name='dense_198_input', description=\"created by layer 'dense_198_input'\"), but it was called on an input with incompatible shape (None, 750).\n"
     ]
    },
    {
     "name": "stderr",
     "output_type": "stream",
     "text": [
      "WARNING:tensorflow:Model was constructed with shape (None, 21178, 750) for input KerasTensor(type_spec=TensorSpec(shape=(None, 21178, 750), dtype=tf.float32, name='dense_198_input'), name='dense_198_input', description=\"created by layer 'dense_198_input'\"), but it was called on an input with incompatible shape (None, 750).\n"
     ]
    },
    {
     "name": "stdout",
     "output_type": "stream",
     "text": [
      "INFO:tensorflow:Assets written to: ./resources/checkpoints/DeepFC_15_50/assets\n"
     ]
    },
    {
     "name": "stderr",
     "output_type": "stream",
     "text": [
      "INFO:tensorflow:Assets written to: ./resources/checkpoints/DeepFC_15_50/assets\n"
     ]
    },
    {
     "name": "stdout",
     "output_type": "stream",
     "text": [
      "INFO:tensorflow:Assets written to: ./resources/checkpoints/DeepFC_15_50/assets\n"
     ]
    },
    {
     "name": "stderr",
     "output_type": "stream",
     "text": [
      "INFO:tensorflow:Assets written to: ./resources/checkpoints/DeepFC_15_50/assets\n"
     ]
    },
    {
     "name": "stdout",
     "output_type": "stream",
     "text": [
      "INFO:tensorflow:Assets written to: ./resources/checkpoints/DeepFC_15_50/assets\n"
     ]
    },
    {
     "name": "stderr",
     "output_type": "stream",
     "text": [
      "INFO:tensorflow:Assets written to: ./resources/checkpoints/DeepFC_15_50/assets\n"
     ]
    },
    {
     "name": "stdout",
     "output_type": "stream",
     "text": [
      "662/662 [==============================] - 1s 2ms/step - loss: 0.6038 - accuracy: 0.7583 - precision_72: 0.8827 - recall_72: 0.6362\n",
      "138/138 [==============================] - 0s 2ms/step - loss: 1.7540 - accuracy: 0.4505 - precision_72: 0.4904 - recall_72: 0.3305\n",
      "Model: \"sequential_73\"\n",
      "_________________________________________________________________\n",
      "Layer (type)                 Output Shape              Param #   \n",
      "=================================================================\n",
      "simple_rnn_17 (SimpleRNN)    (None, 75)                6825      \n",
      "_________________________________________________________________\n",
      "flatten_34 (Flatten)         (None, 75)                0         \n",
      "_________________________________________________________________\n",
      "dense_203 (Dense)            (None, 375)               28500     \n",
      "_________________________________________________________________\n",
      "dense_204 (Dense)            (None, 4)                 1504      \n",
      "=================================================================\n",
      "Total params: 36,829\n",
      "Trainable params: 36,829\n",
      "Non-trainable params: 0\n",
      "_________________________________________________________________\n",
      "INFO:tensorflow:Assets written to: ./resources/checkpoints/SimpleRNN_15_50/assets\n"
     ]
    },
    {
     "name": "stderr",
     "output_type": "stream",
     "text": [
      "INFO:tensorflow:Assets written to: ./resources/checkpoints/SimpleRNN_15_50/assets\n"
     ]
    },
    {
     "name": "stdout",
     "output_type": "stream",
     "text": [
      "INFO:tensorflow:Assets written to: ./resources/checkpoints/SimpleRNN_15_50/assets\n"
     ]
    },
    {
     "name": "stderr",
     "output_type": "stream",
     "text": [
      "INFO:tensorflow:Assets written to: ./resources/checkpoints/SimpleRNN_15_50/assets\n"
     ]
    },
    {
     "name": "stdout",
     "output_type": "stream",
     "text": [
      "INFO:tensorflow:Assets written to: ./resources/checkpoints/SimpleRNN_15_50/assets\n"
     ]
    },
    {
     "name": "stderr",
     "output_type": "stream",
     "text": [
      "INFO:tensorflow:Assets written to: ./resources/checkpoints/SimpleRNN_15_50/assets\n"
     ]
    },
    {
     "name": "stdout",
     "output_type": "stream",
     "text": [
      "INFO:tensorflow:Assets written to: ./resources/checkpoints/SimpleRNN_15_50/assets\n"
     ]
    },
    {
     "name": "stderr",
     "output_type": "stream",
     "text": [
      "INFO:tensorflow:Assets written to: ./resources/checkpoints/SimpleRNN_15_50/assets\n"
     ]
    },
    {
     "name": "stdout",
     "output_type": "stream",
     "text": [
      "INFO:tensorflow:Assets written to: ./resources/checkpoints/SimpleRNN_15_50/assets\n"
     ]
    },
    {
     "name": "stderr",
     "output_type": "stream",
     "text": [
      "INFO:tensorflow:Assets written to: ./resources/checkpoints/SimpleRNN_15_50/assets\n"
     ]
    },
    {
     "name": "stdout",
     "output_type": "stream",
     "text": [
      "INFO:tensorflow:Assets written to: ./resources/checkpoints/SimpleRNN_15_50/assets\n"
     ]
    },
    {
     "name": "stderr",
     "output_type": "stream",
     "text": [
      "INFO:tensorflow:Assets written to: ./resources/checkpoints/SimpleRNN_15_50/assets\n"
     ]
    },
    {
     "name": "stdout",
     "output_type": "stream",
     "text": [
      "INFO:tensorflow:Assets written to: ./resources/checkpoints/SimpleRNN_15_50/assets\n"
     ]
    },
    {
     "name": "stderr",
     "output_type": "stream",
     "text": [
      "INFO:tensorflow:Assets written to: ./resources/checkpoints/SimpleRNN_15_50/assets\n"
     ]
    },
    {
     "name": "stdout",
     "output_type": "stream",
     "text": [
      "INFO:tensorflow:Assets written to: ./resources/checkpoints/SimpleRNN_15_50/assets\n"
     ]
    },
    {
     "name": "stderr",
     "output_type": "stream",
     "text": [
      "INFO:tensorflow:Assets written to: ./resources/checkpoints/SimpleRNN_15_50/assets\n"
     ]
    },
    {
     "name": "stdout",
     "output_type": "stream",
     "text": [
      "INFO:tensorflow:Assets written to: ./resources/checkpoints/SimpleRNN_15_50/assets\n"
     ]
    },
    {
     "name": "stderr",
     "output_type": "stream",
     "text": [
      "INFO:tensorflow:Assets written to: ./resources/checkpoints/SimpleRNN_15_50/assets\n"
     ]
    },
    {
     "name": "stdout",
     "output_type": "stream",
     "text": [
      "INFO:tensorflow:Assets written to: ./resources/checkpoints/SimpleRNN_15_50/assets\n"
     ]
    },
    {
     "name": "stderr",
     "output_type": "stream",
     "text": [
      "INFO:tensorflow:Assets written to: ./resources/checkpoints/SimpleRNN_15_50/assets\n"
     ]
    },
    {
     "name": "stdout",
     "output_type": "stream",
     "text": [
      "662/662 [==============================] - 3s 5ms/step - loss: 1.2717 - accuracy: 0.4432 - precision_73: 0.6043 - recall_73: 0.0200\n",
      "138/138 [==============================] - 1s 5ms/step - loss: 1.2619 - accuracy: 0.4550 - precision_73: 0.6507 - recall_73: 0.0216\n",
      "Model: \"sequential_74\"\n",
      "_________________________________________________________________\n",
      "Layer (type)                 Output Shape              Param #   \n",
      "=================================================================\n",
      "lstm_17 (LSTM)               (None, 75)                27300     \n",
      "_________________________________________________________________\n",
      "flatten_35 (Flatten)         (None, 75)                0         \n",
      "_________________________________________________________________\n",
      "dense_205 (Dense)            (None, 375)               28500     \n",
      "_________________________________________________________________\n",
      "dense_206 (Dense)            (None, 4)                 1504      \n",
      "=================================================================\n",
      "Total params: 57,304\n",
      "Trainable params: 57,304\n",
      "Non-trainable params: 0\n",
      "_________________________________________________________________\n"
     ]
    },
    {
     "name": "stderr",
     "output_type": "stream",
     "text": [
      "WARNING:absl:Found untraced functions such as lstm_cell_17_layer_call_and_return_conditional_losses, lstm_cell_17_layer_call_fn, lstm_cell_17_layer_call_fn, lstm_cell_17_layer_call_and_return_conditional_losses, lstm_cell_17_layer_call_and_return_conditional_losses while saving (showing 5 of 5). These functions will not be directly callable after loading.\n",
      "WARNING:absl:Found untraced functions such as lstm_cell_17_layer_call_and_return_conditional_losses, lstm_cell_17_layer_call_fn, lstm_cell_17_layer_call_fn, lstm_cell_17_layer_call_and_return_conditional_losses, lstm_cell_17_layer_call_and_return_conditional_losses while saving (showing 5 of 5). These functions will not be directly callable after loading.\n"
     ]
    },
    {
     "name": "stdout",
     "output_type": "stream",
     "text": [
      "INFO:tensorflow:Assets written to: ./resources/checkpoints/LSTM_15_50/assets\n"
     ]
    },
    {
     "name": "stderr",
     "output_type": "stream",
     "text": [
      "INFO:tensorflow:Assets written to: ./resources/checkpoints/LSTM_15_50/assets\n",
      "WARNING:absl:Found untraced functions such as lstm_cell_17_layer_call_and_return_conditional_losses, lstm_cell_17_layer_call_fn, lstm_cell_17_layer_call_fn, lstm_cell_17_layer_call_and_return_conditional_losses, lstm_cell_17_layer_call_and_return_conditional_losses while saving (showing 5 of 5). These functions will not be directly callable after loading.\n",
      "WARNING:absl:Found untraced functions such as lstm_cell_17_layer_call_and_return_conditional_losses, lstm_cell_17_layer_call_fn, lstm_cell_17_layer_call_fn, lstm_cell_17_layer_call_and_return_conditional_losses, lstm_cell_17_layer_call_and_return_conditional_losses while saving (showing 5 of 5). These functions will not be directly callable after loading.\n"
     ]
    },
    {
     "name": "stdout",
     "output_type": "stream",
     "text": [
      "INFO:tensorflow:Assets written to: ./resources/checkpoints/LSTM_15_50/assets\n"
     ]
    },
    {
     "name": "stderr",
     "output_type": "stream",
     "text": [
      "INFO:tensorflow:Assets written to: ./resources/checkpoints/LSTM_15_50/assets\n",
      "WARNING:absl:Found untraced functions such as lstm_cell_17_layer_call_and_return_conditional_losses, lstm_cell_17_layer_call_fn, lstm_cell_17_layer_call_fn, lstm_cell_17_layer_call_and_return_conditional_losses, lstm_cell_17_layer_call_and_return_conditional_losses while saving (showing 5 of 5). These functions will not be directly callable after loading.\n",
      "WARNING:absl:Found untraced functions such as lstm_cell_17_layer_call_and_return_conditional_losses, lstm_cell_17_layer_call_fn, lstm_cell_17_layer_call_fn, lstm_cell_17_layer_call_and_return_conditional_losses, lstm_cell_17_layer_call_and_return_conditional_losses while saving (showing 5 of 5). These functions will not be directly callable after loading.\n"
     ]
    },
    {
     "name": "stdout",
     "output_type": "stream",
     "text": [
      "INFO:tensorflow:Assets written to: ./resources/checkpoints/LSTM_15_50/assets\n"
     ]
    },
    {
     "name": "stderr",
     "output_type": "stream",
     "text": [
      "INFO:tensorflow:Assets written to: ./resources/checkpoints/LSTM_15_50/assets\n"
     ]
    },
    {
     "name": "stdout",
     "output_type": "stream",
     "text": [
      "662/662 [==============================] - 2s 2ms/step - loss: 1.3098 - accuracy: 0.4233 - precision_74: 1.0000 - recall_74: 4.7219e-05\n",
      "138/138 [==============================] - 0s 2ms/step - loss: 1.3069 - accuracy: 0.4280 - precision_74: 0.0000e+00 - recall_74: 0.0000e+00\n",
      "Model: \"sequential_75\"\n",
      "_________________________________________________________________\n",
      "Layer (type)                 Output Shape              Param #   \n",
      "=================================================================\n",
      "dense_207 (Dense)            (None, 21178, 1875)       7033125   \n",
      "_________________________________________________________________\n",
      "dense_208 (Dense)            (None, 21178, 4)          7504      \n",
      "=================================================================\n",
      "Total params: 7,040,629\n",
      "Trainable params: 7,040,629\n",
      "Non-trainable params: 0\n",
      "_________________________________________________________________\n",
      "WARNING:tensorflow:Model was constructed with shape (None, 21178, 3750) for input KerasTensor(type_spec=TensorSpec(shape=(None, 21178, 3750), dtype=tf.float32, name='dense_207_input'), name='dense_207_input', description=\"created by layer 'dense_207_input'\"), but it was called on an input with incompatible shape (None, 3750).\n"
     ]
    },
    {
     "name": "stderr",
     "output_type": "stream",
     "text": [
      "WARNING:tensorflow:Model was constructed with shape (None, 21178, 3750) for input KerasTensor(type_spec=TensorSpec(shape=(None, 21178, 3750), dtype=tf.float32, name='dense_207_input'), name='dense_207_input', description=\"created by layer 'dense_207_input'\"), but it was called on an input with incompatible shape (None, 3750).\n"
     ]
    },
    {
     "name": "stdout",
     "output_type": "stream",
     "text": [
      "WARNING:tensorflow:Model was constructed with shape (None, 21178, 3750) for input KerasTensor(type_spec=TensorSpec(shape=(None, 21178, 3750), dtype=tf.float32, name='dense_207_input'), name='dense_207_input', description=\"created by layer 'dense_207_input'\"), but it was called on an input with incompatible shape (None, 3750).\n"
     ]
    },
    {
     "name": "stderr",
     "output_type": "stream",
     "text": [
      "WARNING:tensorflow:Model was constructed with shape (None, 21178, 3750) for input KerasTensor(type_spec=TensorSpec(shape=(None, 21178, 3750), dtype=tf.float32, name='dense_207_input'), name='dense_207_input', description=\"created by layer 'dense_207_input'\"), but it was called on an input with incompatible shape (None, 3750).\n"
     ]
    },
    {
     "name": "stdout",
     "output_type": "stream",
     "text": [
      "WARNING:tensorflow:Model was constructed with shape (None, 21178, 3750) for input KerasTensor(type_spec=TensorSpec(shape=(None, 21178, 3750), dtype=tf.float32, name='dense_207_input'), name='dense_207_input', description=\"created by layer 'dense_207_input'\"), but it was called on an input with incompatible shape (None, 3750).\n"
     ]
    },
    {
     "name": "stderr",
     "output_type": "stream",
     "text": [
      "WARNING:tensorflow:Model was constructed with shape (None, 21178, 3750) for input KerasTensor(type_spec=TensorSpec(shape=(None, 21178, 3750), dtype=tf.float32, name='dense_207_input'), name='dense_207_input', description=\"created by layer 'dense_207_input'\"), but it was called on an input with incompatible shape (None, 3750).\n"
     ]
    },
    {
     "name": "stdout",
     "output_type": "stream",
     "text": [
      "INFO:tensorflow:Assets written to: ./resources/checkpoints/baseline_75_50/assets\n"
     ]
    },
    {
     "name": "stderr",
     "output_type": "stream",
     "text": [
      "INFO:tensorflow:Assets written to: ./resources/checkpoints/baseline_75_50/assets\n"
     ]
    },
    {
     "name": "stdout",
     "output_type": "stream",
     "text": [
      "662/662 [==============================] - 1s 2ms/step - loss: 0.3248 - accuracy: 0.8656 - precision_75: 0.9197 - recall_75: 0.8251\n",
      "138/138 [==============================] - 0s 2ms/step - loss: 2.3123 - accuracy: 0.4598 - precision_75: 0.4774 - recall_75: 0.4009\n",
      "Model: \"sequential_76\"\n",
      "_________________________________________________________________\n",
      "Layer (type)                 Output Shape              Param #   \n",
      "=================================================================\n",
      "dense_209 (Dense)            (None, 21178, 1875)       7033125   \n",
      "_________________________________________________________________\n",
      "dropout_57 (Dropout)         (None, 21178, 1875)       0         \n",
      "_________________________________________________________________\n",
      "dense_210 (Dense)            (None, 21178, 1875)       3517500   \n",
      "_________________________________________________________________\n",
      "dropout_58 (Dropout)         (None, 21178, 1875)       0         \n",
      "_________________________________________________________________\n",
      "dense_211 (Dense)            (None, 21178, 1875)       3517500   \n",
      "_________________________________________________________________\n",
      "dropout_59 (Dropout)         (None, 21178, 1875)       0         \n",
      "_________________________________________________________________\n",
      "dense_212 (Dense)            (None, 21178, 1875)       3517500   \n",
      "_________________________________________________________________\n",
      "dense_213 (Dense)            (None, 21178, 4)          7504      \n",
      "=================================================================\n",
      "Total params: 17,593,129\n",
      "Trainable params: 17,593,129\n",
      "Non-trainable params: 0\n",
      "_________________________________________________________________\n",
      "WARNING:tensorflow:Model was constructed with shape (None, 21178, 3750) for input KerasTensor(type_spec=TensorSpec(shape=(None, 21178, 3750), dtype=tf.float32, name='dense_209_input'), name='dense_209_input', description=\"created by layer 'dense_209_input'\"), but it was called on an input with incompatible shape (None, 3750).\n"
     ]
    },
    {
     "name": "stderr",
     "output_type": "stream",
     "text": [
      "WARNING:tensorflow:Model was constructed with shape (None, 21178, 3750) for input KerasTensor(type_spec=TensorSpec(shape=(None, 21178, 3750), dtype=tf.float32, name='dense_209_input'), name='dense_209_input', description=\"created by layer 'dense_209_input'\"), but it was called on an input with incompatible shape (None, 3750).\n"
     ]
    },
    {
     "name": "stdout",
     "output_type": "stream",
     "text": [
      "WARNING:tensorflow:Model was constructed with shape (None, 21178, 3750) for input KerasTensor(type_spec=TensorSpec(shape=(None, 21178, 3750), dtype=tf.float32, name='dense_209_input'), name='dense_209_input', description=\"created by layer 'dense_209_input'\"), but it was called on an input with incompatible shape (None, 3750).\n"
     ]
    },
    {
     "name": "stderr",
     "output_type": "stream",
     "text": [
      "WARNING:tensorflow:Model was constructed with shape (None, 21178, 3750) for input KerasTensor(type_spec=TensorSpec(shape=(None, 21178, 3750), dtype=tf.float32, name='dense_209_input'), name='dense_209_input', description=\"created by layer 'dense_209_input'\"), but it was called on an input with incompatible shape (None, 3750).\n"
     ]
    },
    {
     "name": "stdout",
     "output_type": "stream",
     "text": [
      "WARNING:tensorflow:Model was constructed with shape (None, 21178, 3750) for input KerasTensor(type_spec=TensorSpec(shape=(None, 21178, 3750), dtype=tf.float32, name='dense_209_input'), name='dense_209_input', description=\"created by layer 'dense_209_input'\"), but it was called on an input with incompatible shape (None, 3750).\n"
     ]
    },
    {
     "name": "stderr",
     "output_type": "stream",
     "text": [
      "WARNING:tensorflow:Model was constructed with shape (None, 21178, 3750) for input KerasTensor(type_spec=TensorSpec(shape=(None, 21178, 3750), dtype=tf.float32, name='dense_209_input'), name='dense_209_input', description=\"created by layer 'dense_209_input'\"), but it was called on an input with incompatible shape (None, 3750).\n"
     ]
    },
    {
     "name": "stdout",
     "output_type": "stream",
     "text": [
      "INFO:tensorflow:Assets written to: ./resources/checkpoints/DeepFC_75_50/assets\n"
     ]
    },
    {
     "name": "stderr",
     "output_type": "stream",
     "text": [
      "INFO:tensorflow:Assets written to: ./resources/checkpoints/DeepFC_75_50/assets\n"
     ]
    },
    {
     "name": "stdout",
     "output_type": "stream",
     "text": [
      "INFO:tensorflow:Assets written to: ./resources/checkpoints/DeepFC_75_50/assets\n"
     ]
    },
    {
     "name": "stderr",
     "output_type": "stream",
     "text": [
      "INFO:tensorflow:Assets written to: ./resources/checkpoints/DeepFC_75_50/assets\n"
     ]
    },
    {
     "name": "stdout",
     "output_type": "stream",
     "text": [
      "662/662 [==============================] - 2s 3ms/step - loss: 0.3172 - accuracy: 0.8599 - precision_76: 0.9488 - recall_76: 0.7899\n",
      "138/138 [==============================] - 0s 2ms/step - loss: 3.0284 - accuracy: 0.4564 - precision_76: 0.4791 - recall_76: 0.3805\n",
      "Model: \"sequential_77\"\n",
      "_________________________________________________________________\n",
      "Layer (type)                 Output Shape              Param #   \n",
      "=================================================================\n",
      "simple_rnn_18 (SimpleRNN)    (None, 75)                11325     \n",
      "_________________________________________________________________\n",
      "flatten_36 (Flatten)         (None, 75)                0         \n",
      "_________________________________________________________________\n",
      "dense_214 (Dense)            (None, 1875)              142500    \n",
      "_________________________________________________________________\n",
      "dense_215 (Dense)            (None, 4)                 7504      \n",
      "=================================================================\n",
      "Total params: 161,329\n",
      "Trainable params: 161,329\n",
      "Non-trainable params: 0\n",
      "_________________________________________________________________\n",
      "INFO:tensorflow:Assets written to: ./resources/checkpoints/SimpleRNN_75_50/assets\n"
     ]
    },
    {
     "name": "stderr",
     "output_type": "stream",
     "text": [
      "INFO:tensorflow:Assets written to: ./resources/checkpoints/SimpleRNN_75_50/assets\n"
     ]
    },
    {
     "name": "stdout",
     "output_type": "stream",
     "text": [
      "INFO:tensorflow:Assets written to: ./resources/checkpoints/SimpleRNN_75_50/assets\n"
     ]
    },
    {
     "name": "stderr",
     "output_type": "stream",
     "text": [
      "INFO:tensorflow:Assets written to: ./resources/checkpoints/SimpleRNN_75_50/assets\n"
     ]
    },
    {
     "name": "stdout",
     "output_type": "stream",
     "text": [
      "INFO:tensorflow:Assets written to: ./resources/checkpoints/SimpleRNN_75_50/assets\n"
     ]
    },
    {
     "name": "stderr",
     "output_type": "stream",
     "text": [
      "INFO:tensorflow:Assets written to: ./resources/checkpoints/SimpleRNN_75_50/assets\n"
     ]
    },
    {
     "name": "stdout",
     "output_type": "stream",
     "text": [
      "662/662 [==============================] - 3s 5ms/step - loss: 1.2745 - accuracy: 0.4455 - precision_77: 0.0000e+00 - recall_77: 0.0000e+00\n",
      "138/138 [==============================] - 1s 5ms/step - loss: 1.2731 - accuracy: 0.4486 - precision_77: 0.0000e+00 - recall_77: 0.0000e+00\n",
      "Model: \"sequential_78\"\n",
      "_________________________________________________________________\n",
      "Layer (type)                 Output Shape              Param #   \n",
      "=================================================================\n",
      "lstm_18 (LSTM)               (None, 75)                45300     \n",
      "_________________________________________________________________\n",
      "flatten_37 (Flatten)         (None, 75)                0         \n",
      "_________________________________________________________________\n",
      "dense_216 (Dense)            (None, 1875)              142500    \n",
      "_________________________________________________________________\n",
      "dense_217 (Dense)            (None, 4)                 7504      \n",
      "=================================================================\n",
      "Total params: 195,304\n",
      "Trainable params: 195,304\n",
      "Non-trainable params: 0\n",
      "_________________________________________________________________\n"
     ]
    },
    {
     "name": "stderr",
     "output_type": "stream",
     "text": [
      "WARNING:absl:Found untraced functions such as lstm_cell_18_layer_call_and_return_conditional_losses, lstm_cell_18_layer_call_fn, lstm_cell_18_layer_call_fn, lstm_cell_18_layer_call_and_return_conditional_losses, lstm_cell_18_layer_call_and_return_conditional_losses while saving (showing 5 of 5). These functions will not be directly callable after loading.\n",
      "WARNING:absl:Found untraced functions such as lstm_cell_18_layer_call_and_return_conditional_losses, lstm_cell_18_layer_call_fn, lstm_cell_18_layer_call_fn, lstm_cell_18_layer_call_and_return_conditional_losses, lstm_cell_18_layer_call_and_return_conditional_losses while saving (showing 5 of 5). These functions will not be directly callable after loading.\n"
     ]
    },
    {
     "name": "stdout",
     "output_type": "stream",
     "text": [
      "INFO:tensorflow:Assets written to: ./resources/checkpoints/LSTM_75_50/assets\n"
     ]
    },
    {
     "name": "stderr",
     "output_type": "stream",
     "text": [
      "INFO:tensorflow:Assets written to: ./resources/checkpoints/LSTM_75_50/assets\n",
      "WARNING:absl:Found untraced functions such as lstm_cell_18_layer_call_and_return_conditional_losses, lstm_cell_18_layer_call_fn, lstm_cell_18_layer_call_fn, lstm_cell_18_layer_call_and_return_conditional_losses, lstm_cell_18_layer_call_and_return_conditional_losses while saving (showing 5 of 5). These functions will not be directly callable after loading.\n",
      "WARNING:absl:Found untraced functions such as lstm_cell_18_layer_call_and_return_conditional_losses, lstm_cell_18_layer_call_fn, lstm_cell_18_layer_call_fn, lstm_cell_18_layer_call_and_return_conditional_losses, lstm_cell_18_layer_call_and_return_conditional_losses while saving (showing 5 of 5). These functions will not be directly callable after loading.\n"
     ]
    },
    {
     "name": "stdout",
     "output_type": "stream",
     "text": [
      "INFO:tensorflow:Assets written to: ./resources/checkpoints/LSTM_75_50/assets\n"
     ]
    },
    {
     "name": "stderr",
     "output_type": "stream",
     "text": [
      "INFO:tensorflow:Assets written to: ./resources/checkpoints/LSTM_75_50/assets\n",
      "WARNING:absl:Found untraced functions such as lstm_cell_18_layer_call_and_return_conditional_losses, lstm_cell_18_layer_call_fn, lstm_cell_18_layer_call_fn, lstm_cell_18_layer_call_and_return_conditional_losses, lstm_cell_18_layer_call_and_return_conditional_losses while saving (showing 5 of 5). These functions will not be directly callable after loading.\n",
      "WARNING:absl:Found untraced functions such as lstm_cell_18_layer_call_and_return_conditional_losses, lstm_cell_18_layer_call_fn, lstm_cell_18_layer_call_fn, lstm_cell_18_layer_call_and_return_conditional_losses, lstm_cell_18_layer_call_and_return_conditional_losses while saving (showing 5 of 5). These functions will not be directly callable after loading.\n"
     ]
    },
    {
     "name": "stdout",
     "output_type": "stream",
     "text": [
      "INFO:tensorflow:Assets written to: ./resources/checkpoints/LSTM_75_50/assets\n"
     ]
    },
    {
     "name": "stderr",
     "output_type": "stream",
     "text": [
      "INFO:tensorflow:Assets written to: ./resources/checkpoints/LSTM_75_50/assets\n",
      "WARNING:absl:Found untraced functions such as lstm_cell_18_layer_call_and_return_conditional_losses, lstm_cell_18_layer_call_fn, lstm_cell_18_layer_call_fn, lstm_cell_18_layer_call_and_return_conditional_losses, lstm_cell_18_layer_call_and_return_conditional_losses while saving (showing 5 of 5). These functions will not be directly callable after loading.\n",
      "WARNING:absl:Found untraced functions such as lstm_cell_18_layer_call_and_return_conditional_losses, lstm_cell_18_layer_call_fn, lstm_cell_18_layer_call_fn, lstm_cell_18_layer_call_and_return_conditional_losses, lstm_cell_18_layer_call_and_return_conditional_losses while saving (showing 5 of 5). These functions will not be directly callable after loading.\n"
     ]
    },
    {
     "name": "stdout",
     "output_type": "stream",
     "text": [
      "INFO:tensorflow:Assets written to: ./resources/checkpoints/LSTM_75_50/assets\n"
     ]
    },
    {
     "name": "stderr",
     "output_type": "stream",
     "text": [
      "INFO:tensorflow:Assets written to: ./resources/checkpoints/LSTM_75_50/assets\n",
      "WARNING:absl:Found untraced functions such as lstm_cell_18_layer_call_and_return_conditional_losses, lstm_cell_18_layer_call_fn, lstm_cell_18_layer_call_fn, lstm_cell_18_layer_call_and_return_conditional_losses, lstm_cell_18_layer_call_and_return_conditional_losses while saving (showing 5 of 5). These functions will not be directly callable after loading.\n",
      "WARNING:absl:Found untraced functions such as lstm_cell_18_layer_call_and_return_conditional_losses, lstm_cell_18_layer_call_fn, lstm_cell_18_layer_call_fn, lstm_cell_18_layer_call_and_return_conditional_losses, lstm_cell_18_layer_call_and_return_conditional_losses while saving (showing 5 of 5). These functions will not be directly callable after loading.\n"
     ]
    },
    {
     "name": "stdout",
     "output_type": "stream",
     "text": [
      "INFO:tensorflow:Assets written to: ./resources/checkpoints/LSTM_75_50/assets\n"
     ]
    },
    {
     "name": "stderr",
     "output_type": "stream",
     "text": [
      "INFO:tensorflow:Assets written to: ./resources/checkpoints/LSTM_75_50/assets\n",
      "WARNING:absl:Found untraced functions such as lstm_cell_18_layer_call_and_return_conditional_losses, lstm_cell_18_layer_call_fn, lstm_cell_18_layer_call_fn, lstm_cell_18_layer_call_and_return_conditional_losses, lstm_cell_18_layer_call_and_return_conditional_losses while saving (showing 5 of 5). These functions will not be directly callable after loading.\n",
      "WARNING:absl:Found untraced functions such as lstm_cell_18_layer_call_and_return_conditional_losses, lstm_cell_18_layer_call_fn, lstm_cell_18_layer_call_fn, lstm_cell_18_layer_call_and_return_conditional_losses, lstm_cell_18_layer_call_and_return_conditional_losses while saving (showing 5 of 5). These functions will not be directly callable after loading.\n"
     ]
    },
    {
     "name": "stdout",
     "output_type": "stream",
     "text": [
      "INFO:tensorflow:Assets written to: ./resources/checkpoints/LSTM_75_50/assets\n"
     ]
    },
    {
     "name": "stderr",
     "output_type": "stream",
     "text": [
      "INFO:tensorflow:Assets written to: ./resources/checkpoints/LSTM_75_50/assets\n"
     ]
    },
    {
     "name": "stdout",
     "output_type": "stream",
     "text": [
      "662/662 [==============================] - 2s 3ms/step - loss: 1.3094 - accuracy: 0.4233 - precision_78: 1.0000 - recall_78: 1.8888e-04\n",
      "138/138 [==============================] - 0s 3ms/step - loss: 1.3064 - accuracy: 0.4280 - precision_78: 0.0000e+00 - recall_78: 0.0000e+00\n",
      "Model: \"sequential_79\"\n",
      "_________________________________________________________________\n",
      "Layer (type)                 Output Shape              Param #   \n",
      "=================================================================\n",
      "dense_218 (Dense)            (None, 21178, 3750)       28128750  \n",
      "_________________________________________________________________\n",
      "dense_219 (Dense)            (None, 21178, 4)          15004     \n",
      "=================================================================\n",
      "Total params: 28,143,754\n",
      "Trainable params: 28,143,754\n",
      "Non-trainable params: 0\n",
      "_________________________________________________________________\n",
      "WARNING:tensorflow:Model was constructed with shape (None, 21178, 7500) for input KerasTensor(type_spec=TensorSpec(shape=(None, 21178, 7500), dtype=tf.float32, name='dense_218_input'), name='dense_218_input', description=\"created by layer 'dense_218_input'\"), but it was called on an input with incompatible shape (None, 7500).\n"
     ]
    },
    {
     "name": "stderr",
     "output_type": "stream",
     "text": [
      "WARNING:tensorflow:Model was constructed with shape (None, 21178, 7500) for input KerasTensor(type_spec=TensorSpec(shape=(None, 21178, 7500), dtype=tf.float32, name='dense_218_input'), name='dense_218_input', description=\"created by layer 'dense_218_input'\"), but it was called on an input with incompatible shape (None, 7500).\n"
     ]
    },
    {
     "name": "stdout",
     "output_type": "stream",
     "text": [
      "WARNING:tensorflow:Model was constructed with shape (None, 21178, 7500) for input KerasTensor(type_spec=TensorSpec(shape=(None, 21178, 7500), dtype=tf.float32, name='dense_218_input'), name='dense_218_input', description=\"created by layer 'dense_218_input'\"), but it was called on an input with incompatible shape (None, 7500).\n"
     ]
    },
    {
     "name": "stderr",
     "output_type": "stream",
     "text": [
      "WARNING:tensorflow:Model was constructed with shape (None, 21178, 7500) for input KerasTensor(type_spec=TensorSpec(shape=(None, 21178, 7500), dtype=tf.float32, name='dense_218_input'), name='dense_218_input', description=\"created by layer 'dense_218_input'\"), but it was called on an input with incompatible shape (None, 7500).\n"
     ]
    },
    {
     "name": "stdout",
     "output_type": "stream",
     "text": [
      "WARNING:tensorflow:Model was constructed with shape (None, 21178, 7500) for input KerasTensor(type_spec=TensorSpec(shape=(None, 21178, 7500), dtype=tf.float32, name='dense_218_input'), name='dense_218_input', description=\"created by layer 'dense_218_input'\"), but it was called on an input with incompatible shape (None, 7500).\n"
     ]
    },
    {
     "name": "stderr",
     "output_type": "stream",
     "text": [
      "WARNING:tensorflow:Model was constructed with shape (None, 21178, 7500) for input KerasTensor(type_spec=TensorSpec(shape=(None, 21178, 7500), dtype=tf.float32, name='dense_218_input'), name='dense_218_input', description=\"created by layer 'dense_218_input'\"), but it was called on an input with incompatible shape (None, 7500).\n"
     ]
    },
    {
     "name": "stdout",
     "output_type": "stream",
     "text": [
      "INFO:tensorflow:Assets written to: ./resources/checkpoints/baseline_150_50/assets\n"
     ]
    },
    {
     "name": "stderr",
     "output_type": "stream",
     "text": [
      "INFO:tensorflow:Assets written to: ./resources/checkpoints/baseline_150_50/assets\n"
     ]
    },
    {
     "name": "stdout",
     "output_type": "stream",
     "text": [
      "662/662 [==============================] - 2s 3ms/step - loss: 0.3217 - accuracy: 0.8640 - precision_79: 0.9274 - recall_79: 0.8176\n",
      "138/138 [==============================] - 0s 3ms/step - loss: 2.1352 - accuracy: 0.4550 - precision_79: 0.4784 - recall_79: 0.3905\n",
      "Model: \"sequential_80\"\n",
      "_________________________________________________________________\n",
      "Layer (type)                 Output Shape              Param #   \n",
      "=================================================================\n",
      "dense_220 (Dense)            (None, 21178, 3750)       28128750  \n",
      "_________________________________________________________________\n",
      "dropout_60 (Dropout)         (None, 21178, 3750)       0         \n",
      "_________________________________________________________________\n",
      "dense_221 (Dense)            (None, 21178, 3750)       14066250  \n",
      "_________________________________________________________________\n",
      "dropout_61 (Dropout)         (None, 21178, 3750)       0         \n",
      "_________________________________________________________________\n",
      "dense_222 (Dense)            (None, 21178, 3750)       14066250  \n",
      "_________________________________________________________________\n",
      "dropout_62 (Dropout)         (None, 21178, 3750)       0         \n",
      "_________________________________________________________________\n",
      "dense_223 (Dense)            (None, 21178, 3750)       14066250  \n",
      "_________________________________________________________________\n",
      "dense_224 (Dense)            (None, 21178, 4)          15004     \n",
      "=================================================================\n",
      "Total params: 70,342,504\n",
      "Trainable params: 70,342,504\n",
      "Non-trainable params: 0\n",
      "_________________________________________________________________\n",
      "WARNING:tensorflow:Model was constructed with shape (None, 21178, 7500) for input KerasTensor(type_spec=TensorSpec(shape=(None, 21178, 7500), dtype=tf.float32, name='dense_220_input'), name='dense_220_input', description=\"created by layer 'dense_220_input'\"), but it was called on an input with incompatible shape (None, 7500).\n"
     ]
    },
    {
     "name": "stderr",
     "output_type": "stream",
     "text": [
      "WARNING:tensorflow:Model was constructed with shape (None, 21178, 7500) for input KerasTensor(type_spec=TensorSpec(shape=(None, 21178, 7500), dtype=tf.float32, name='dense_220_input'), name='dense_220_input', description=\"created by layer 'dense_220_input'\"), but it was called on an input with incompatible shape (None, 7500).\n"
     ]
    },
    {
     "name": "stdout",
     "output_type": "stream",
     "text": [
      "WARNING:tensorflow:Model was constructed with shape (None, 21178, 7500) for input KerasTensor(type_spec=TensorSpec(shape=(None, 21178, 7500), dtype=tf.float32, name='dense_220_input'), name='dense_220_input', description=\"created by layer 'dense_220_input'\"), but it was called on an input with incompatible shape (None, 7500).\n"
     ]
    },
    {
     "name": "stderr",
     "output_type": "stream",
     "text": [
      "WARNING:tensorflow:Model was constructed with shape (None, 21178, 7500) for input KerasTensor(type_spec=TensorSpec(shape=(None, 21178, 7500), dtype=tf.float32, name='dense_220_input'), name='dense_220_input', description=\"created by layer 'dense_220_input'\"), but it was called on an input with incompatible shape (None, 7500).\n"
     ]
    },
    {
     "name": "stdout",
     "output_type": "stream",
     "text": [
      "WARNING:tensorflow:Model was constructed with shape (None, 21178, 7500) for input KerasTensor(type_spec=TensorSpec(shape=(None, 21178, 7500), dtype=tf.float32, name='dense_220_input'), name='dense_220_input', description=\"created by layer 'dense_220_input'\"), but it was called on an input with incompatible shape (None, 7500).\n"
     ]
    },
    {
     "name": "stderr",
     "output_type": "stream",
     "text": [
      "WARNING:tensorflow:Model was constructed with shape (None, 21178, 7500) for input KerasTensor(type_spec=TensorSpec(shape=(None, 21178, 7500), dtype=tf.float32, name='dense_220_input'), name='dense_220_input', description=\"created by layer 'dense_220_input'\"), but it was called on an input with incompatible shape (None, 7500).\n"
     ]
    },
    {
     "name": "stdout",
     "output_type": "stream",
     "text": [
      "INFO:tensorflow:Assets written to: ./resources/checkpoints/DeepFC_150_50/assets\n"
     ]
    },
    {
     "name": "stderr",
     "output_type": "stream",
     "text": [
      "INFO:tensorflow:Assets written to: ./resources/checkpoints/DeepFC_150_50/assets\n"
     ]
    },
    {
     "name": "stdout",
     "output_type": "stream",
     "text": [
      "INFO:tensorflow:Assets written to: ./resources/checkpoints/DeepFC_150_50/assets\n"
     ]
    },
    {
     "name": "stderr",
     "output_type": "stream",
     "text": [
      "INFO:tensorflow:Assets written to: ./resources/checkpoints/DeepFC_150_50/assets\n"
     ]
    },
    {
     "name": "stdout",
     "output_type": "stream",
     "text": [
      "INFO:tensorflow:Assets written to: ./resources/checkpoints/DeepFC_150_50/assets\n"
     ]
    },
    {
     "name": "stderr",
     "output_type": "stream",
     "text": [
      "INFO:tensorflow:Assets written to: ./resources/checkpoints/DeepFC_150_50/assets\n"
     ]
    },
    {
     "name": "stdout",
     "output_type": "stream",
     "text": [
      "662/662 [==============================] - 4s 6ms/step - loss: 0.3173 - accuracy: 0.8598 - precision_80: 0.9548 - recall_80: 0.7837\n",
      "138/138 [==============================] - 1s 6ms/step - loss: 2.5104 - accuracy: 0.4600 - precision_80: 0.4848 - recall_80: 0.3793\n",
      "Model: \"sequential_81\"\n",
      "_________________________________________________________________\n",
      "Layer (type)                 Output Shape              Param #   \n",
      "=================================================================\n",
      "simple_rnn_19 (SimpleRNN)    (None, 75)                16950     \n",
      "_________________________________________________________________\n",
      "flatten_38 (Flatten)         (None, 75)                0         \n",
      "_________________________________________________________________\n",
      "dense_225 (Dense)            (None, 3750)              285000    \n",
      "_________________________________________________________________\n",
      "dense_226 (Dense)            (None, 4)                 15004     \n",
      "=================================================================\n",
      "Total params: 316,954\n",
      "Trainable params: 316,954\n",
      "Non-trainable params: 0\n",
      "_________________________________________________________________\n",
      "INFO:tensorflow:Assets written to: ./resources/checkpoints/SimpleRNN_150_50/assets\n"
     ]
    },
    {
     "name": "stderr",
     "output_type": "stream",
     "text": [
      "INFO:tensorflow:Assets written to: ./resources/checkpoints/SimpleRNN_150_50/assets\n"
     ]
    },
    {
     "name": "stdout",
     "output_type": "stream",
     "text": [
      "INFO:tensorflow:Assets written to: ./resources/checkpoints/SimpleRNN_150_50/assets\n"
     ]
    },
    {
     "name": "stderr",
     "output_type": "stream",
     "text": [
      "INFO:tensorflow:Assets written to: ./resources/checkpoints/SimpleRNN_150_50/assets\n"
     ]
    },
    {
     "name": "stdout",
     "output_type": "stream",
     "text": [
      "INFO:tensorflow:Assets written to: ./resources/checkpoints/SimpleRNN_150_50/assets\n"
     ]
    },
    {
     "name": "stderr",
     "output_type": "stream",
     "text": [
      "INFO:tensorflow:Assets written to: ./resources/checkpoints/SimpleRNN_150_50/assets\n"
     ]
    },
    {
     "name": "stdout",
     "output_type": "stream",
     "text": [
      "INFO:tensorflow:Assets written to: ./resources/checkpoints/SimpleRNN_150_50/assets\n"
     ]
    },
    {
     "name": "stderr",
     "output_type": "stream",
     "text": [
      "INFO:tensorflow:Assets written to: ./resources/checkpoints/SimpleRNN_150_50/assets\n"
     ]
    },
    {
     "name": "stdout",
     "output_type": "stream",
     "text": [
      "INFO:tensorflow:Assets written to: ./resources/checkpoints/SimpleRNN_150_50/assets\n"
     ]
    },
    {
     "name": "stderr",
     "output_type": "stream",
     "text": [
      "INFO:tensorflow:Assets written to: ./resources/checkpoints/SimpleRNN_150_50/assets\n"
     ]
    },
    {
     "name": "stdout",
     "output_type": "stream",
     "text": [
      "INFO:tensorflow:Assets written to: ./resources/checkpoints/SimpleRNN_150_50/assets\n"
     ]
    },
    {
     "name": "stderr",
     "output_type": "stream",
     "text": [
      "INFO:tensorflow:Assets written to: ./resources/checkpoints/SimpleRNN_150_50/assets\n"
     ]
    },
    {
     "name": "stdout",
     "output_type": "stream",
     "text": [
      "662/662 [==============================] - 3s 5ms/step - loss: 1.2856 - accuracy: 0.4355 - precision_81: 0.5057 - recall_81: 0.0293\n",
      "138/138 [==============================] - 1s 5ms/step - loss: 1.2834 - accuracy: 0.4439 - precision_81: 0.5362 - recall_81: 0.0286\n",
      "Model: \"sequential_82\"\n",
      "_________________________________________________________________\n",
      "Layer (type)                 Output Shape              Param #   \n",
      "=================================================================\n",
      "lstm_19 (LSTM)               (None, 75)                67800     \n",
      "_________________________________________________________________\n",
      "flatten_39 (Flatten)         (None, 75)                0         \n",
      "_________________________________________________________________\n",
      "dense_227 (Dense)            (None, 3750)              285000    \n",
      "_________________________________________________________________\n",
      "dense_228 (Dense)            (None, 4)                 15004     \n",
      "=================================================================\n",
      "Total params: 367,804\n",
      "Trainable params: 367,804\n",
      "Non-trainable params: 0\n",
      "_________________________________________________________________\n"
     ]
    },
    {
     "name": "stderr",
     "output_type": "stream",
     "text": [
      "WARNING:absl:Found untraced functions such as lstm_cell_19_layer_call_and_return_conditional_losses, lstm_cell_19_layer_call_fn, lstm_cell_19_layer_call_fn, lstm_cell_19_layer_call_and_return_conditional_losses, lstm_cell_19_layer_call_and_return_conditional_losses while saving (showing 5 of 5). These functions will not be directly callable after loading.\n",
      "WARNING:absl:Found untraced functions such as lstm_cell_19_layer_call_and_return_conditional_losses, lstm_cell_19_layer_call_fn, lstm_cell_19_layer_call_fn, lstm_cell_19_layer_call_and_return_conditional_losses, lstm_cell_19_layer_call_and_return_conditional_losses while saving (showing 5 of 5). These functions will not be directly callable after loading.\n"
     ]
    },
    {
     "name": "stdout",
     "output_type": "stream",
     "text": [
      "INFO:tensorflow:Assets written to: ./resources/checkpoints/LSTM_150_50/assets\n"
     ]
    },
    {
     "name": "stderr",
     "output_type": "stream",
     "text": [
      "INFO:tensorflow:Assets written to: ./resources/checkpoints/LSTM_150_50/assets\n",
      "WARNING:absl:Found untraced functions such as lstm_cell_19_layer_call_and_return_conditional_losses, lstm_cell_19_layer_call_fn, lstm_cell_19_layer_call_fn, lstm_cell_19_layer_call_and_return_conditional_losses, lstm_cell_19_layer_call_and_return_conditional_losses while saving (showing 5 of 5). These functions will not be directly callable after loading.\n",
      "WARNING:absl:Found untraced functions such as lstm_cell_19_layer_call_and_return_conditional_losses, lstm_cell_19_layer_call_fn, lstm_cell_19_layer_call_fn, lstm_cell_19_layer_call_and_return_conditional_losses, lstm_cell_19_layer_call_and_return_conditional_losses while saving (showing 5 of 5). These functions will not be directly callable after loading.\n"
     ]
    },
    {
     "name": "stdout",
     "output_type": "stream",
     "text": [
      "INFO:tensorflow:Assets written to: ./resources/checkpoints/LSTM_150_50/assets\n"
     ]
    },
    {
     "name": "stderr",
     "output_type": "stream",
     "text": [
      "INFO:tensorflow:Assets written to: ./resources/checkpoints/LSTM_150_50/assets\n",
      "WARNING:absl:Found untraced functions such as lstm_cell_19_layer_call_and_return_conditional_losses, lstm_cell_19_layer_call_fn, lstm_cell_19_layer_call_fn, lstm_cell_19_layer_call_and_return_conditional_losses, lstm_cell_19_layer_call_and_return_conditional_losses while saving (showing 5 of 5). These functions will not be directly callable after loading.\n",
      "WARNING:absl:Found untraced functions such as lstm_cell_19_layer_call_and_return_conditional_losses, lstm_cell_19_layer_call_fn, lstm_cell_19_layer_call_fn, lstm_cell_19_layer_call_and_return_conditional_losses, lstm_cell_19_layer_call_and_return_conditional_losses while saving (showing 5 of 5). These functions will not be directly callable after loading.\n"
     ]
    },
    {
     "name": "stdout",
     "output_type": "stream",
     "text": [
      "INFO:tensorflow:Assets written to: ./resources/checkpoints/LSTM_150_50/assets\n"
     ]
    },
    {
     "name": "stderr",
     "output_type": "stream",
     "text": [
      "INFO:tensorflow:Assets written to: ./resources/checkpoints/LSTM_150_50/assets\n",
      "WARNING:absl:Found untraced functions such as lstm_cell_19_layer_call_and_return_conditional_losses, lstm_cell_19_layer_call_fn, lstm_cell_19_layer_call_fn, lstm_cell_19_layer_call_and_return_conditional_losses, lstm_cell_19_layer_call_and_return_conditional_losses while saving (showing 5 of 5). These functions will not be directly callable after loading.\n",
      "WARNING:absl:Found untraced functions such as lstm_cell_19_layer_call_and_return_conditional_losses, lstm_cell_19_layer_call_fn, lstm_cell_19_layer_call_fn, lstm_cell_19_layer_call_and_return_conditional_losses, lstm_cell_19_layer_call_and_return_conditional_losses while saving (showing 5 of 5). These functions will not be directly callable after loading.\n"
     ]
    },
    {
     "name": "stdout",
     "output_type": "stream",
     "text": [
      "INFO:tensorflow:Assets written to: ./resources/checkpoints/LSTM_150_50/assets\n"
     ]
    },
    {
     "name": "stderr",
     "output_type": "stream",
     "text": [
      "INFO:tensorflow:Assets written to: ./resources/checkpoints/LSTM_150_50/assets\n",
      "WARNING:absl:Found untraced functions such as lstm_cell_19_layer_call_and_return_conditional_losses, lstm_cell_19_layer_call_fn, lstm_cell_19_layer_call_fn, lstm_cell_19_layer_call_and_return_conditional_losses, lstm_cell_19_layer_call_and_return_conditional_losses while saving (showing 5 of 5). These functions will not be directly callable after loading.\n",
      "WARNING:absl:Found untraced functions such as lstm_cell_19_layer_call_and_return_conditional_losses, lstm_cell_19_layer_call_fn, lstm_cell_19_layer_call_fn, lstm_cell_19_layer_call_and_return_conditional_losses, lstm_cell_19_layer_call_and_return_conditional_losses while saving (showing 5 of 5). These functions will not be directly callable after loading.\n"
     ]
    },
    {
     "name": "stdout",
     "output_type": "stream",
     "text": [
      "INFO:tensorflow:Assets written to: ./resources/checkpoints/LSTM_150_50/assets\n"
     ]
    },
    {
     "name": "stderr",
     "output_type": "stream",
     "text": [
      "INFO:tensorflow:Assets written to: ./resources/checkpoints/LSTM_150_50/assets\n",
      "WARNING:absl:Found untraced functions such as lstm_cell_19_layer_call_and_return_conditional_losses, lstm_cell_19_layer_call_fn, lstm_cell_19_layer_call_fn, lstm_cell_19_layer_call_and_return_conditional_losses, lstm_cell_19_layer_call_and_return_conditional_losses while saving (showing 5 of 5). These functions will not be directly callable after loading.\n",
      "WARNING:absl:Found untraced functions such as lstm_cell_19_layer_call_and_return_conditional_losses, lstm_cell_19_layer_call_fn, lstm_cell_19_layer_call_fn, lstm_cell_19_layer_call_and_return_conditional_losses, lstm_cell_19_layer_call_and_return_conditional_losses while saving (showing 5 of 5). These functions will not be directly callable after loading.\n"
     ]
    },
    {
     "name": "stdout",
     "output_type": "stream",
     "text": [
      "INFO:tensorflow:Assets written to: ./resources/checkpoints/LSTM_150_50/assets\n"
     ]
    },
    {
     "name": "stderr",
     "output_type": "stream",
     "text": [
      "INFO:tensorflow:Assets written to: ./resources/checkpoints/LSTM_150_50/assets\n",
      "WARNING:absl:Found untraced functions such as lstm_cell_19_layer_call_and_return_conditional_losses, lstm_cell_19_layer_call_fn, lstm_cell_19_layer_call_fn, lstm_cell_19_layer_call_and_return_conditional_losses, lstm_cell_19_layer_call_and_return_conditional_losses while saving (showing 5 of 5). These functions will not be directly callable after loading.\n",
      "WARNING:absl:Found untraced functions such as lstm_cell_19_layer_call_and_return_conditional_losses, lstm_cell_19_layer_call_fn, lstm_cell_19_layer_call_fn, lstm_cell_19_layer_call_and_return_conditional_losses, lstm_cell_19_layer_call_and_return_conditional_losses while saving (showing 5 of 5). These functions will not be directly callable after loading.\n"
     ]
    },
    {
     "name": "stdout",
     "output_type": "stream",
     "text": [
      "INFO:tensorflow:Assets written to: ./resources/checkpoints/LSTM_150_50/assets\n"
     ]
    },
    {
     "name": "stderr",
     "output_type": "stream",
     "text": [
      "INFO:tensorflow:Assets written to: ./resources/checkpoints/LSTM_150_50/assets\n",
      "WARNING:absl:Found untraced functions such as lstm_cell_19_layer_call_and_return_conditional_losses, lstm_cell_19_layer_call_fn, lstm_cell_19_layer_call_fn, lstm_cell_19_layer_call_and_return_conditional_losses, lstm_cell_19_layer_call_and_return_conditional_losses while saving (showing 5 of 5). These functions will not be directly callable after loading.\n",
      "WARNING:absl:Found untraced functions such as lstm_cell_19_layer_call_and_return_conditional_losses, lstm_cell_19_layer_call_fn, lstm_cell_19_layer_call_fn, lstm_cell_19_layer_call_and_return_conditional_losses, lstm_cell_19_layer_call_and_return_conditional_losses while saving (showing 5 of 5). These functions will not be directly callable after loading.\n"
     ]
    },
    {
     "name": "stdout",
     "output_type": "stream",
     "text": [
      "INFO:tensorflow:Assets written to: ./resources/checkpoints/LSTM_150_50/assets\n"
     ]
    },
    {
     "name": "stderr",
     "output_type": "stream",
     "text": [
      "INFO:tensorflow:Assets written to: ./resources/checkpoints/LSTM_150_50/assets\n"
     ]
    },
    {
     "name": "stdout",
     "output_type": "stream",
     "text": [
      "662/662 [==============================] - 2s 3ms/step - loss: 0.8851 - accuracy: 0.6241 - precision_82: 0.7543 - recall_82: 0.4559\n",
      "138/138 [==============================] - 0s 3ms/step - loss: 1.2339 - accuracy: 0.4686 - precision_82: 0.5585 - recall_82: 0.3234\n"
     ]
    }
   ],
   "source": [
    "SEQ_LEN_ = [10,30,50]\n",
    "EM_SIZE_ = [15,75,150]\n",
    "MODEL_TYPES_ = ['baseline','DeepFC', 'SimpleRNN', 'LSTM']\n",
    "metrics_df = pd.DataFrame()\n",
    "histories = []\n",
    "for seq_len in SEQ_LEN_:\n",
    "    for em_size in EM_SIZE_:\n",
    "        for model_type in MODEL_TYPES_:\n",
    "            model_results, history = train_val_model('simpson', em_size, seq_len, model_type, 20)\n",
    "            metrics_df = pd.concat([metrics_df, model_results])\n",
    "            histories.append(history)"
   ]
  },
  {
   "cell_type": "code",
   "execution_count": 42,
   "metadata": {},
   "outputs": [
    {
     "data": {
      "text/html": [
       "<div>\n",
       "<style scoped>\n",
       "    .dataframe tbody tr th:only-of-type {\n",
       "        vertical-align: middle;\n",
       "    }\n",
       "\n",
       "    .dataframe tbody tr th {\n",
       "        vertical-align: top;\n",
       "    }\n",
       "\n",
       "    .dataframe thead th {\n",
       "        text-align: right;\n",
       "    }\n",
       "</style>\n",
       "<table border=\"1\" class=\"dataframe\">\n",
       "  <thead>\n",
       "    <tr style=\"text-align: right;\">\n",
       "      <th></th>\n",
       "      <th>model_name</th>\n",
       "      <th>embedding_size</th>\n",
       "      <th>seq_len</th>\n",
       "      <th>train_accuracy</th>\n",
       "      <th>train_precision</th>\n",
       "      <th>train_recall</th>\n",
       "      <th>val_accuracy</th>\n",
       "      <th>val_precision</th>\n",
       "      <th>val_recall</th>\n",
       "    </tr>\n",
       "  </thead>\n",
       "  <tbody>\n",
       "    <tr>\n",
       "      <th>0</th>\n",
       "      <td>baseline</td>\n",
       "      <td>15</td>\n",
       "      <td>8</td>\n",
       "      <td>0.579375</td>\n",
       "      <td>0.715433</td>\n",
       "      <td>0.403863</td>\n",
       "      <td>0.434091</td>\n",
       "      <td>0.484565</td>\n",
       "      <td>0.271136</td>\n",
       "    </tr>\n",
       "    <tr>\n",
       "      <th>0</th>\n",
       "      <td>DeepFC</td>\n",
       "      <td>15</td>\n",
       "      <td>8</td>\n",
       "      <td>0.579658</td>\n",
       "      <td>0.782950</td>\n",
       "      <td>0.320049</td>\n",
       "      <td>0.455000</td>\n",
       "      <td>0.536005</td>\n",
       "      <td>0.209773</td>\n",
       "    </tr>\n",
       "    <tr>\n",
       "      <th>0</th>\n",
       "      <td>SimpleRNN</td>\n",
       "      <td>15</td>\n",
       "      <td>8</td>\n",
       "      <td>0.621966</td>\n",
       "      <td>0.756382</td>\n",
       "      <td>0.453301</td>\n",
       "      <td>0.436364</td>\n",
       "      <td>0.500805</td>\n",
       "      <td>0.282727</td>\n",
       "    </tr>\n",
       "    <tr>\n",
       "      <th>0</th>\n",
       "      <td>LSTM</td>\n",
       "      <td>15</td>\n",
       "      <td>8</td>\n",
       "      <td>0.693503</td>\n",
       "      <td>0.836223</td>\n",
       "      <td>0.546558</td>\n",
       "      <td>0.443182</td>\n",
       "      <td>0.492690</td>\n",
       "      <td>0.306364</td>\n",
       "    </tr>\n",
       "    <tr>\n",
       "      <th>0</th>\n",
       "      <td>baseline</td>\n",
       "      <td>75</td>\n",
       "      <td>8</td>\n",
       "      <td>0.865710</td>\n",
       "      <td>0.922301</td>\n",
       "      <td>0.824488</td>\n",
       "      <td>0.435455</td>\n",
       "      <td>0.451613</td>\n",
       "      <td>0.381818</td>\n",
       "    </tr>\n",
       "    <tr>\n",
       "      <th>0</th>\n",
       "      <td>DeepFC</td>\n",
       "      <td>75</td>\n",
       "      <td>8</td>\n",
       "      <td>0.863302</td>\n",
       "      <td>0.952465</td>\n",
       "      <td>0.790962</td>\n",
       "      <td>0.458636</td>\n",
       "      <td>0.471264</td>\n",
       "      <td>0.372727</td>\n",
       "    </tr>\n",
       "    <tr>\n",
       "      <th>0</th>\n",
       "      <td>SimpleRNN</td>\n",
       "      <td>75</td>\n",
       "      <td>8</td>\n",
       "      <td>0.794693</td>\n",
       "      <td>0.876788</td>\n",
       "      <td>0.708990</td>\n",
       "      <td>0.436591</td>\n",
       "      <td>0.466250</td>\n",
       "      <td>0.356364</td>\n",
       "    </tr>\n",
       "    <tr>\n",
       "      <th>0</th>\n",
       "      <td>LSTM</td>\n",
       "      <td>75</td>\n",
       "      <td>8</td>\n",
       "      <td>0.794220</td>\n",
       "      <td>0.909440</td>\n",
       "      <td>0.693267</td>\n",
       "      <td>0.469318</td>\n",
       "      <td>0.502146</td>\n",
       "      <td>0.372273</td>\n",
       "    </tr>\n",
       "    <tr>\n",
       "      <th>0</th>\n",
       "      <td>baseline</td>\n",
       "      <td>150</td>\n",
       "      <td>8</td>\n",
       "      <td>0.866418</td>\n",
       "      <td>0.929708</td>\n",
       "      <td>0.822504</td>\n",
       "      <td>0.450909</td>\n",
       "      <td>0.476847</td>\n",
       "      <td>0.393182</td>\n",
       "    </tr>\n",
       "    <tr>\n",
       "      <th>0</th>\n",
       "      <td>DeepFC</td>\n",
       "      <td>150</td>\n",
       "      <td>8</td>\n",
       "      <td>0.864765</td>\n",
       "      <td>0.952550</td>\n",
       "      <td>0.798140</td>\n",
       "      <td>0.455909</td>\n",
       "      <td>0.477100</td>\n",
       "      <td>0.385909</td>\n",
       "    </tr>\n",
       "    <tr>\n",
       "      <th>0</th>\n",
       "      <td>SimpleRNN</td>\n",
       "      <td>150</td>\n",
       "      <td>8</td>\n",
       "      <td>0.827840</td>\n",
       "      <td>0.893934</td>\n",
       "      <td>0.768864</td>\n",
       "      <td>0.439318</td>\n",
       "      <td>0.460335</td>\n",
       "      <td>0.374545</td>\n",
       "    </tr>\n",
       "    <tr>\n",
       "      <th>0</th>\n",
       "      <td>LSTM</td>\n",
       "      <td>150</td>\n",
       "      <td>8</td>\n",
       "      <td>0.819294</td>\n",
       "      <td>0.933900</td>\n",
       "      <td>0.721173</td>\n",
       "      <td>0.465909</td>\n",
       "      <td>0.496348</td>\n",
       "      <td>0.370682</td>\n",
       "    </tr>\n",
       "    <tr>\n",
       "      <th>0</th>\n",
       "      <td>baseline</td>\n",
       "      <td>15</td>\n",
       "      <td>11</td>\n",
       "      <td>0.619180</td>\n",
       "      <td>0.768481</td>\n",
       "      <td>0.443243</td>\n",
       "      <td>0.436818</td>\n",
       "      <td>0.492659</td>\n",
       "      <td>0.274545</td>\n",
       "    </tr>\n",
       "    <tr>\n",
       "      <th>0</th>\n",
       "      <td>DeepFC</td>\n",
       "      <td>15</td>\n",
       "      <td>11</td>\n",
       "      <td>0.613845</td>\n",
       "      <td>0.823776</td>\n",
       "      <td>0.361554</td>\n",
       "      <td>0.461136</td>\n",
       "      <td>0.553905</td>\n",
       "      <td>0.228864</td>\n",
       "    </tr>\n",
       "    <tr>\n",
       "      <th>0</th>\n",
       "      <td>SimpleRNN</td>\n",
       "      <td>15</td>\n",
       "      <td>11</td>\n",
       "      <td>0.611484</td>\n",
       "      <td>0.751870</td>\n",
       "      <td>0.422372</td>\n",
       "      <td>0.436818</td>\n",
       "      <td>0.493093</td>\n",
       "      <td>0.267727</td>\n",
       "    </tr>\n",
       "    <tr>\n",
       "      <th>0</th>\n",
       "      <td>LSTM</td>\n",
       "      <td>15</td>\n",
       "      <td>11</td>\n",
       "      <td>0.647087</td>\n",
       "      <td>0.810981</td>\n",
       "      <td>0.461706</td>\n",
       "      <td>0.455909</td>\n",
       "      <td>0.509228</td>\n",
       "      <td>0.275909</td>\n",
       "    </tr>\n",
       "    <tr>\n",
       "      <th>0</th>\n",
       "      <td>baseline</td>\n",
       "      <td>75</td>\n",
       "      <td>11</td>\n",
       "      <td>0.864860</td>\n",
       "      <td>0.930151</td>\n",
       "      <td>0.816177</td>\n",
       "      <td>0.436818</td>\n",
       "      <td>0.455347</td>\n",
       "      <td>0.375455</td>\n",
       "    </tr>\n",
       "    <tr>\n",
       "      <th>0</th>\n",
       "      <td>DeepFC</td>\n",
       "      <td>75</td>\n",
       "      <td>11</td>\n",
       "      <td>0.864388</td>\n",
       "      <td>0.948632</td>\n",
       "      <td>0.798753</td>\n",
       "      <td>0.457955</td>\n",
       "      <td>0.475811</td>\n",
       "      <td>0.380000</td>\n",
       "    </tr>\n",
       "    <tr>\n",
       "      <th>0</th>\n",
       "      <td>SimpleRNN</td>\n",
       "      <td>75</td>\n",
       "      <td>11</td>\n",
       "      <td>0.764284</td>\n",
       "      <td>0.870375</td>\n",
       "      <td>0.655350</td>\n",
       "      <td>0.417500</td>\n",
       "      <td>0.454371</td>\n",
       "      <td>0.323636</td>\n",
       "    </tr>\n",
       "    <tr>\n",
       "      <th>0</th>\n",
       "      <td>LSTM</td>\n",
       "      <td>75</td>\n",
       "      <td>11</td>\n",
       "      <td>0.763150</td>\n",
       "      <td>0.888010</td>\n",
       "      <td>0.652233</td>\n",
       "      <td>0.475000</td>\n",
       "      <td>0.507977</td>\n",
       "      <td>0.361818</td>\n",
       "    </tr>\n",
       "    <tr>\n",
       "      <th>0</th>\n",
       "      <td>baseline</td>\n",
       "      <td>150</td>\n",
       "      <td>11</td>\n",
       "      <td>0.868259</td>\n",
       "      <td>0.925091</td>\n",
       "      <td>0.825715</td>\n",
       "      <td>0.462045</td>\n",
       "      <td>0.484873</td>\n",
       "      <td>0.407955</td>\n",
       "    </tr>\n",
       "    <tr>\n",
       "      <th>0</th>\n",
       "      <td>DeepFC</td>\n",
       "      <td>150</td>\n",
       "      <td>11</td>\n",
       "      <td>0.861271</td>\n",
       "      <td>0.943291</td>\n",
       "      <td>0.800359</td>\n",
       "      <td>0.457500</td>\n",
       "      <td>0.472631</td>\n",
       "      <td>0.386591</td>\n",
       "    </tr>\n",
       "    <tr>\n",
       "      <th>0</th>\n",
       "      <td>SimpleRNN</td>\n",
       "      <td>150</td>\n",
       "      <td>11</td>\n",
       "      <td>0.796534</td>\n",
       "      <td>0.889542</td>\n",
       "      <td>0.700066</td>\n",
       "      <td>0.428409</td>\n",
       "      <td>0.454629</td>\n",
       "      <td>0.335909</td>\n",
       "    </tr>\n",
       "    <tr>\n",
       "      <th>0</th>\n",
       "      <td>LSTM</td>\n",
       "      <td>150</td>\n",
       "      <td>11</td>\n",
       "      <td>0.797573</td>\n",
       "      <td>0.913871</td>\n",
       "      <td>0.702427</td>\n",
       "      <td>0.463409</td>\n",
       "      <td>0.489691</td>\n",
       "      <td>0.367045</td>\n",
       "    </tr>\n",
       "    <tr>\n",
       "      <th>0</th>\n",
       "      <td>baseline</td>\n",
       "      <td>15</td>\n",
       "      <td>16</td>\n",
       "      <td>0.663188</td>\n",
       "      <td>0.796586</td>\n",
       "      <td>0.511285</td>\n",
       "      <td>0.432500</td>\n",
       "      <td>0.478909</td>\n",
       "      <td>0.299318</td>\n",
       "    </tr>\n",
       "    <tr>\n",
       "      <th>0</th>\n",
       "      <td>DeepFC</td>\n",
       "      <td>15</td>\n",
       "      <td>16</td>\n",
       "      <td>0.669185</td>\n",
       "      <td>0.855155</td>\n",
       "      <td>0.467230</td>\n",
       "      <td>0.460455</td>\n",
       "      <td>0.520213</td>\n",
       "      <td>0.266136</td>\n",
       "    </tr>\n",
       "    <tr>\n",
       "      <th>0</th>\n",
       "      <td>SimpleRNN</td>\n",
       "      <td>15</td>\n",
       "      <td>16</td>\n",
       "      <td>0.560771</td>\n",
       "      <td>0.692699</td>\n",
       "      <td>0.366465</td>\n",
       "      <td>0.460000</td>\n",
       "      <td>0.524533</td>\n",
       "      <td>0.274545</td>\n",
       "    </tr>\n",
       "    <tr>\n",
       "      <th>0</th>\n",
       "      <td>LSTM</td>\n",
       "      <td>15</td>\n",
       "      <td>16</td>\n",
       "      <td>0.614175</td>\n",
       "      <td>0.771219</td>\n",
       "      <td>0.436774</td>\n",
       "      <td>0.480909</td>\n",
       "      <td>0.533417</td>\n",
       "      <td>0.288409</td>\n",
       "    </tr>\n",
       "    <tr>\n",
       "      <th>0</th>\n",
       "      <td>baseline</td>\n",
       "      <td>75</td>\n",
       "      <td>16</td>\n",
       "      <td>0.865285</td>\n",
       "      <td>0.934216</td>\n",
       "      <td>0.813391</td>\n",
       "      <td>0.439318</td>\n",
       "      <td>0.461388</td>\n",
       "      <td>0.376136</td>\n",
       "    </tr>\n",
       "    <tr>\n",
       "      <th>0</th>\n",
       "      <td>DeepFC</td>\n",
       "      <td>75</td>\n",
       "      <td>16</td>\n",
       "      <td>0.863065</td>\n",
       "      <td>0.945113</td>\n",
       "      <td>0.800878</td>\n",
       "      <td>0.457500</td>\n",
       "      <td>0.477657</td>\n",
       "      <td>0.391136</td>\n",
       "    </tr>\n",
       "    <tr>\n",
       "      <th>0</th>\n",
       "      <td>SimpleRNN</td>\n",
       "      <td>75</td>\n",
       "      <td>16</td>\n",
       "      <td>0.681509</td>\n",
       "      <td>0.822230</td>\n",
       "      <td>0.522193</td>\n",
       "      <td>0.433864</td>\n",
       "      <td>0.496951</td>\n",
       "      <td>0.296364</td>\n",
       "    </tr>\n",
       "    <tr>\n",
       "      <th>0</th>\n",
       "      <td>LSTM</td>\n",
       "      <td>75</td>\n",
       "      <td>16</td>\n",
       "      <td>0.739683</td>\n",
       "      <td>0.851896</td>\n",
       "      <td>0.640712</td>\n",
       "      <td>0.489773</td>\n",
       "      <td>0.524015</td>\n",
       "      <td>0.386818</td>\n",
       "    </tr>\n",
       "    <tr>\n",
       "      <th>0</th>\n",
       "      <td>baseline</td>\n",
       "      <td>150</td>\n",
       "      <td>16</td>\n",
       "      <td>0.869251</td>\n",
       "      <td>0.929885</td>\n",
       "      <td>0.823496</td>\n",
       "      <td>0.458182</td>\n",
       "      <td>0.477961</td>\n",
       "      <td>0.394318</td>\n",
       "    </tr>\n",
       "    <tr>\n",
       "      <th>0</th>\n",
       "      <td>DeepFC</td>\n",
       "      <td>150</td>\n",
       "      <td>16</td>\n",
       "      <td>0.863443</td>\n",
       "      <td>0.948280</td>\n",
       "      <td>0.799084</td>\n",
       "      <td>0.456364</td>\n",
       "      <td>0.475256</td>\n",
       "      <td>0.379773</td>\n",
       "    </tr>\n",
       "    <tr>\n",
       "      <th>0</th>\n",
       "      <td>SimpleRNN</td>\n",
       "      <td>150</td>\n",
       "      <td>16</td>\n",
       "      <td>0.758476</td>\n",
       "      <td>0.866142</td>\n",
       "      <td>0.659647</td>\n",
       "      <td>0.454545</td>\n",
       "      <td>0.498591</td>\n",
       "      <td>0.361818</td>\n",
       "    </tr>\n",
       "    <tr>\n",
       "      <th>0</th>\n",
       "      <td>LSTM</td>\n",
       "      <td>150</td>\n",
       "      <td>16</td>\n",
       "      <td>0.795731</td>\n",
       "      <td>0.900256</td>\n",
       "      <td>0.713429</td>\n",
       "      <td>0.470682</td>\n",
       "      <td>0.504563</td>\n",
       "      <td>0.389545</td>\n",
       "    </tr>\n",
       "  </tbody>\n",
       "</table>\n",
       "</div>"
      ],
      "text/plain": [
       "  model_name  embedding_size  seq_len  train_accuracy  train_precision  \\\n",
       "0   baseline              15        8        0.579375         0.715433   \n",
       "0     DeepFC              15        8        0.579658         0.782950   \n",
       "0  SimpleRNN              15        8        0.621966         0.756382   \n",
       "0       LSTM              15        8        0.693503         0.836223   \n",
       "0   baseline              75        8        0.865710         0.922301   \n",
       "0     DeepFC              75        8        0.863302         0.952465   \n",
       "0  SimpleRNN              75        8        0.794693         0.876788   \n",
       "0       LSTM              75        8        0.794220         0.909440   \n",
       "0   baseline             150        8        0.866418         0.929708   \n",
       "0     DeepFC             150        8        0.864765         0.952550   \n",
       "0  SimpleRNN             150        8        0.827840         0.893934   \n",
       "0       LSTM             150        8        0.819294         0.933900   \n",
       "0   baseline              15       11        0.619180         0.768481   \n",
       "0     DeepFC              15       11        0.613845         0.823776   \n",
       "0  SimpleRNN              15       11        0.611484         0.751870   \n",
       "0       LSTM              15       11        0.647087         0.810981   \n",
       "0   baseline              75       11        0.864860         0.930151   \n",
       "0     DeepFC              75       11        0.864388         0.948632   \n",
       "0  SimpleRNN              75       11        0.764284         0.870375   \n",
       "0       LSTM              75       11        0.763150         0.888010   \n",
       "0   baseline             150       11        0.868259         0.925091   \n",
       "0     DeepFC             150       11        0.861271         0.943291   \n",
       "0  SimpleRNN             150       11        0.796534         0.889542   \n",
       "0       LSTM             150       11        0.797573         0.913871   \n",
       "0   baseline              15       16        0.663188         0.796586   \n",
       "0     DeepFC              15       16        0.669185         0.855155   \n",
       "0  SimpleRNN              15       16        0.560771         0.692699   \n",
       "0       LSTM              15       16        0.614175         0.771219   \n",
       "0   baseline              75       16        0.865285         0.934216   \n",
       "0     DeepFC              75       16        0.863065         0.945113   \n",
       "0  SimpleRNN              75       16        0.681509         0.822230   \n",
       "0       LSTM              75       16        0.739683         0.851896   \n",
       "0   baseline             150       16        0.869251         0.929885   \n",
       "0     DeepFC             150       16        0.863443         0.948280   \n",
       "0  SimpleRNN             150       16        0.758476         0.866142   \n",
       "0       LSTM             150       16        0.795731         0.900256   \n",
       "\n",
       "   train_recall  val_accuracy  val_precision  val_recall  \n",
       "0      0.403863      0.434091       0.484565    0.271136  \n",
       "0      0.320049      0.455000       0.536005    0.209773  \n",
       "0      0.453301      0.436364       0.500805    0.282727  \n",
       "0      0.546558      0.443182       0.492690    0.306364  \n",
       "0      0.824488      0.435455       0.451613    0.381818  \n",
       "0      0.790962      0.458636       0.471264    0.372727  \n",
       "0      0.708990      0.436591       0.466250    0.356364  \n",
       "0      0.693267      0.469318       0.502146    0.372273  \n",
       "0      0.822504      0.450909       0.476847    0.393182  \n",
       "0      0.798140      0.455909       0.477100    0.385909  \n",
       "0      0.768864      0.439318       0.460335    0.374545  \n",
       "0      0.721173      0.465909       0.496348    0.370682  \n",
       "0      0.443243      0.436818       0.492659    0.274545  \n",
       "0      0.361554      0.461136       0.553905    0.228864  \n",
       "0      0.422372      0.436818       0.493093    0.267727  \n",
       "0      0.461706      0.455909       0.509228    0.275909  \n",
       "0      0.816177      0.436818       0.455347    0.375455  \n",
       "0      0.798753      0.457955       0.475811    0.380000  \n",
       "0      0.655350      0.417500       0.454371    0.323636  \n",
       "0      0.652233      0.475000       0.507977    0.361818  \n",
       "0      0.825715      0.462045       0.484873    0.407955  \n",
       "0      0.800359      0.457500       0.472631    0.386591  \n",
       "0      0.700066      0.428409       0.454629    0.335909  \n",
       "0      0.702427      0.463409       0.489691    0.367045  \n",
       "0      0.511285      0.432500       0.478909    0.299318  \n",
       "0      0.467230      0.460455       0.520213    0.266136  \n",
       "0      0.366465      0.460000       0.524533    0.274545  \n",
       "0      0.436774      0.480909       0.533417    0.288409  \n",
       "0      0.813391      0.439318       0.461388    0.376136  \n",
       "0      0.800878      0.457500       0.477657    0.391136  \n",
       "0      0.522193      0.433864       0.496951    0.296364  \n",
       "0      0.640712      0.489773       0.524015    0.386818  \n",
       "0      0.823496      0.458182       0.477961    0.394318  \n",
       "0      0.799084      0.456364       0.475256    0.379773  \n",
       "0      0.659647      0.454545       0.498591    0.361818  \n",
       "0      0.713429      0.470682       0.504563    0.389545  "
      ]
     },
     "execution_count": 42,
     "metadata": {},
     "output_type": "execute_result"
    }
   ],
   "source": [
    "metrics_df"
   ]
  },
  {
   "cell_type": "code",
   "execution_count": 41,
   "metadata": {
    "scrolled": true
   },
   "outputs": [
    {
     "ename": "IndentationError",
     "evalue": "unexpected indent (<ipython-input-41-7985f6b8b15d>, line 8)",
     "output_type": "error",
     "traceback": [
      "\u001b[0;36m  File \u001b[0;32m\"<ipython-input-41-7985f6b8b15d>\"\u001b[0;36m, line \u001b[0;32m8\u001b[0m\n\u001b[0;31m    model_results, history = train_val_model('friends', em_size, seq_len, model_type, 1000)\u001b[0m\n\u001b[0m    ^\u001b[0m\n\u001b[0;31mIndentationError\u001b[0m\u001b[0;31m:\u001b[0m unexpected indent\n"
     ]
    }
   ],
   "source": [
    "SEQ_LEN_ = [8, 15, 25, 30, 50]\n",
    "EM_SIZE_ = [5, 25, 125]\n",
    "MODEL_TYPES_ = ['baseline','DeepFC', 'SimpleRNN', 'LSTM']\n",
    "metrics_df1 = pd.DataFrame()\n",
    "for seq_len in SEQ_LEN_:\n",
    "    for em_size in EM_SIZE_:\n",
    "        for model_type in MODEL_TYPES_:\n",
    "            model_results, history = train_val_model('friends', em_size, seq_len, model_type, 20)\n",
    "            metrics_df1 = pd.concat([metrics_df1, model_results])\n",
    "            histories.append(history)"
   ]
  }
 ],
 "metadata": {
  "kernelspec": {
   "display_name": "Python 3",
   "language": "python",
   "name": "python3"
  },
  "language_info": {
   "codemirror_mode": {
    "name": "ipython",
    "version": 3
   },
   "file_extension": ".py",
   "mimetype": "text/x-python",
   "name": "python",
   "nbconvert_exporter": "python",
   "pygments_lexer": "ipython3",
   "version": "3.6.9"
  }
 },
 "nbformat": 4,
 "nbformat_minor": 2
}
